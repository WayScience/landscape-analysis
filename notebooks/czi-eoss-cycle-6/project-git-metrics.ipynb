{
 "cells": [
  {
   "cell_type": "markdown",
   "id": "8f88d59f-3c0d-4d33-908e-0381578065dd",
   "metadata": {},
   "source": [
    "# Project Git Metrics for Landscape Analysis\n",
    "\n",
    "Project git metrics for landscape analysis as part of [CZI EOSS Cycle 6](https://chanzuckerberg.com/rfa/essential-open-source-software-for-science/).\n",
    "\n",
    "## Setup\n",
    "\n",
    "Set an environment variable named `LANDSCAPE_ANALYSIS_GH_TOKEN` to a [GitHub access token](https://docs.github.com/en/authentication/keeping-your-account-and-data-secure/managing-your-personal-access-tokens). E.g.: `export LANDSCAPE_ANALYSIS_GH_TOKEN=token_here`"
   ]
  },
  {
   "cell_type": "code",
   "execution_count": null,
   "id": "fef169d9-a9ce-4b80-af16-92b02375e24a",
   "metadata": {},
   "outputs": [],
   "source": [
    "import os\n",
    "from datetime import datetime\n",
    "\n",
    "import pandas as pd\n",
    "import pytz\n",
    "from box import Box\n",
    "from github import Auth, Github\n",
    "\n",
    "# set github authorization and client\n",
    "github_client = Github(\n",
    "    auth=Auth.Token(os.environ.get(\"LANDSCAPE_ANALYSIS_GH_TOKEN\")), per_page=100\n",
    ")\n",
    "# get the current datetime\n",
    "tz = pytz.timezone(\"UTC\")\n",
    "current_datetime = datetime.now(tz)"
   ]
  },
  {
   "cell_type": "code",
   "execution_count": null,
   "id": "5f6176ba-70a7-40c9-afe9-fa14767dfc02",
   "metadata": {
    "tags": []
   },
   "outputs": [],
   "source": [
    "# gather projects data\n",
    "projects = Box.from_yaml(filename=\"data/projects.yaml\").projects\n",
    "\n",
    "# check the number of projects\n",
    "print(\"number of projects: \", len(projects))\n",
    "print(\"project names: \", [project[\"name\"] for project in projects])"
   ]
  },
  {
   "cell_type": "code",
   "execution_count": null,
   "id": "868af760-c2a3-4176-980f-956f5acd3c4b",
   "metadata": {
    "tags": []
   },
   "outputs": [],
   "source": [
    "# show the keys available for the projects\n",
    "projects[0].keys()"
   ]
  },
  {
   "cell_type": "code",
   "execution_count": null,
   "id": "df84b3c2-8e76-452b-a65e-eaec57e9286e",
   "metadata": {},
   "outputs": [],
   "source": [
    "df_projects = pd.DataFrame(\n",
    "    # create a list of repo data records for a dataframe\n",
    "    [\n",
    "        {\n",
    "            \"Project Name\": repo.name,\n",
    "            \"GitHub Stars\": repo.stargazers_count,\n",
    "            \"GitHub Forks\": repo.forks_count,\n",
    "            \"GitHub Watchers\": repo.subscribers_count,\n",
    "            \"GitHub Open Issues\": repo.get_issues(state=\"open\").totalCount,\n",
    "            \"GitHub Contributors\": repo.get_contributors().totalCount,\n",
    "            \"GitHub License Type\": repo.get_license().license.spdx_id,\n",
    "            \"Date Created\": repo.created_at.replace(tzinfo=pytz.UTC),\n",
    "            \"Date Most Recent Commit\": repo.get_commits()[0].commit.author.date.replace(\n",
    "                tzinfo=pytz.UTC\n",
    "            ),\n",
    "            \"Duration Created to Most Recent Commit\": \"\",\n",
    "            \"Duration Most Recent Commit to Now\": \"\",\n",
    "            \"Repository Size (KB)\": repo.size,\n",
    "        }\n",
    "        # make a request for github repo data with pygithub\n",
    "        for repo in [\n",
    "            github_client.get_repo(project.repo_url.replace(\"https://github.com/\", \"\"))\n",
    "            for project in projects\n",
    "        ]\n",
    "    ]\n",
    ")\n",
    "\n",
    "# calculate time deltas\n",
    "df_projects[\"Duration Created to Most Recent Commit\"] = (\n",
    "    df_projects[\"Date Most Recent Commit\"] - df_projects[\"Date Created\"]\n",
    ")\n",
    "df_projects[\"Duration Most Recent Commit to Now\"] = (\n",
    "    current_datetime - df_projects[\"Date Most Recent Commit\"]\n",
    ")\n",
    "\n",
    "# show the result\n",
    "df_projects"
   ]
  }
 ],
 "metadata": {
  "kernelspec": {
   "display_name": "Python 3 (ipykernel)",
   "language": "python",
   "name": "python3"
  },
  "language_info": {
   "codemirror_mode": {
    "name": "ipython",
    "version": 3
   },
   "file_extension": ".py",
   "mimetype": "text/x-python",
   "name": "python",
   "nbconvert_exporter": "python",
   "pygments_lexer": "ipython3",
   "version": "3.9.16"
  }
 },
 "nbformat": 4,
 "nbformat_minor": 5
}
