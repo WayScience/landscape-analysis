{
 "cells": [
  {
   "cell_type": "markdown",
   "id": "8f88d59f-3c0d-4d33-908e-0381578065dd",
   "metadata": {},
   "source": [
    "# Gather Targeted Publication Mentions\n",
    "\n",
    "Gather targeted mentions of software within publications (journals, preprints, etc) for software landscape analysis related to Cytomining ecosystem.\n"
   ]
  },
  {
   "cell_type": "code",
   "execution_count": 1,
   "id": "fef169d9-a9ce-4b80-af16-92b02375e24a",
   "metadata": {},
   "outputs": [],
   "source": [
    "import os\n",
    "from typing import List\n",
    "\n",
    "import awkward as ak\n",
    "import duckdb\n",
    "import numpy as np\n",
    "import pandas as pd\n",
    "from biorxiv_retriever import BiorxivRetriever\n",
    "from box import Box\n",
    "from scholarly import scholarly\n",
    "from thefuzz import fuzz"
   ]
  },
  {
   "cell_type": "code",
   "execution_count": 2,
   "id": "5f6176ba-70a7-40c9-afe9-fa14767dfc02",
   "metadata": {
    "tags": []
   },
   "outputs": [
    {
     "data": {
      "text/plain": [
       "['pycytominer', 'cytosnake', 'cytotable', 'idr_stream']"
      ]
     },
     "execution_count": 2,
     "metadata": {},
     "output_type": "execute_result"
    }
   ],
   "source": [
    "# gather projects data\n",
    "projects = Box.from_yaml(filename=\"data/target-projects.yaml\").projects\n",
    "\n",
    "# gather the lowercase loi focus project names from targets\n",
    "loi_target_projects = [\n",
    "    project[\"name\"].lower()\n",
    "    for project in projects.to_list()\n",
    "    if \"loi-focus\" in project[\"category\"]\n",
    "]\n",
    "loi_target_projects"
   ]
  },
  {
   "cell_type": "code",
   "execution_count": 3,
   "id": "cd046a96-3864-467b-9924-3156fbfd6ebc",
   "metadata": {
    "tags": []
   },
   "outputs": [
    {
     "data": {
      "text/html": [
       "<div>\n",
       "<style scoped>\n",
       "    .dataframe tbody tr th:only-of-type {\n",
       "        vertical-align: middle;\n",
       "    }\n",
       "\n",
       "    .dataframe tbody tr th {\n",
       "        vertical-align: top;\n",
       "    }\n",
       "\n",
       "    .dataframe thead th {\n",
       "        text-align: right;\n",
       "    }\n",
       "</style>\n",
       "<table border=\"1\" class=\"dataframe\">\n",
       "  <thead>\n",
       "    <tr style=\"text-align: right;\">\n",
       "      <th></th>\n",
       "      <th>Project Name</th>\n",
       "      <th>Date Created</th>\n",
       "    </tr>\n",
       "  </thead>\n",
       "  <tbody>\n",
       "    <tr>\n",
       "      <th>0</th>\n",
       "      <td>pycytominer</td>\n",
       "      <td>2019-07-03 12:22:51-06:00</td>\n",
       "    </tr>\n",
       "    <tr>\n",
       "      <th>1</th>\n",
       "      <td>CytoSnake</td>\n",
       "      <td>2022-02-15 11:02:45-07:00</td>\n",
       "    </tr>\n",
       "    <tr>\n",
       "      <th>2</th>\n",
       "      <td>CytoTable</td>\n",
       "      <td>2022-09-08 09:46:25-06:00</td>\n",
       "    </tr>\n",
       "    <tr>\n",
       "      <th>3</th>\n",
       "      <td>IDR_stream</td>\n",
       "      <td>2022-08-09 15:16:48-06:00</td>\n",
       "    </tr>\n",
       "  </tbody>\n",
       "</table>\n",
       "</div>"
      ],
      "text/plain": [
       "  Project Name              Date Created\n",
       "0  pycytominer 2019-07-03 12:22:51-06:00\n",
       "1    CytoSnake 2022-02-15 11:02:45-07:00\n",
       "2    CytoTable 2022-09-08 09:46:25-06:00\n",
       "3   IDR_stream 2022-08-09 15:16:48-06:00"
      ]
     },
     "execution_count": 3,
     "metadata": {},
     "output_type": "execute_result"
    }
   ],
   "source": [
    "# create a str for targeting the specific projects\n",
    "project_sql_str = \", \".join([\"'\" + project + \"'\" for project in loi_target_projects])\n",
    "\n",
    "# filter results of github stats to find the project creation date for use in filtering below\n",
    "with duckdb.connect() as ddb:\n",
    "    loi_target_project_years = ddb.query(\n",
    "        f\"\"\"\n",
    "    SELECT \n",
    "        ghstats.\"Project Name\",\n",
    "        ghstats.\"Date Created\"\n",
    "    FROM read_parquet('data/project-github-metrics.parquet') as ghstats\n",
    "    WHERE LOWER(ghstats.\"Project Name\") in ({project_sql_str})\n",
    "    \"\"\",\n",
    "    ).df()\n",
    "\n",
    "loi_target_project_years"
   ]
  },
  {
   "cell_type": "code",
   "execution_count": 4,
   "id": "ffab2498-4a2b-42a5-bca9-5f0e7123ff8e",
   "metadata": {
    "tags": []
   },
   "outputs": [
    {
     "data": {
      "text/html": [
       "<div>\n",
       "<style scoped>\n",
       "    .dataframe tbody tr th:only-of-type {\n",
       "        vertical-align: middle;\n",
       "    }\n",
       "\n",
       "    .dataframe tbody tr th {\n",
       "        vertical-align: top;\n",
       "    }\n",
       "\n",
       "    .dataframe thead th {\n",
       "        text-align: right;\n",
       "    }\n",
       "</style>\n",
       "<table border=\"1\" class=\"dataframe\">\n",
       "  <thead>\n",
       "    <tr style=\"text-align: right;\">\n",
       "      <th></th>\n",
       "      <th>Project Name</th>\n",
       "      <th>Date Created Year</th>\n",
       "    </tr>\n",
       "  </thead>\n",
       "  <tbody>\n",
       "    <tr>\n",
       "      <th>0</th>\n",
       "      <td>pycytominer</td>\n",
       "      <td>2019</td>\n",
       "    </tr>\n",
       "    <tr>\n",
       "      <th>1</th>\n",
       "      <td>CytoSnake</td>\n",
       "      <td>2022</td>\n",
       "    </tr>\n",
       "    <tr>\n",
       "      <th>2</th>\n",
       "      <td>CytoTable</td>\n",
       "      <td>2022</td>\n",
       "    </tr>\n",
       "    <tr>\n",
       "      <th>3</th>\n",
       "      <td>IDR_stream</td>\n",
       "      <td>2022</td>\n",
       "    </tr>\n",
       "  </tbody>\n",
       "</table>\n",
       "</div>"
      ],
      "text/plain": [
       "  Project Name  Date Created Year\n",
       "0  pycytominer               2019\n",
       "1    CytoSnake               2022\n",
       "2    CytoTable               2022\n",
       "3   IDR_stream               2022"
      ]
     },
     "execution_count": 4,
     "metadata": {},
     "output_type": "execute_result"
    }
   ],
   "source": [
    "# add a year created\n",
    "loi_target_project_years[\"Date Created Year\"] = loi_target_project_years[\n",
    "    \"Date Created\"\n",
    "].dt.year\n",
    "loi_target_project_years = loi_target_project_years[\n",
    "    [\"Project Name\", \"Date Created Year\"]\n",
    "]\n",
    "loi_target_project_years"
   ]
  },
  {
   "cell_type": "code",
   "execution_count": 5,
   "id": "4a2a38e5-1870-4e08-94ac-2fcda86b48e8",
   "metadata": {
    "tags": []
   },
   "outputs": [
    {
     "data": {
      "text/plain": [
       "[{'Project Name': 'pycytominer', 'Date Created Year': 2019},\n",
       " {'Project Name': 'CytoSnake', 'Date Created Year': 2022},\n",
       " {'Project Name': 'CytoTable', 'Date Created Year': 2022},\n",
       " {'Project Name': 'IDR_stream', 'Date Created Year': 2022}]"
      ]
     },
     "execution_count": 5,
     "metadata": {},
     "output_type": "execute_result"
    }
   ],
   "source": [
    "# instantiate record data as a list of record dictionaries\n",
    "pub_metrics = loi_target_project_years.to_dict(orient=\"records\")\n",
    "pub_metrics"
   ]
  },
  {
   "cell_type": "code",
   "execution_count": 6,
   "id": "80b49de6-81fc-4bb3-8c14-374ab77247fa",
   "metadata": {
    "tags": []
   },
   "outputs": [
    {
     "data": {
      "text/plain": [
       "{'pycytominer': 20, 'CytoSnake': 0, 'CytoTable': 0, 'IDR_stream': 0}"
      ]
     },
     "execution_count": 6,
     "metadata": {},
     "output_type": "execute_result"
    }
   ],
   "source": [
    "# expand the records with Google Scholar results from Scholarly pkg\n",
    "pub_metrics = [\n",
    "    dict(\n",
    "        project,\n",
    "        **{\n",
    "            \"google_scholar_search_results\": [\n",
    "                result\n",
    "                for result in scholarly.search_pubs(\n",
    "                    # wrap the query in quotes to isolate as exact matches only\n",
    "                    query=f'\"{project[\"Project Name\"]}\"',\n",
    "                    # specify a minimum year for the query\n",
    "                    # (we shouldn't include results which were published\n",
    "                    # before the project existed)\n",
    "                    year_low=project[\"Date Created Year\"],\n",
    "                )\n",
    "            ]\n",
    "        },\n",
    "    )\n",
    "    for project in pub_metrics\n",
    "]\n",
    "\n",
    "# show the len of the results for each project\n",
    "{\n",
    "    project[\"Project Name\"]: len(project[\"google_scholar_search_results\"])\n",
    "    for project in pub_metrics\n",
    "}"
   ]
  },
  {
   "cell_type": "code",
   "execution_count": 7,
   "id": "ce915745-3828-4fe0-a6e6-d1f7894ab45d",
   "metadata": {
    "tags": []
   },
   "outputs": [
    {
     "name": "stderr",
     "output_type": "stream",
     "text": [
      "100%|███████████████████████████████████████████████████████| 13/13 [00:21<00:00,  1.69s/it]\n",
      "0it [00:00, ?it/s]\n",
      "100%|█████████████████████████████████████████████████████████| 6/6 [00:16<00:00,  2.68s/it]\n",
      "0it [00:00, ?it/s]\n"
     ]
    },
    {
     "data": {
      "text/plain": [
       "{'pycytominer': 13, 'CytoSnake': 0, 'CytoTable': 0, 'IDR_stream': 0}"
      ]
     },
     "execution_count": 7,
     "metadata": {},
     "output_type": "execute_result"
    }
   ],
   "source": [
    "# expand the records with Bioarxiv results from Scholarly pkg\n",
    "bioarxiv_retriever = BiorxivRetriever()\n",
    "\n",
    "pub_metrics = [\n",
    "    dict(\n",
    "        project,\n",
    "        **{\n",
    "            \"bioarxiv_search_results\": [\n",
    "                # exclude full_text from the data we store (only use for filtering)\n",
    "                {key: val for key, val in paper.items() if key != \"full_text\"}\n",
    "                # gather results from bioarxiv search query\n",
    "                for paper in bioarxiv_retriever.query(\n",
    "                    f'\"{project[\"Project Name\"]}\"', metadata=True, full_text=True\n",
    "                )\n",
    "                # only include the paper result if the project name is found within the full text\n",
    "                if project[\"Project Name\"].lower() in paper[\"full_text\"].lower()\n",
    "            ],\n",
    "        },\n",
    "    )\n",
    "    for project in pub_metrics\n",
    "]\n",
    "\n",
    "# show the len of the results for each project\n",
    "{\n",
    "    project[\"Project Name\"]: len(project[\"bioarxiv_search_results\"])\n",
    "    for project in pub_metrics\n",
    "}"
   ]
  },
  {
   "cell_type": "code",
   "execution_count": 8,
   "id": "f31bfa08-465d-492a-ac4f-7ac041d62ce2",
   "metadata": {
    "tags": []
   },
   "outputs": [
    {
     "data": {
      "text/html": [
       "<pre>[{&#x27;Project Name&#x27;: &#x27;pycytominer&#x27;, &#x27;Date Created Year&#x27;: 2019, ...},\n",
       " {&#x27;Project Name&#x27;: &#x27;CytoSnake&#x27;, &#x27;Date Created Year&#x27;: 2022, ...},\n",
       " {&#x27;Project Name&#x27;: &#x27;CytoTable&#x27;, &#x27;Date Created Year&#x27;: 2022, ...},\n",
       " {&#x27;Project Name&#x27;: &#x27;IDR_stream&#x27;, &#x27;Date Created Year&#x27;: 2022, ...}]\n",
       "-----------------------------------------------------------------\n",
       "type: 4 * {\n",
       "    &quot;Project Name&quot;: string,\n",
       "    &quot;Date Created Year&quot;: int64,\n",
       "    google_scholar_search_results: var * {\n",
       "        container_type: string,\n",
       "        source: string,\n",
       "        bib: {\n",
       "            title: string,\n",
       "            author: var * string,\n",
       "            pub_year: string,\n",
       "            venue: string,\n",
       "            abstract: string\n",
       "        },\n",
       "        filled: bool,\n",
       "        gsrank: int64,\n",
       "        pub_url: ?string,\n",
       "        author_id: var * string,\n",
       "        url_scholarbib: string,\n",
       "        url_add_sclib: string,\n",
       "        num_citations: int64,\n",
       "        citedby_url: ?string,\n",
       "        url_related_articles: ?string,\n",
       "        eprint_url: ?string\n",
       "    },\n",
       "    bioarxiv_search_results: var * {\n",
       "        title: string,\n",
       "        biorxiv_url: string,\n",
       "        posted: string,\n",
       "        abstract: string\n",
       "    }\n",
       "}</pre>"
      ],
      "text/plain": [
       "<Array [{'Project Name': ..., ...}, ..., {...}] type='4 * {\"Project Name\": ...'>"
      ]
     },
     "execution_count": 8,
     "metadata": {},
     "output_type": "execute_result"
    }
   ],
   "source": [
    "# preview the nested data structure so far for the work ahead\n",
    "ak.Array(pub_metrics)"
   ]
  },
  {
   "cell_type": "code",
   "execution_count": 9,
   "id": "9b940353-4358-48b8-85a3-9e5f1a0f046f",
   "metadata": {
    "tags": []
   },
   "outputs": [
    {
     "data": {
      "text/plain": [
       "['High-content microscopy reveals a morphological signature of bortezomib resistance',\n",
       " 'A genome-wide atlas of human cell morphology',\n",
       " 'Evolution and impact of high content imaging',\n",
       " 'Optimizing the Cell Painting assay for image-based profiling',\n",
       " 'Morphology and gene expression profiling provide complementary information for mapping cell state',\n",
       " 'Biological Cartography: Building and Benchmarking Representations of Life',\n",
       " 'Evaluating batch correction methods for image-based cell profiling',\n",
       " 'Predicting cell health phenotypes using image-based morphology profiling',\n",
       " 'Self-supervision advances morphological profiling by unlocking powerful image representations',\n",
       " 'Three million images and morphological profiles of cells treated with matched chemical and genetic perturbations',\n",
       " 'Merging Bioactivity Predictions from Cell Morphology and Chemical Fingerprint Models Using Similarity to Training Data',\n",
       " 'Predicting the Mitochondrial Toxicity of Small Molecules: Insights from Mechanistic Assays and Cell Painting Data',\n",
       " 'Phenonaut: multiomics data integration for phenotypic space exploration',\n",
       " 'Class-Guided Image-to-Image Diffusion: Cell Painting from Brightfield Images with Class Labels',\n",
       " 'JUMP Cell Painting dataset: morphological impact of 136,000 chemical and genetic perturbations',\n",
       " 'Merging bioactivity predictions from cell morphology and chemical fingerprint models using similarity to training data',\n",
       " 'Pycytominer: data processing functions for profiling perturbations',\n",
       " 'Interpreting Image‐based Profiles using Similarity Clustering and Single‐Cell Visualization',\n",
       " 'BioProfiling.jl: Profiling biological perturbations with high-content imaging in single cells and heterogeneous populations',\n",
       " 'BioProfiling. jl: profiling biological perturbations with high-content imaging in single cells and heterogeneous populations',\n",
       " 'Assessing the performance of the Cell Painting assay across different imaging systems']"
      ]
     },
     "execution_count": 9,
     "metadata": {},
     "output_type": "execute_result"
    }
   ],
   "source": [
    "# form data for total counts of publications\n",
    "pub_metrics = [\n",
    "    dict(\n",
    "        project,\n",
    "        **{\n",
    "            # form a list of all unique article titles\n",
    "            \"all_article_titles\": list(\n",
    "                # convert to a set in order to dedupe exact matches\n",
    "                set(\n",
    "                    [\n",
    "                        article\n",
    "                        # use differing data structures to create the list of titles\n",
    "                        for article in list(\n",
    "                            [\n",
    "                                article[\"bib\"][\"title\"]\n",
    "                                for article in project[\"google_scholar_search_results\"]\n",
    "                            ]\n",
    "                            + [\n",
    "                                article[\"title\"]\n",
    "                                for article in project[\"bioarxiv_search_results\"]\n",
    "                            ]\n",
    "                        )\n",
    "                    ]\n",
    "                )\n",
    "            ),\n",
    "        },\n",
    "    )\n",
    "    for project in pub_metrics\n",
    "]\n",
    "pub_metrics[0][\"all_article_titles\"]"
   ]
  },
  {
   "cell_type": "code",
   "execution_count": 10,
   "id": "bae3bea5-6fbf-46bd-82fc-8c1582b47129",
   "metadata": {
    "tags": []
   },
   "outputs": [
    {
     "data": {
      "text/plain": [
       "['High-content microscopy reveals a morphological signature of bortezomib resistance',\n",
       " 'A genome-wide atlas of human cell morphology',\n",
       " 'Evolution and impact of high content imaging',\n",
       " 'Optimizing the Cell Painting assay for image-based profiling',\n",
       " 'Morphology and gene expression profiling provide complementary information for mapping cell state',\n",
       " 'Biological Cartography: Building and Benchmarking Representations of Life',\n",
       " 'Evaluating batch correction methods for image-based cell profiling',\n",
       " 'Predicting cell health phenotypes using image-based morphology profiling',\n",
       " 'Self-supervision advances morphological profiling by unlocking powerful image representations',\n",
       " 'Three million images and morphological profiles of cells treated with matched chemical and genetic perturbations',\n",
       " 'Merging Bioactivity Predictions from Cell Morphology and Chemical Fingerprint Models Using Similarity to Training Data',\n",
       " 'Predicting the Mitochondrial Toxicity of Small Molecules: Insights from Mechanistic Assays and Cell Painting Data',\n",
       " 'Phenonaut: multiomics data integration for phenotypic space exploration',\n",
       " 'Class-Guided Image-to-Image Diffusion: Cell Painting from Brightfield Images with Class Labels',\n",
       " 'JUMP Cell Painting dataset: morphological impact of 136,000 chemical and genetic perturbations',\n",
       " 'Merging bioactivity predictions from cell morphology and chemical fingerprint models using similarity to training data',\n",
       " 'Pycytominer: data processing functions for profiling perturbations',\n",
       " 'Interpreting Image‐based Profiles using Similarity Clustering and Single‐Cell Visualization',\n",
       " 'BioProfiling.jl: Profiling biological perturbations with high-content imaging in single cells and heterogeneous populations',\n",
       " 'BioProfiling. jl: profiling biological perturbations with high-content imaging in single cells and heterogeneous populations']"
      ]
     },
     "execution_count": 10,
     "metadata": {},
     "output_type": "execute_result"
    }
   ],
   "source": [
    "# gather distinct data using record linkage levenshtein distance\n",
    "def return_distinct_values_by_threshold(\n",
    "    string_list: List[str], threshold: int\n",
    ") -> List[str]:\n",
    "    \"\"\"\n",
    "    Finds and returns a new list of distinct values based on\n",
    "    record linkage via Levenshtein distance.\n",
    "    \"\"\"\n",
    "    distinct_list = []\n",
    "\n",
    "    # compare every value pair-wise\n",
    "    for i in range(len(string_list)):\n",
    "        for j in range(i + 1, len(string_list)):\n",
    "            if (\n",
    "                # if the value is distinct (below the threshold of similarity)\n",
    "                # and not yet included in the similar list, append it to the result\n",
    "                fuzz.ratio(string_list[i], string_list[j]) <= threshold\n",
    "                and string_list[i] not in distinct_list\n",
    "            ):\n",
    "                distinct_list.append((string_list[i]))\n",
    "\n",
    "    return distinct_list\n",
    "\n",
    "\n",
    "pub_metrics = [\n",
    "    dict(\n",
    "        project,\n",
    "        **{\n",
    "            # form a list of all unique article titles\n",
    "            \"all_article_titles_record_linked_removed\": return_distinct_values_by_threshold(\n",
    "                project[\"all_article_titles\"], threshold=90\n",
    "            ),\n",
    "        },\n",
    "    )\n",
    "    for project in pub_metrics\n",
    "]\n",
    "pub_metrics[0][\"all_article_titles_record_linked_removed\"]"
   ]
  },
  {
   "cell_type": "code",
   "execution_count": 11,
   "id": "0aaf193a-f5bc-4fc5-bbfe-a0c3441cf6f4",
   "metadata": {
    "tags": []
   },
   "outputs": [
    {
     "data": {
      "text/plain": [
       "<pyarrow._parquet.FileMetaData object at 0x130e67590>\n",
       "  created_by: parquet-cpp-arrow version 13.0.0\n",
       "  num_columns: 29\n",
       "  num_rows: 4\n",
       "  num_row_groups: 1\n",
       "  format_version: 2.6\n",
       "  serialized_size: 0"
      ]
     },
     "execution_count": 11,
     "metadata": {},
     "output_type": "execute_result"
    }
   ],
   "source": [
    "# gather counts from the data and export to file\n",
    "pub_metrics = [\n",
    "    dict(\n",
    "        project,\n",
    "        **{\n",
    "            \"google_scholar_count\": len(project[\"google_scholar_search_results\"]),\n",
    "            \"bioarxiv_count\": len(project[\"bioarxiv_search_results\"]),\n",
    "            \"total_pub_count\": len(project[\"all_article_titles\"]),\n",
    "            \"total_pub_count_non_record_linked\": len(\n",
    "                project[\"all_article_titles_record_linked_removed\"]\n",
    "            ),\n",
    "        },\n",
    "    )\n",
    "    for project in pub_metrics\n",
    "]\n",
    "ak.to_parquet(\n",
    "    ak.Array(pub_metrics), \"data/loi-target-project-publication-metrics.parquet\"\n",
    ")"
   ]
  },
  {
   "cell_type": "code",
   "execution_count": 12,
   "id": "20602ee7-5cf9-4584-aa79-c434e0027481",
   "metadata": {
    "tags": []
   },
   "outputs": [
    {
     "data": {
      "text/html": [
       "<div>\n",
       "<style scoped>\n",
       "    .dataframe tbody tr th:only-of-type {\n",
       "        vertical-align: middle;\n",
       "    }\n",
       "\n",
       "    .dataframe tbody tr th {\n",
       "        vertical-align: top;\n",
       "    }\n",
       "\n",
       "    .dataframe thead th {\n",
       "        text-align: right;\n",
       "    }\n",
       "</style>\n",
       "<table border=\"1\" class=\"dataframe\">\n",
       "  <thead>\n",
       "    <tr style=\"text-align: right;\">\n",
       "      <th></th>\n",
       "      <th>Project Name</th>\n",
       "      <th>Date Created Year</th>\n",
       "      <th>google_scholar_count</th>\n",
       "      <th>bioarxiv_count</th>\n",
       "      <th>total_pub_count</th>\n",
       "      <th>total_pub_count_non_record_linked</th>\n",
       "    </tr>\n",
       "  </thead>\n",
       "  <tbody>\n",
       "    <tr>\n",
       "      <th>0</th>\n",
       "      <td>pycytominer</td>\n",
       "      <td>2019</td>\n",
       "      <td>20</td>\n",
       "      <td>13</td>\n",
       "      <td>21</td>\n",
       "      <td>20</td>\n",
       "    </tr>\n",
       "    <tr>\n",
       "      <th>1</th>\n",
       "      <td>CytoSnake</td>\n",
       "      <td>2022</td>\n",
       "      <td>0</td>\n",
       "      <td>0</td>\n",
       "      <td>0</td>\n",
       "      <td>0</td>\n",
       "    </tr>\n",
       "    <tr>\n",
       "      <th>2</th>\n",
       "      <td>CytoTable</td>\n",
       "      <td>2022</td>\n",
       "      <td>0</td>\n",
       "      <td>0</td>\n",
       "      <td>0</td>\n",
       "      <td>0</td>\n",
       "    </tr>\n",
       "    <tr>\n",
       "      <th>3</th>\n",
       "      <td>IDR_stream</td>\n",
       "      <td>2022</td>\n",
       "      <td>0</td>\n",
       "      <td>0</td>\n",
       "      <td>0</td>\n",
       "      <td>0</td>\n",
       "    </tr>\n",
       "  </tbody>\n",
       "</table>\n",
       "</div>"
      ],
      "text/plain": [
       "  Project Name  Date Created Year  google_scholar_count  bioarxiv_count  \\\n",
       "0  pycytominer               2019                    20              13   \n",
       "1    CytoSnake               2022                     0               0   \n",
       "2    CytoTable               2022                     0               0   \n",
       "3   IDR_stream               2022                     0               0   \n",
       "\n",
       "   total_pub_count  total_pub_count_non_record_linked  \n",
       "0               21                                 20  \n",
       "1                0                                  0  \n",
       "2                0                                  0  \n",
       "3                0                                  0  "
      ]
     },
     "execution_count": 12,
     "metadata": {},
     "output_type": "execute_result"
    }
   ],
   "source": [
    "# depict results from the file\n",
    "with duckdb.connect() as ddb:\n",
    "    pub_totals = ddb.query(\n",
    "        f\"\"\"\n",
    "    SELECT \n",
    "        pubstats.\"Project Name\",\n",
    "        pubstats.\"Date Created Year\",\n",
    "        pubstats.\"google_scholar_count\",\n",
    "        pubstats.\"bioarxiv_count\",\n",
    "        pubstats.\"total_pub_count\",\n",
    "        pubstats.\"total_pub_count_non_record_linked\"\n",
    "    FROM read_parquet('data/loi-target-project-publication-metrics.parquet') as pubstats\n",
    "    \"\"\",\n",
    "    ).df()\n",
    "pub_totals"
   ]
  }
 ],
 "metadata": {
  "kernelspec": {
   "display_name": "Python 3 (ipykernel)",
   "language": "python",
   "name": "python3"
  },
  "language_info": {
   "codemirror_mode": {
    "name": "ipython",
    "version": 3
   },
   "file_extension": ".py",
   "mimetype": "text/x-python",
   "name": "python",
   "nbconvert_exporter": "python",
   "pygments_lexer": "ipython3",
   "version": "3.9.16"
  }
 },
 "nbformat": 4,
 "nbformat_minor": 5
}
