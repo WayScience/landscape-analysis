{
 "cells": [
  {
   "cell_type": "markdown",
   "id": "8f88d59f-3c0d-4d33-908e-0381578065dd",
   "metadata": {},
   "source": [
    "# Seek GitHub Projects for Landscape Analysis\n",
    "\n",
    "Seeking GitHub project entries for software landscape analysis related to Cytomining ecosystem.\n",
    "\n",
    "## Setup\n",
    "\n",
    "Set an environment variable named `LANDSCAPE_ANALYSIS_GH_TOKEN` to a [GitHub access token](https://docs.github.com/en/authentication/keeping-your-account-and-data-secure/managing-your-personal-access-tokens). E.g.: `export LANDSCAPE_ANALYSIS_GH_TOKEN=token_here`"
   ]
  },
  {
   "cell_type": "code",
   "execution_count": 1,
   "id": "fef169d9-a9ce-4b80-af16-92b02375e24a",
   "metadata": {},
   "outputs": [],
   "source": [
    "import os\n",
    "from datetime import datetime\n",
    "\n",
    "import pandas as pd\n",
    "from box import Box\n",
    "from github import Auth, Github\n",
    "\n",
    "# set github authorization and client\n",
    "github_client = Github(\n",
    "    auth=Auth.Token(os.environ.get(\"LANDSCAPE_ANALYSIS_GH_TOKEN\")), per_page=100\n",
    ")"
   ]
  },
  {
   "cell_type": "code",
   "execution_count": 2,
   "id": "5f6176ba-70a7-40c9-afe9-fa14767dfc02",
   "metadata": {
    "tags": []
   },
   "outputs": [
    {
     "data": {
      "text/plain": [
       "['single-cell image morphology',\n",
       " 'cell image morphology',\n",
       " 'high-dimensional cell morphology',\n",
       " 'cell image-based profiling']"
      ]
     },
     "execution_count": 2,
     "metadata": {},
     "output_type": "execute_result"
    }
   ],
   "source": [
    "# gather projects data\n",
    "queries = Box.from_yaml(filename=\"data/queries.yaml\").queries\n",
    "\n",
    "# observe the queries\n",
    "queries.to_list()"
   ]
  },
  {
   "cell_type": "code",
   "execution_count": 3,
   "id": "2095e52d-bbaf-4fa9-9911-3fa85140559a",
   "metadata": {
    "tags": []
   },
   "outputs": [
    {
     "data": {
      "text/plain": [
       "68"
      ]
     },
     "execution_count": 3,
     "metadata": {},
     "output_type": "execute_result"
    }
   ],
   "source": [
    "# gather repo data based on the results\n",
    "results = [\n",
    "    {\"name\": result.name, \"homepage_url\": result.homepage, \"repo_url\": result.html_url}\n",
    "    for query in queries\n",
    "    for result in github_client.search_repositories(query=query)\n",
    "]\n",
    "len(results)"
   ]
  },
  {
   "cell_type": "code",
   "execution_count": 4,
   "id": "432339ea-1967-4b5e-9ff4-515f5d5aaf8e",
   "metadata": {
    "tags": []
   },
   "outputs": [],
   "source": [
    "# append loi focus items to the results set\n",
    "results = [\n",
    "    {\n",
    "        \"name\": \"pycytominer\",\n",
    "        \"tags\": [\"loi-focus\"],\n",
    "        \"homepage_url\": \"https://pycytominer.readthedocs.io/en/latest/\",\n",
    "        \"repo_url\": \"https://github.com/cytomining/pycytominer\",\n",
    "    },\n",
    "    {\n",
    "        \"name\": \"cyosnake\",\n",
    "        \"tags\": [\"loi-focus\"],\n",
    "        \"homepage_url\": \"https://cytosnake.readthedocs.io/en/latest/\",\n",
    "        \"repo_url\": \"https://github.com/WayScience/CytoSnake\",\n",
    "    },\n",
    "    {\n",
    "        \"name\": \"cytotable\",\n",
    "        \"tags\": [\"loi-focus\"],\n",
    "        \"homepage_url\": \"https://cytomining.github.io/CytoTable/\",\n",
    "        \"repo_url\": \"https://github.com/cytomining/CytoTable\",\n",
    "    },\n",
    "] + results"
   ]
  },
  {
   "cell_type": "code",
   "execution_count": 5,
   "id": "e2c08ecd-4037-4b67-8414-d1616be73c20",
   "metadata": {
    "tags": []
   },
   "outputs": [
    {
     "data": {
      "text/plain": [
       "66"
      ]
     },
     "execution_count": 5,
     "metadata": {},
     "output_type": "execute_result"
    }
   ],
   "source": [
    "# filter the list of results to uniques\n",
    "seen_url = set()\n",
    "results = [\n",
    "    result\n",
    "    for result in results\n",
    "    # check whether we have seen the result yet\n",
    "    if result[\"repo_url\"] not in seen_url\n",
    "    # always returns None, so evals to True and adds to list\n",
    "    and not seen_url.add(result[\"repo_url\"])\n",
    "]\n",
    "len(results)"
   ]
  },
  {
   "cell_type": "code",
   "execution_count": 6,
   "id": "d01e843b-496a-4316-8543-3f22a2e5f117",
   "metadata": {
    "tags": []
   },
   "outputs": [],
   "source": [
    "# export the results to a yaml file for later processing\n",
    "Box({\"projects\": results}).to_yaml(\"data/projects.yaml\")"
   ]
  }
 ],
 "metadata": {
  "kernelspec": {
   "display_name": "Python 3 (ipykernel)",
   "language": "python",
   "name": "python3"
  },
  "language_info": {
   "codemirror_mode": {
    "name": "ipython",
    "version": 3
   },
   "file_extension": ".py",
   "mimetype": "text/x-python",
   "name": "python",
   "nbconvert_exporter": "python",
   "pygments_lexer": "ipython3",
   "version": "3.9.16"
  }
 },
 "nbformat": 4,
 "nbformat_minor": 5
}
