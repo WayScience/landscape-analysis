{
 "cells": [
  {
   "cell_type": "markdown",
   "id": "8f88d59f-3c0d-4d33-908e-0381578065dd",
   "metadata": {},
   "source": [
    "# Seek GitHub Projects for Landscape Analysis\n",
    "\n",
    "Seeking GitHub project and other data entries for software landscape analysis related to Cytomining ecosystem.\n",
    "\n",
    "## Setup\n",
    "\n",
    "Set an environment variable named `LANDSCAPE_ANALYSIS_GH_TOKEN` to a [GitHub access token](https://docs.github.com/en/authentication/keeping-your-account-and-data-secure/managing-your-personal-access-tokens). E.g.: `export LANDSCAPE_ANALYSIS_GH_TOKEN=token_here`"
   ]
  },
  {
   "cell_type": "code",
   "execution_count": 1,
   "id": "fef169d9-a9ce-4b80-af16-92b02375e24a",
   "metadata": {},
   "outputs": [],
   "source": [
    "import os\n",
    "from datetime import datetime\n",
    "\n",
    "import numpy as np\n",
    "import pandas as pd\n",
    "from box import Box\n",
    "from github import Auth, Github\n",
    "\n",
    "# set github authorization and client\n",
    "github_client = Github(\n",
    "    auth=Auth.Token(os.environ.get(\"LANDSCAPE_ANALYSIS_GH_TOKEN\")), per_page=100\n",
    ")"
   ]
  },
  {
   "cell_type": "code",
   "execution_count": 2,
   "id": "5f6176ba-70a7-40c9-afe9-fa14767dfc02",
   "metadata": {
    "tags": []
   },
   "outputs": [
    {
     "data": {
      "text/plain": [
       "['single-cell image morphology',\n",
       " 'cell image morphology',\n",
       " 'high-dimensional cell morphology',\n",
       " 'cell image-based profiling',\n",
       " 'biological image analysis',\n",
       " 'analyzing scientific images',\n",
       " 'single-cell analysis']"
      ]
     },
     "execution_count": 2,
     "metadata": {},
     "output_type": "execute_result"
    }
   ],
   "source": [
    "# gather projects data\n",
    "queries = Box.from_yaml(filename=\"data/queries.yaml\").queries\n",
    "\n",
    "# observe the queries\n",
    "queries.to_list()"
   ]
  },
  {
   "cell_type": "code",
   "execution_count": 3,
   "id": "c2996c47-5972-46fe-9740-2109196b2b6f",
   "metadata": {
    "tags": []
   },
   "outputs": [
    {
     "data": {
      "text/plain": [
       "['https://github.com/cytomining/pycytominer',\n",
       " 'https://github.com/WayScience/CytoSnake',\n",
       " 'https://github.com/cytomining/CytoTable',\n",
       " 'https://github.com/WayScience/IDR_stream',\n",
       " 'https://github.com/pandas-dev/pandas',\n",
       " 'https://github.com/numpy/numpy',\n",
       " 'https://github.com/scverse/anndata',\n",
       " 'https://github.com/CellProfiler/CellProfiler',\n",
       " 'https://github.com/cytomining/DeepProfiler',\n",
       " 'https://github.com/imagej/ImageJ',\n",
       " 'https://github.com/qupath/qupath',\n",
       " 'https://github.com/napari/napari',\n",
       " 'https://github.com/menchelab/BioProfiling.jl',\n",
       " 'https://github.com/AltschulerWu-Lab/phenoripper',\n",
       " 'https://github.com/apache/arrow',\n",
       " 'https://github.com/apache/parquet-mr',\n",
       " 'https://github.com/duckdb/duckdb',\n",
       " 'https://github.com/snakemake/snakemake',\n",
       " 'https://github.com/Parsl/parsl']"
      ]
     },
     "execution_count": 3,
     "metadata": {},
     "output_type": "execute_result"
    }
   ],
   "source": [
    "# setup a reference for target project urls to ignore as additions to avoid duplication\n",
    "target_project_html_urls = [\n",
    "    project[\"repo_url\"]\n",
    "    for project in Box.from_yaml(filename=\"data/target-projects.yaml\").projects\n",
    "]\n",
    "target_project_html_urls"
   ]
  },
  {
   "cell_type": "code",
   "execution_count": 4,
   "id": "2095e52d-bbaf-4fa9-9911-3fa85140559a",
   "metadata": {
    "tags": []
   },
   "outputs": [
    {
     "data": {
      "text/plain": [
       "1137"
      ]
     },
     "execution_count": 4,
     "metadata": {},
     "output_type": "execute_result"
    }
   ],
   "source": [
    "# gather repo data from GitHub based on the results of search queries\n",
    "results = [\n",
    "    {\n",
    "        \"name\": result.name,\n",
    "        \"homepage_url\": result.homepage,\n",
    "        \"repo_url\": result.html_url,\n",
    "        \"category\": [\"related-tools-github-query-result\"],\n",
    "    }\n",
    "    for query in queries\n",
    "    for result in github_client.search_repositories(\n",
    "        query=query, sort=\"stars\", order=\"desc\"\n",
    "    )\n",
    "    if result.html_url not in target_project_html_urls\n",
    "]\n",
    "len(results)"
   ]
  },
  {
   "cell_type": "code",
   "execution_count": 5,
   "id": "ff1740fd-d2b2-41d8-9c0b-e8071b9e5f95",
   "metadata": {
    "tags": []
   },
   "outputs": [
    {
     "name": "stdout",
     "output_type": "stream",
     "text": [
      "(1602, 9)\n"
     ]
    },
    {
     "data": {
      "text/html": [
       "<div>\n",
       "<style scoped>\n",
       "    .dataframe tbody tr th:only-of-type {\n",
       "        vertical-align: middle;\n",
       "    }\n",
       "\n",
       "    .dataframe tbody tr th {\n",
       "        vertical-align: top;\n",
       "    }\n",
       "\n",
       "    .dataframe thead th {\n",
       "        text-align: right;\n",
       "    }\n",
       "</style>\n",
       "<table border=\"1\" class=\"dataframe\">\n",
       "  <thead>\n",
       "    <tr style=\"text-align: right;\">\n",
       "      <th></th>\n",
       "      <th>name</th>\n",
       "      <th>repo_url</th>\n",
       "      <th>category</th>\n",
       "    </tr>\n",
       "  </thead>\n",
       "  <tbody>\n",
       "    <tr>\n",
       "      <th>1455</th>\n",
       "      <td>STAR</td>\n",
       "      <td>https://github.com/alexdobin/STAR</td>\n",
       "      <td>[cytomining-ecosystem-adjacent-tools]</td>\n",
       "    </tr>\n",
       "    <tr>\n",
       "      <th>1344</th>\n",
       "      <td>Seurat</td>\n",
       "      <td>https://github.com/satijalab/seurat</td>\n",
       "      <td>[cytomining-ecosystem-adjacent-tools]</td>\n",
       "    </tr>\n",
       "    <tr>\n",
       "      <th>701</th>\n",
       "      <td>Monocle</td>\n",
       "      <td>https://github.com/cole-trapnell-lab/monocle-r...</td>\n",
       "      <td>[cytomining-ecosystem-adjacent-tools]</td>\n",
       "    </tr>\n",
       "    <tr>\n",
       "      <th>601</th>\n",
       "      <td>kallisto</td>\n",
       "      <td>https://github.com/pachterlab/kallisto</td>\n",
       "      <td>[cytomining-ecosystem-adjacent-tools]</td>\n",
       "    </tr>\n",
       "    <tr>\n",
       "      <th>901</th>\n",
       "      <td>salmon</td>\n",
       "      <td>https://github.com/COMBINE-lab/salmon</td>\n",
       "      <td>[cytomining-ecosystem-adjacent-tools]</td>\n",
       "    </tr>\n",
       "  </tbody>\n",
       "</table>\n",
       "</div>"
      ],
      "text/plain": [
       "          name                                           repo_url  \\\n",
       "1455      STAR                  https://github.com/alexdobin/STAR   \n",
       "1344    Seurat                https://github.com/satijalab/seurat   \n",
       "701    Monocle  https://github.com/cole-trapnell-lab/monocle-r...   \n",
       "601   kallisto             https://github.com/pachterlab/kallisto   \n",
       "901     salmon              https://github.com/COMBINE-lab/salmon   \n",
       "\n",
       "                                   category  \n",
       "1455  [cytomining-ecosystem-adjacent-tools]  \n",
       "1344  [cytomining-ecosystem-adjacent-tools]  \n",
       "701   [cytomining-ecosystem-adjacent-tools]  \n",
       "601   [cytomining-ecosystem-adjacent-tools]  \n",
       "901   [cytomining-ecosystem-adjacent-tools]  "
      ]
     },
     "execution_count": 5,
     "metadata": {},
     "output_type": "execute_result"
    }
   ],
   "source": [
    "# read and display rough content of scRNA-Tools content\n",
    "df_scrna_tools = pd.read_csv(\"data/scRNA-Tools-tableExport-2023-10-12.csv\")\n",
    "print(df_scrna_tools.shape)\n",
    "\n",
    "# replace none-like values for citations with 0's for the purpose of sorting\n",
    "df_scrna_tools[\"Citations\"] = (\n",
    "    df_scrna_tools[\"Citations\"].replace(\"-\", \"0\").replace(\"'-\", \"0\")\n",
    ").astype(\"int64\")\n",
    "\n",
    "# drop rows where we don't have a repository\n",
    "df_scrna_tools = df_scrna_tools.dropna(subset=[\"Code\"])\n",
    "\n",
    "df_scrna_tools[\"name\"] = df_scrna_tools[\"Name\"]\n",
    "df_scrna_tools[\"repo_url\"] = df_scrna_tools[\"Code\"]\n",
    "\n",
    "df_scrna_tools[\"category\"] = np.tile(\n",
    "    [\"cytomining-ecosystem-adjacent-tools\"], (len(df_scrna_tools), 1)\n",
    ").tolist()\n",
    "\n",
    "# filter results to only those with a github link and sort values by number of citations\n",
    "df_scrna_tools = df_scrna_tools[\n",
    "    df_scrna_tools[\"Code\"].str.contains(\"https://github.com\")\n",
    "].sort_values(by=[\"Citations\"], ascending=False)\n",
    "\n",
    "# show a previow of the results\n",
    "df_scrna_tools.head(5)[[\"name\", \"repo_url\", \"category\"]]"
   ]
  },
  {
   "cell_type": "code",
   "execution_count": 6,
   "id": "b0571163-c160-4617-ae82-43b4f5e6a391",
   "metadata": {
    "tags": []
   },
   "outputs": [
    {
     "data": {
      "text/plain": [
       "[{'name': 'STAR',\n",
       "  'repo_url': 'https://github.com/alexdobin/STAR',\n",
       "  'category': ['cytomining-ecosystem-adjacent-tools']},\n",
       " {'name': 'Seurat',\n",
       "  'repo_url': 'https://github.com/satijalab/seurat',\n",
       "  'category': ['cytomining-ecosystem-adjacent-tools']},\n",
       " {'name': 'Monocle',\n",
       "  'repo_url': 'https://github.com/cole-trapnell-lab/monocle-release',\n",
       "  'category': ['cytomining-ecosystem-adjacent-tools']},\n",
       " {'name': 'kallisto',\n",
       "  'repo_url': 'https://github.com/pachterlab/kallisto',\n",
       "  'category': ['cytomining-ecosystem-adjacent-tools']},\n",
       " {'name': 'salmon',\n",
       "  'repo_url': 'https://github.com/COMBINE-lab/salmon',\n",
       "  'category': ['cytomining-ecosystem-adjacent-tools']}]"
      ]
     },
     "execution_count": 6,
     "metadata": {},
     "output_type": "execute_result"
    }
   ],
   "source": [
    "# convert top 100 results to projects-like dataset\n",
    "df_scrna_tools_records = df_scrna_tools.head(100)[\n",
    "    [\"name\", \"repo_url\", \"category\"]\n",
    "].to_dict(orient=\"records\")\n",
    "df_scrna_tools_records[:5]"
   ]
  },
  {
   "cell_type": "code",
   "execution_count": 7,
   "id": "432339ea-1967-4b5e-9ff4-515f5d5aaf8e",
   "metadata": {
    "tags": []
   },
   "outputs": [],
   "source": [
    "# append results from both datasets together\n",
    "results = df_scrna_tools_records + results"
   ]
  },
  {
   "cell_type": "code",
   "execution_count": 8,
   "id": "e2c08ecd-4037-4b67-8414-d1616be73c20",
   "metadata": {
    "tags": []
   },
   "outputs": [
    {
     "data": {
      "text/plain": [
       "1220"
      ]
     },
     "execution_count": 8,
     "metadata": {},
     "output_type": "execute_result"
    }
   ],
   "source": [
    "# filter the list of results to uniques\n",
    "seen_url = set()\n",
    "results = [\n",
    "    result\n",
    "    for result in results\n",
    "    # check whether we have seen the result yet\n",
    "    if result[\"repo_url\"] not in seen_url\n",
    "    # always returns None, so evals to True and adds to list\n",
    "    and not seen_url.add(result[\"repo_url\"])\n",
    "]\n",
    "len(results)"
   ]
  },
  {
   "cell_type": "code",
   "execution_count": 9,
   "id": "18a44c04-c529-455f-8725-252eb3159f0c",
   "metadata": {},
   "outputs": [],
   "source": [
    "# append target projects to the results\n",
    "results = Box.from_yaml(filename=\"data/target-projects.yaml\").projects + results"
   ]
  },
  {
   "cell_type": "code",
   "execution_count": 10,
   "id": "d01e843b-496a-4316-8543-3f22a2e5f117",
   "metadata": {
    "tags": []
   },
   "outputs": [],
   "source": [
    "# export the results to a yaml file for later processing\n",
    "Box({\"projects\": results}).to_yaml(\"data/projects.yaml\")"
   ]
  }
 ],
 "metadata": {
  "kernelspec": {
   "display_name": "Python 3 (ipykernel)",
   "language": "python",
   "name": "python3"
  },
  "language_info": {
   "codemirror_mode": {
    "name": "ipython",
    "version": 3
   },
   "file_extension": ".py",
   "mimetype": "text/x-python",
   "name": "python",
   "nbconvert_exporter": "python",
   "pygments_lexer": "ipython3",
   "version": "3.9.16"
  }
 },
 "nbformat": 4,
 "nbformat_minor": 5
}
