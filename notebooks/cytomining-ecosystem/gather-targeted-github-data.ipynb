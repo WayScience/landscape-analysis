{
 "cells": [
  {
   "cell_type": "markdown",
   "id": "8f88d59f-3c0d-4d33-908e-0381578065dd",
   "metadata": {},
   "source": [
    "# Gather Targeted Project GitHub Metrics\n",
    "\n",
    "Project GitHub dependant, visitor, and contributor network metrics for software landscape analysis related to Cytomining ecosystem.\n",
    "\n",
    "Namely, we're seeking data which backs up the following:\n",
    "- Software projects that depend on the project\n",
    "- Monthly visitors to project’s website\n",
    "- List of software projects to which key personnel are contributing\n",
    "\n",
    "## Setup\n",
    "\n",
    "Set an environment variable named `LANDSCAPE_ANALYSIS_GH_TOKEN` to a [GitHub access token](https://docs.github.com/en/authentication/keeping-your-account-and-data-secure/managing-your-personal-access-tokens). E.g.: `export LANDSCAPE_ANALYSIS_GH_TOKEN=token_here`"
   ]
  },
  {
   "cell_type": "code",
   "execution_count": 23,
   "id": "fef169d9-a9ce-4b80-af16-92b02375e24a",
   "metadata": {},
   "outputs": [],
   "source": [
    "import json\n",
    "import os\n",
    "import subprocess\n",
    "from datetime import datetime\n",
    "\n",
    "import awkward as ak\n",
    "import pandas as pd\n",
    "import pytz\n",
    "from box import Box\n",
    "from github import Auth, Github\n",
    "\n",
    "# set github authorization and client\n",
    "github_client = Github(\n",
    "    auth=Auth.Token(os.environ.get(\"LANDSCAPE_ANALYSIS_GH_TOKEN\")), per_page=100\n",
    ")\n",
    "# get the current datetime\n",
    "tz = pytz.timezone(\"UTC\")\n",
    "current_datetime = datetime.now(tz)"
   ]
  },
  {
   "cell_type": "code",
   "execution_count": 17,
   "id": "5f6176ba-70a7-40c9-afe9-fa14767dfc02",
   "metadata": {
    "tags": []
   },
   "outputs": [
    {
     "data": {
      "text/plain": [
       "[{'homepage_url': 'https://pycytominer.readthedocs.io/en/latest/',\n",
       "  'name': 'pycytominer',\n",
       "  'repo_url': 'https://github.com/cytomining/pycytominer',\n",
       "  'category': ['loi-focus', 'cytomining-ecosystem']},\n",
       " {'homepage_url': 'https://cytosnake.readthedocs.io/en/latest/',\n",
       "  'name': 'cytosnake',\n",
       "  'repo_url': 'https://github.com/WayScience/CytoSnake',\n",
       "  'category': ['loi-focus', 'cytomining-ecosystem']},\n",
       " {'homepage_url': 'https://cytomining.github.io/CytoTable/',\n",
       "  'name': 'cytotable',\n",
       "  'repo_url': 'https://github.com/cytomining/CytoTable',\n",
       "  'category': ['loi-focus', 'cytomining-ecosystem']}]"
      ]
     },
     "execution_count": 17,
     "metadata": {},
     "output_type": "execute_result"
    }
   ],
   "source": [
    "# gather projects data\n",
    "projects = Box.from_yaml(filename=\"data/target-projects.yaml\").projects\n",
    "\n",
    "# gather the lowercase loi focus project names from targets\n",
    "loi_target_projects = [\n",
    "    project for project in projects.to_list() if \"loi-focus\" in project[\"category\"]\n",
    "]\n",
    "loi_target_projects"
   ]
  },
  {
   "cell_type": "code",
   "execution_count": 44,
   "id": "cd046a96-3864-467b-9924-3156fbfd6ebc",
   "metadata": {
    "tags": []
   },
   "outputs": [
    {
     "data": {
      "text/html": [
       "<pre>[{&#x27;Project Name&#x27;: &#x27;pycytominer&#x27;, &#x27;GitHub Repository ID&#x27;: 195106954, ...},\n",
       " {&#x27;Project Name&#x27;: &#x27;CytoSnake&#x27;, &#x27;GitHub Repository ID&#x27;: 459692818, ...},\n",
       " {&#x27;Project Name&#x27;: &#x27;CytoTable&#x27;, &#x27;GitHub Repository ID&#x27;: 534282624, ...}]\n",
       "-------------------------------------------------------------------------\n",
       "type: 3 * {\n",
       "    &quot;Project Name&quot;: string,\n",
       "    &quot;GitHub Repository ID&quot;: int64,\n",
       "    &quot;GitHub Stars&quot;: int64,\n",
       "    &quot;GitHub Network Count&quot;: int64,\n",
       "    &quot;Github Top Referrers&quot;: var * {\n",
       "        uniques: int64,\n",
       "        referrer: string,\n",
       "        count: int64\n",
       "    }\n",
       "}</pre>"
      ],
      "text/plain": [
       "<Array [{'Project Name': ..., ...}, ..., {...}] type='3 * {\"Project Name\": ...'>"
      ]
     },
     "execution_count": 44,
     "metadata": {},
     "output_type": "execute_result"
    }
   ],
   "source": [
    "# gather targeted data from GitHub\n",
    "tgt_github_metrics = [\n",
    "    {\n",
    "        \"Project Name\": repo.name,\n",
    "        # gather repo data from github API\n",
    "        \"GitHub Repository ID\": repo.id,\n",
    "        \"GitHub Stars\": repo.stargazers_count,\n",
    "        \"GitHub Network Count\": repo.network_count,\n",
    "        \"Github Top Referrers\": [\n",
    "            {\n",
    "                \"uniques\": referrer.uniques,\n",
    "                \"referrer\": referrer.referrer,\n",
    "                \"count\": referrer.count,\n",
    "            }\n",
    "            for referrer in repo.get_top_referrers()\n",
    "        ],\n",
    "        # gather github dependent data scraped from github-dependents-info\n",
    "        # (github api information otherwise appears to be private or undocumented)\n",
    "        \"GitHub Dependents\": json.loads(\n",
    "            subprocess.run(\n",
    "                [\n",
    "                    \"github-dependents-info\",\n",
    "                    \"--repo\",\n",
    "                    \"cytomining/pycytominer\",\n",
    "                    \"--json\",\n",
    "                ],\n",
    "                capture_output=True,\n",
    "                check=True,\n",
    "            ).stdout\n",
    "        ),\n",
    "    }\n",
    "    # make a request for github repo data with pygithub\n",
    "    for project, repo in [\n",
    "        (\n",
    "            project,\n",
    "            github_client.get_repo(\n",
    "                project[\"repo_url\"].replace(\"https://github.com/\", \"\")\n",
    "            ),\n",
    "        )\n",
    "        for project in loi_target_projects\n",
    "    ]\n",
    "]\n",
    "ak.Array(tgt_github_metrics)"
   ]
  },
  {
   "cell_type": "code",
   "execution_count": null,
   "id": "f3d44228-a23a-463b-9f7e-06a8cbb706e8",
   "metadata": {
    "tags": []
   },
   "outputs": [],
   "source": [
    "listing = [\n",
    "    {\n",
    "        \"name\": contributor.name,\n",
    "        \"login\": contributor.login,\n",
    "        \"contributions_push_nonfork_limited\": list(\n",
    "            set(\n",
    "                [\n",
    "                    event.repo.name\n",
    "                    for event in contributor.get_events()\n",
    "                    if event.type == \"PushEvent\" and event.repo and not event.repo.fork\n",
    "                ]\n",
    "            )\n",
    "        ),\n",
    "    }\n",
    "    for contributor in github_client.get_repo(\"cytomining/cytotable\").get_contributors()\n",
    "]\n",
    "\n",
    "\n",
    "listing"
   ]
  }
 ],
 "metadata": {
  "kernelspec": {
   "display_name": "Python 3 (ipykernel)",
   "language": "python",
   "name": "python3"
  },
  "language_info": {
   "codemirror_mode": {
    "name": "ipython",
    "version": 3
   },
   "file_extension": ".py",
   "mimetype": "text/x-python",
   "name": "python",
   "nbconvert_exporter": "python",
   "pygments_lexer": "ipython3",
   "version": "3.9.16"
  }
 },
 "nbformat": 4,
 "nbformat_minor": 5
}
