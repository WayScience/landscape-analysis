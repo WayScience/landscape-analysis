{
 "cells": [
  {
   "cell_type": "markdown",
   "id": "8f88d59f-3c0d-4d33-908e-0381578065dd",
   "metadata": {},
   "source": [
    "# Gather Targeted Project GitHub Metrics\n",
    "\n",
    "Project GitHub dependant, visitor, and contributor network metrics for software landscape analysis related to Cytomining ecosystem.\n",
    "\n",
    "Namely, we're seeking data which backs up the following:\n",
    "- Software projects that depend on the project\n",
    "- Monthly visitors to project’s website\n",
    "- List of software projects to which key personnel are contributing\n",
    "\n",
    "## Setup\n",
    "\n",
    "Set an environment variable named `LANDSCAPE_ANALYSIS_GH_TOKEN` to a [GitHub access token](https://docs.github.com/en/authentication/keeping-your-account-and-data-secure/managing-your-personal-access-tokens). E.g.: `export LANDSCAPE_ANALYSIS_GH_TOKEN=token_here`"
   ]
  },
  {
   "cell_type": "code",
   "execution_count": 1,
   "id": "fef169d9-a9ce-4b80-af16-92b02375e24a",
   "metadata": {},
   "outputs": [],
   "source": [
    "import os\n",
    "from datetime import datetime\n",
    "\n",
    "import pandas as pd\n",
    "import pytz\n",
    "from box import Box\n",
    "from github import Auth, Github\n",
    "\n",
    "# set github authorization and client\n",
    "github_client = Github(\n",
    "    auth=Auth.Token(os.environ.get(\"LANDSCAPE_ANALYSIS_GH_TOKEN\")), per_page=100\n",
    ")\n",
    "# get the current datetime\n",
    "tz = pytz.timezone(\"UTC\")\n",
    "current_datetime = datetime.now(tz)"
   ]
  },
  {
   "cell_type": "code",
   "execution_count": 3,
   "id": "5f6176ba-70a7-40c9-afe9-fa14767dfc02",
   "metadata": {
    "tags": []
   },
   "outputs": [
    {
     "data": {
      "text/plain": [
       "[{'homepage_url': 'https://pycytominer.readthedocs.io/en/latest/',\n",
       "  'name': 'pycytominer',\n",
       "  'repo_url': 'https://github.com/cytomining/pycytominer',\n",
       "  'category': ['loi-focus', 'cytomining-ecosystem']},\n",
       " {'homepage_url': 'https://cytosnake.readthedocs.io/en/latest/',\n",
       "  'name': 'cytosnake',\n",
       "  'repo_url': 'https://github.com/WayScience/CytoSnake',\n",
       "  'category': ['loi-focus', 'cytomining-ecosystem']},\n",
       " {'homepage_url': 'https://cytomining.github.io/CytoTable/',\n",
       "  'name': 'cytotable',\n",
       "  'repo_url': 'https://github.com/cytomining/CytoTable',\n",
       "  'category': ['loi-focus', 'cytomining-ecosystem']}]"
      ]
     },
     "execution_count": 3,
     "metadata": {},
     "output_type": "execute_result"
    }
   ],
   "source": [
    "# gather projects data\n",
    "projects = Box.from_yaml(filename=\"data/target-projects.yaml\").projects\n",
    "\n",
    "# gather the lowercase loi focus project names from targets\n",
    "loi_target_projects = [\n",
    "    project for project in projects.to_list() if \"loi-focus\" in project[\"category\"]\n",
    "]\n",
    "loi_target_projects"
   ]
  },
  {
   "cell_type": "code",
   "execution_count": 3,
   "id": "cd046a96-3864-467b-9924-3156fbfd6ebc",
   "metadata": {
    "tags": []
   },
   "outputs": [
    {
     "data": {
      "text/html": [
       "<div>\n",
       "<style scoped>\n",
       "    .dataframe tbody tr th:only-of-type {\n",
       "        vertical-align: middle;\n",
       "    }\n",
       "\n",
       "    .dataframe tbody tr th {\n",
       "        vertical-align: top;\n",
       "    }\n",
       "\n",
       "    .dataframe thead th {\n",
       "        text-align: right;\n",
       "    }\n",
       "</style>\n",
       "<table border=\"1\" class=\"dataframe\">\n",
       "  <thead>\n",
       "    <tr style=\"text-align: right;\">\n",
       "      <th></th>\n",
       "      <th>Project Name</th>\n",
       "      <th>Date Created</th>\n",
       "    </tr>\n",
       "  </thead>\n",
       "  <tbody>\n",
       "    <tr>\n",
       "      <th>0</th>\n",
       "      <td>pycytominer</td>\n",
       "      <td>2019-07-03 12:22:51-06:00</td>\n",
       "    </tr>\n",
       "    <tr>\n",
       "      <th>1</th>\n",
       "      <td>CytoSnake</td>\n",
       "      <td>2022-02-15 11:02:45-07:00</td>\n",
       "    </tr>\n",
       "    <tr>\n",
       "      <th>2</th>\n",
       "      <td>CytoTable</td>\n",
       "      <td>2022-09-08 09:46:25-06:00</td>\n",
       "    </tr>\n",
       "  </tbody>\n",
       "</table>\n",
       "</div>"
      ],
      "text/plain": [
       "  Project Name              Date Created\n",
       "0  pycytominer 2019-07-03 12:22:51-06:00\n",
       "1    CytoSnake 2022-02-15 11:02:45-07:00\n",
       "2    CytoTable 2022-09-08 09:46:25-06:00"
      ]
     },
     "execution_count": 3,
     "metadata": {},
     "output_type": "execute_result"
    }
   ],
   "source": [
    "# gather targeted data from GitHub\n",
    "tgt_github_metrics = [\n",
    "    {\n",
    "        \"Project Name\": repo.name,\n",
    "        \"GitHub Repository ID\": repo.id,\n",
    "        \"GitHub Stars\": repo.stargazers_count,\n",
    "        \"GitHub Network Count\": repo.network_count,\n",
    "        \"GitHub Detected Languages\": repo.get_languages(),\n",
    "        \"Date Created\": repo.created_at.replace(tzinfo=pytz.UTC),\n",
    "    }\n",
    "    # make a request for github repo data with pygithub\n",
    "    for project, repo in [\n",
    "        (\n",
    "            project,\n",
    "            github_client.get_repo(project.repo_url.replace(\"https://github.com/\", \"\")),\n",
    "        )\n",
    "        for project in projects\n",
    "    ]\n",
    "]"
   ]
  }
 ],
 "metadata": {
  "kernelspec": {
   "display_name": "Python 3 (ipykernel)",
   "language": "python",
   "name": "python3"
  },
  "language_info": {
   "codemirror_mode": {
    "name": "ipython",
    "version": 3
   },
   "file_extension": ".py",
   "mimetype": "text/x-python",
   "name": "python",
   "nbconvert_exporter": "python",
   "pygments_lexer": "ipython3",
   "version": "3.9.16"
  }
 },
 "nbformat": 4,
 "nbformat_minor": 5
}
