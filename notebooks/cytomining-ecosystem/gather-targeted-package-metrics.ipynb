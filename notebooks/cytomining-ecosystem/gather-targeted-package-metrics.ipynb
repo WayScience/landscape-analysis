{
 "cells": [
  {
   "cell_type": "markdown",
   "id": "8f88d59f-3c0d-4d33-908e-0381578065dd",
   "metadata": {},
   "source": [
    "# Gather Targeted Project Package Metrics\n",
    "\n",
    "Project package metrics (PyPI, Conda, etc.) for software landscape analysis related to Cytomining ecosystem.\n",
    "\n",
    "## Setup\n",
    "\n",
    "Use of this notebook involves setup via https://github.com/ofek/pypinfo#installation. An environment variable is expected for pypinfo to work properly. For example: `export GOOGLE_APPLICATION_CREDENTIALS=/path/to/credentials.json`"
   ]
  },
  {
   "cell_type": "code",
   "execution_count": 14,
   "id": "fef169d9-a9ce-4b80-af16-92b02375e24a",
   "metadata": {},
   "outputs": [],
   "source": [
    "import json\n",
    "import os\n",
    "import subprocess\n",
    "from datetime import datetime\n",
    "\n",
    "import awkward as ak\n",
    "import condastats.cli as condastats_cli\n",
    "import duckdb\n",
    "import numpy as np\n",
    "import pandas as pd\n",
    "import pytz\n",
    "from box import Box"
   ]
  },
  {
   "cell_type": "code",
   "execution_count": 15,
   "id": "5f6176ba-70a7-40c9-afe9-fa14767dfc02",
   "metadata": {
    "tags": []
   },
   "outputs": [
    {
     "data": {
      "text/plain": [
       "['pycytominer', 'cytosnake', 'cytotable']"
      ]
     },
     "execution_count": 15,
     "metadata": {},
     "output_type": "execute_result"
    }
   ],
   "source": [
    "# gather projects data\n",
    "projects = Box.from_yaml(filename=\"data/target-projects.yaml\").projects\n",
    "\n",
    "# gather the lowercase loi focus project names from targets\n",
    "loi_target_projects = [\n",
    "    project[\"name\"].lower()\n",
    "    for project in projects.to_list()\n",
    "    if \"loi-focus\" in project[\"category\"]\n",
    "]\n",
    "loi_target_projects"
   ]
  },
  {
   "cell_type": "code",
   "execution_count": 16,
   "id": "fe7448a3-190d-44f4-bfce-5a1a862a4a0f",
   "metadata": {
    "tags": []
   },
   "outputs": [
    {
     "data": {
      "text/html": [
       "<div>\n",
       "<style scoped>\n",
       "    .dataframe tbody tr th:only-of-type {\n",
       "        vertical-align: middle;\n",
       "    }\n",
       "\n",
       "    .dataframe tbody tr th {\n",
       "        vertical-align: top;\n",
       "    }\n",
       "\n",
       "    .dataframe thead th {\n",
       "        text-align: right;\n",
       "    }\n",
       "</style>\n",
       "<table border=\"1\" class=\"dataframe\">\n",
       "  <thead>\n",
       "    <tr style=\"text-align: right;\">\n",
       "      <th></th>\n",
       "      <th>Project Name</th>\n",
       "      <th>Date Created</th>\n",
       "    </tr>\n",
       "  </thead>\n",
       "  <tbody>\n",
       "    <tr>\n",
       "      <th>0</th>\n",
       "      <td>pycytominer</td>\n",
       "      <td>2019-07-03 12:22:51-06:00</td>\n",
       "    </tr>\n",
       "    <tr>\n",
       "      <th>1</th>\n",
       "      <td>CytoSnake</td>\n",
       "      <td>2022-02-15 11:02:45-07:00</td>\n",
       "    </tr>\n",
       "    <tr>\n",
       "      <th>2</th>\n",
       "      <td>CytoTable</td>\n",
       "      <td>2022-09-08 09:46:25-06:00</td>\n",
       "    </tr>\n",
       "  </tbody>\n",
       "</table>\n",
       "</div>"
      ],
      "text/plain": [
       "  Project Name              Date Created\n",
       "0  pycytominer 2019-07-03 12:22:51-06:00\n",
       "1    CytoSnake 2022-02-15 11:02:45-07:00\n",
       "2    CytoTable 2022-09-08 09:46:25-06:00"
      ]
     },
     "execution_count": 16,
     "metadata": {},
     "output_type": "execute_result"
    }
   ],
   "source": [
    "# create a str for targeting the specific projects\n",
    "project_sql_str = \", \".join([\"'\" + project + \"'\" for project in loi_target_projects])\n",
    "\n",
    "# filter results of github stats to find the project creation date for use in filtering below\n",
    "with duckdb.connect() as ddb:\n",
    "    loi_target_project_years = ddb.query(\n",
    "        f\"\"\"\n",
    "    SELECT\n",
    "        ghstats.\"Project Name\",\n",
    "        ghstats.\"Date Created\"\n",
    "    FROM read_parquet('data/project-github-metrics.parquet') as ghstats\n",
    "    WHERE LOWER(ghstats.\"Project Name\") in ({project_sql_str})\n",
    "    \"\"\",\n",
    "    ).df()\n",
    "\n",
    "loi_target_project_years"
   ]
  },
  {
   "cell_type": "code",
   "execution_count": 17,
   "id": "ccedaafb-de37-42ef-aa82-c51e9ce05d55",
   "metadata": {
    "tags": []
   },
   "outputs": [
    {
     "data": {
      "text/plain": [
       "[{'Project Name': 'pycytominer', 'Date Created YYYY-MM': '2019-07'},\n",
       " {'Project Name': 'CytoSnake', 'Date Created YYYY-MM': '2022-02'},\n",
       " {'Project Name': 'CytoTable', 'Date Created YYYY-MM': '2022-09'}]"
      ]
     },
     "execution_count": 17,
     "metadata": {},
     "output_type": "execute_result"
    }
   ],
   "source": [
    "# add a year created\n",
    "loi_target_project_years[\"Date Created YYYY-MM\"] = loi_target_project_years[\n",
    "    \"Date Created\"\n",
    "].dt.strftime(\"%Y-%m\")\n",
    "pkg_metrics = loi_target_project_years[\n",
    "    [\"Project Name\", \"Date Created YYYY-MM\"]\n",
    "].to_dict(orient=\"records\")\n",
    "pkg_metrics"
   ]
  },
  {
   "cell_type": "code",
   "execution_count": 18,
   "id": "1622092a-da49-4cb4-ac63-538eeb1e54d8",
   "metadata": {
    "tags": []
   },
   "outputs": [
    {
     "data": {
      "text/html": [
       "<pre>[{&#x27;Project Name&#x27;: &#x27;pycytominer&#x27;, &#x27;Date Created YYYY-MM&#x27;: &#x27;2019-07&#x27;, ...},\n",
       " {&#x27;Project Name&#x27;: &#x27;CytoSnake&#x27;, &#x27;Date Created YYYY-MM&#x27;: &#x27;2022-02&#x27;, ...},\n",
       " {&#x27;Project Name&#x27;: &#x27;CytoTable&#x27;, &#x27;Date Created YYYY-MM&#x27;: &#x27;2022-09&#x27;, ...}]\n",
       "-------------------------------------------------------------------------\n",
       "type: 3 * {\n",
       "    &quot;Project Name&quot;: string,\n",
       "    &quot;Date Created YYYY-MM&quot;: string,\n",
       "    pypi_downloads_total: var * {\n",
       "        download_count: int64\n",
       "    },\n",
       "    pypi_downloads_by_month: var * {\n",
       "        download_count: int64,\n",
       "        download_month: string\n",
       "    },\n",
       "    pypi_downloads_by_pyversion: var * {\n",
       "        download_count: int64,\n",
       "        python_version: string\n",
       "    },\n",
       "    pypi_downloads_by_country: var * {\n",
       "        country: string,\n",
       "        download_count: int64\n",
       "    },\n",
       "    pypi_downloads_by_system_and_distro: var * {\n",
       "        distro_name: string,\n",
       "        download_count: int64,\n",
       "        system_name: string\n",
       "    }\n",
       "}</pre>"
      ],
      "text/plain": [
       "<Array [{'Project Name': ..., ...}, ..., {...}] type='3 * {\"Project Name\": ...'>"
      ]
     },
     "execution_count": 18,
     "metadata": {},
     "output_type": "execute_result"
    }
   ],
   "source": [
    "# gather various PyPI metrics through pypinfo\n",
    "pkg_metrics = [\n",
    "    dict(\n",
    "        project,\n",
    "        **{\n",
    "            # gather total downloads\n",
    "            \"pypi_downloads_total\": json.loads(\n",
    "                subprocess.run(\n",
    "                    [\n",
    "                        \"pypinfo\",\n",
    "                        \"--json\",\n",
    "                        project[\"Project Name\"],\n",
    "                    ],\n",
    "                    capture_output=True,\n",
    "                    check=True,\n",
    "                ).stdout\n",
    "            )[\"rows\"],\n",
    "            # gather downloads by year and month, ordered by month\n",
    "            \"pypi_downloads_by_month\": json.loads(\n",
    "                subprocess.run(\n",
    "                    [\n",
    "                        \"pypinfo\",\n",
    "                        \"--json\",\n",
    "                        \"--start-date\",\n",
    "                        project[\"Date Created YYYY-MM\"],\n",
    "                        \"--order\",\n",
    "                        \"download_month\",\n",
    "                        project[\"Project Name\"],\n",
    "                        \"month\",\n",
    "                    ],\n",
    "                    capture_output=True,\n",
    "                    check=True,\n",
    "                ).stdout\n",
    "            )[\"rows\"],\n",
    "            # gather downloads by python version\n",
    "            \"pypi_downloads_by_pyversion\": json.loads(\n",
    "                subprocess.run(\n",
    "                    [\"pypinfo\", \"--json\", project[\"Project Name\"], \"pyversion\"],\n",
    "                    capture_output=True,\n",
    "                    check=True,\n",
    "                ).stdout\n",
    "            )[\"rows\"],\n",
    "            # gather downloads by country\n",
    "            \"pypi_downloads_by_country\": json.loads(\n",
    "                subprocess.run(\n",
    "                    [\"pypinfo\", \"--json\", project[\"Project Name\"], \"country\"],\n",
    "                    capture_output=True,\n",
    "                    check=True,\n",
    "                ).stdout\n",
    "            )[\"rows\"],\n",
    "            # gather downloads by system and distro type\n",
    "            \"pypi_downloads_by_system_and_distro\": json.loads(\n",
    "                subprocess.run(\n",
    "                    [\"pypinfo\", \"--json\", project[\"Project Name\"], \"system\", \"distro\"],\n",
    "                    capture_output=True,\n",
    "                    check=True,\n",
    "                ).stdout\n",
    "            )[\"rows\"],\n",
    "        }\n",
    "    )\n",
    "    for project in pkg_metrics\n",
    "]\n",
    "ak.Array(pkg_metrics)"
   ]
  },
  {
   "cell_type": "code",
   "execution_count": null,
   "id": "7ddbe8c8-28d5-4357-b83f-9133fbbad87b",
   "metadata": {
    "tags": []
   },
   "outputs": [],
   "source": [
    "# gather various conda metrics through condastats (seeks conda-forge and bioconda data)\n",
    "pkg_metrics = [\n",
    "    dict(\n",
    "        project,\n",
    "        **{\n",
    "            # gather total downloads\n",
    "            \"conda_downloads_total\": condastats_cli.overall(\n",
    "                package=project[\"Project Name\"],\n",
    "                start_month=project[\"Date Created YYYY-MM\"],\n",
    "            ).to_dict(),\n",
    "            # gather downloads by month\n",
    "            \"conda_downloads_by_month\": condastats_cli.overall(\n",
    "                package=project[\"Project Name\"],\n",
    "                start_month=project[\"Date Created YYYY-MM\"],\n",
    "                monthly=True,\n",
    "            ).to_dict(),\n",
    "            # gather downloads by python version\n",
    "            \"conda_downloads_by_pyversion\": condastats_cli.pkg_python(\n",
    "                package=project[\"Project Name\"],\n",
    "                start_month=project[\"Date Created YYYY-MM\"],\n",
    "            ).to_dict(),\n",
    "            # gather downloads by version\n",
    "            \"conda_downloads_by_version\": condastats_cli.pkg_version(\n",
    "                package=project[\"Project Name\"],\n",
    "                start_month=project[\"Date Created YYYY-MM\"],\n",
    "            ).to_dict(),\n",
    "            # gather downloads by system and distro type\n",
    "            \"conda_downloads_by_platform\": condastats_cli.pkg_platform(\n",
    "                package=project[\"Project Name\"],\n",
    "                start_month=project[\"Date Created YYYY-MM\"],\n",
    "            ).to_dict(),\n",
    "        }\n",
    "    )\n",
    "    for project in pkg_metrics\n",
    "]\n",
    "ak.Array(pkg_metrics)"
   ]
  },
  {
   "cell_type": "code",
   "execution_count": null,
   "id": "b24e8e2c-f722-44d2-b60b-1ae1b4c04a96",
   "metadata": {},
   "outputs": [],
   "source": []
  }
 ],
 "metadata": {
  "kernelspec": {
   "display_name": "Python 3 (ipykernel)",
   "language": "python",
   "name": "python3"
  },
  "language_info": {
   "codemirror_mode": {
    "name": "ipython",
    "version": 3
   },
   "file_extension": ".py",
   "mimetype": "text/x-python",
   "name": "python",
   "nbconvert_exporter": "python",
   "pygments_lexer": "ipython3",
   "version": "3.9.16"
  }
 },
 "nbformat": 4,
 "nbformat_minor": 5
}
