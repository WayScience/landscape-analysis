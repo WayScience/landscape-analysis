{
 "cells": [
  {
   "cell_type": "markdown",
   "id": "8f88d59f-3c0d-4d33-908e-0381578065dd",
   "metadata": {},
   "source": [
    "# Gather Targeted Project Package Metrics\n",
    "\n",
    "Project package metrics (PyPI, Conda, etc.) for software landscape analysis related to Cytomining ecosystem.\n",
    "\n",
    "## Setup\n",
    "\n",
    "Use of this notebook involves setup via https://github.com/ofek/pypinfo#installation. An environment variable is expected for pypinfo to work properly. For example: `export GOOGLE_APPLICATION_CREDENTIALS=/path/to/credentials.json`"
   ]
  },
  {
   "cell_type": "code",
   "execution_count": 1,
   "id": "fef169d9-a9ce-4b80-af16-92b02375e24a",
   "metadata": {},
   "outputs": [],
   "source": [
    "import json\n",
    "import os\n",
    "import subprocess\n",
    "from datetime import datetime\n",
    "\n",
    "import awkward as ak\n",
    "import numpy as np\n",
    "import pandas as pd\n",
    "import pytz\n",
    "from box import Box"
   ]
  },
  {
   "cell_type": "code",
   "execution_count": 2,
   "id": "5f6176ba-70a7-40c9-afe9-fa14767dfc02",
   "metadata": {
    "tags": []
   },
   "outputs": [
    {
     "data": {
      "text/plain": [
       "['pycytominer', 'cytosnake', 'cytotable', 'idr_stream']"
      ]
     },
     "execution_count": 2,
     "metadata": {},
     "output_type": "execute_result"
    }
   ],
   "source": [
    "# gather projects data\n",
    "projects = Box.from_yaml(filename=\"data/target-projects.yaml\").projects\n",
    "\n",
    "# gather the lowercase loi focus project names from targets\n",
    "loi_target_projects = [\n",
    "    project[\"name\"].lower()\n",
    "    for project in projects.to_list()\n",
    "    if \"loi-focus\" in project[\"category\"]\n",
    "]\n",
    "loi_target_projects"
   ]
  },
  {
   "cell_type": "code",
   "execution_count": 3,
   "id": "ccedaafb-de37-42ef-aa82-c51e9ce05d55",
   "metadata": {
    "tags": []
   },
   "outputs": [
    {
     "data": {
      "text/plain": [
       "[{'Project Name': 'pycytominer'},\n",
       " {'Project Name': 'cytosnake'},\n",
       " {'Project Name': 'cytotable'},\n",
       " {'Project Name': 'idr_stream'}]"
      ]
     },
     "execution_count": 3,
     "metadata": {},
     "output_type": "execute_result"
    }
   ],
   "source": [
    "# form a data structure for gathering package data\n",
    "pkg_metrics = [{\"Project Name\": project} for project in loi_target_projects]\n",
    "pkg_metrics"
   ]
  },
  {
   "cell_type": "code",
   "execution_count": 4,
   "id": "1622092a-da49-4cb4-ac63-538eeb1e54d8",
   "metadata": {
    "tags": []
   },
   "outputs": [
    {
     "ename": "TypeError",
     "evalue": "list indices must be integers or slices, not str",
     "output_type": "error",
     "traceback": [
      "\u001b[0;31m---------------------------------------------------------------------------\u001b[0m",
      "\u001b[0;31mTypeError\u001b[0m                                 Traceback (most recent call last)",
      "Cell \u001b[0;32mIn[4], line 2\u001b[0m\n\u001b[1;32m      1\u001b[0m \u001b[38;5;66;03m# gather various PyPI metrics through pypinfo\u001b[39;00m\n\u001b[0;32m----> 2\u001b[0m pkg_metrics \u001b[38;5;241m=\u001b[39m [\n\u001b[1;32m      3\u001b[0m     \u001b[38;5;28mdict\u001b[39m(\n\u001b[1;32m      4\u001b[0m         project,\n\u001b[1;32m      5\u001b[0m         \u001b[38;5;241m*\u001b[39m\u001b[38;5;241m*\u001b[39m{\n\u001b[1;32m      6\u001b[0m             \u001b[38;5;66;03m# gather total downloads\u001b[39;00m\n\u001b[1;32m      7\u001b[0m             \u001b[38;5;124m\"\u001b[39m\u001b[38;5;124mpypi_downloads_total\u001b[39m\u001b[38;5;124m\"\u001b[39m: json\u001b[38;5;241m.\u001b[39mloads(\n\u001b[1;32m      8\u001b[0m                 subprocess\u001b[38;5;241m.\u001b[39mrun(\n\u001b[1;32m      9\u001b[0m                     [\n\u001b[1;32m     10\u001b[0m                         \u001b[38;5;124m\"\u001b[39m\u001b[38;5;124mpypinfo\u001b[39m\u001b[38;5;124m\"\u001b[39m,\n\u001b[1;32m     11\u001b[0m                         \u001b[38;5;124m\"\u001b[39m\u001b[38;5;124m--json\u001b[39m\u001b[38;5;124m\"\u001b[39m,\n\u001b[1;32m     12\u001b[0m                         project[\u001b[38;5;124m\"\u001b[39m\u001b[38;5;124mProject Name\u001b[39m\u001b[38;5;124m\"\u001b[39m],\n\u001b[1;32m     13\u001b[0m                     ],\n\u001b[1;32m     14\u001b[0m                     capture_output\u001b[38;5;241m=\u001b[39m\u001b[38;5;28;01mTrue\u001b[39;00m,\n\u001b[1;32m     15\u001b[0m                     check\u001b[38;5;241m=\u001b[39m\u001b[38;5;28;01mTrue\u001b[39;00m,\n\u001b[1;32m     16\u001b[0m                 )\u001b[38;5;241m.\u001b[39mstdout\n\u001b[1;32m     17\u001b[0m             )[\u001b[38;5;124m\"\u001b[39m\u001b[38;5;124mrows\u001b[39m\u001b[38;5;124m\"\u001b[39m][\u001b[38;5;124m\"\u001b[39m\u001b[38;5;124mdownload_count\u001b[39m\u001b[38;5;124m\"\u001b[39m],\n\u001b[1;32m     18\u001b[0m             \u001b[38;5;66;03m# gather downloads by python version\u001b[39;00m\n\u001b[1;32m     19\u001b[0m             \u001b[38;5;124m\"\u001b[39m\u001b[38;5;124mpypi_downloads_by_pyversion\u001b[39m\u001b[38;5;124m\"\u001b[39m: json\u001b[38;5;241m.\u001b[39mloads(\n\u001b[1;32m     20\u001b[0m                 subprocess\u001b[38;5;241m.\u001b[39mrun(\n\u001b[1;32m     21\u001b[0m                     [\u001b[38;5;124m\"\u001b[39m\u001b[38;5;124mpypinfo\u001b[39m\u001b[38;5;124m\"\u001b[39m, \u001b[38;5;124m\"\u001b[39m\u001b[38;5;124m--json\u001b[39m\u001b[38;5;124m\"\u001b[39m, project[\u001b[38;5;124m\"\u001b[39m\u001b[38;5;124mProject Name\u001b[39m\u001b[38;5;124m\"\u001b[39m], \u001b[38;5;124m\"\u001b[39m\u001b[38;5;124mpyversion\u001b[39m\u001b[38;5;124m\"\u001b[39m],\n\u001b[1;32m     22\u001b[0m                     capture_output\u001b[38;5;241m=\u001b[39m\u001b[38;5;28;01mTrue\u001b[39;00m,\n\u001b[1;32m     23\u001b[0m                     check\u001b[38;5;241m=\u001b[39m\u001b[38;5;28;01mTrue\u001b[39;00m,\n\u001b[1;32m     24\u001b[0m                 )\u001b[38;5;241m.\u001b[39mstdout\n\u001b[1;32m     25\u001b[0m             )[\u001b[38;5;124m\"\u001b[39m\u001b[38;5;124mrows\u001b[39m\u001b[38;5;124m\"\u001b[39m],\n\u001b[1;32m     26\u001b[0m             \u001b[38;5;66;03m# gather downloads by country\u001b[39;00m\n\u001b[1;32m     27\u001b[0m             \u001b[38;5;124m\"\u001b[39m\u001b[38;5;124mpypi_downloads_by_country\u001b[39m\u001b[38;5;124m\"\u001b[39m: json\u001b[38;5;241m.\u001b[39mloads(\n\u001b[1;32m     28\u001b[0m                 subprocess\u001b[38;5;241m.\u001b[39mrun(\n\u001b[1;32m     29\u001b[0m                     [\u001b[38;5;124m\"\u001b[39m\u001b[38;5;124mpypinfo\u001b[39m\u001b[38;5;124m\"\u001b[39m, \u001b[38;5;124m\"\u001b[39m\u001b[38;5;124m--json\u001b[39m\u001b[38;5;124m\"\u001b[39m, project[\u001b[38;5;124m\"\u001b[39m\u001b[38;5;124mProject Name\u001b[39m\u001b[38;5;124m\"\u001b[39m], \u001b[38;5;124m\"\u001b[39m\u001b[38;5;124mcountry\u001b[39m\u001b[38;5;124m\"\u001b[39m],\n\u001b[1;32m     30\u001b[0m                     capture_output\u001b[38;5;241m=\u001b[39m\u001b[38;5;28;01mTrue\u001b[39;00m,\n\u001b[1;32m     31\u001b[0m                     check\u001b[38;5;241m=\u001b[39m\u001b[38;5;28;01mTrue\u001b[39;00m,\n\u001b[1;32m     32\u001b[0m                 )\u001b[38;5;241m.\u001b[39mstdout\n\u001b[1;32m     33\u001b[0m             )[\u001b[38;5;124m\"\u001b[39m\u001b[38;5;124mrows\u001b[39m\u001b[38;5;124m\"\u001b[39m],\n\u001b[1;32m     34\u001b[0m             \u001b[38;5;66;03m# gather downloads by system and distro type\u001b[39;00m\n\u001b[1;32m     35\u001b[0m             \u001b[38;5;124m\"\u001b[39m\u001b[38;5;124mpypi_downloads_by_system_and_distro\u001b[39m\u001b[38;5;124m\"\u001b[39m: json\u001b[38;5;241m.\u001b[39mloads(\n\u001b[1;32m     36\u001b[0m                 subprocess\u001b[38;5;241m.\u001b[39mrun(\n\u001b[1;32m     37\u001b[0m                     [\u001b[38;5;124m\"\u001b[39m\u001b[38;5;124mpypinfo\u001b[39m\u001b[38;5;124m\"\u001b[39m, \u001b[38;5;124m\"\u001b[39m\u001b[38;5;124m--json\u001b[39m\u001b[38;5;124m\"\u001b[39m, project[\u001b[38;5;124m\"\u001b[39m\u001b[38;5;124mProject Name\u001b[39m\u001b[38;5;124m\"\u001b[39m], \u001b[38;5;124m\"\u001b[39m\u001b[38;5;124msystem\u001b[39m\u001b[38;5;124m\"\u001b[39m, \u001b[38;5;124m\"\u001b[39m\u001b[38;5;124mdistro\u001b[39m\u001b[38;5;124m\"\u001b[39m],\n\u001b[1;32m     38\u001b[0m                     capture_output\u001b[38;5;241m=\u001b[39m\u001b[38;5;28;01mTrue\u001b[39;00m,\n\u001b[1;32m     39\u001b[0m                     check\u001b[38;5;241m=\u001b[39m\u001b[38;5;28;01mTrue\u001b[39;00m,\n\u001b[1;32m     40\u001b[0m                 )\u001b[38;5;241m.\u001b[39mstdout\n\u001b[1;32m     41\u001b[0m             )[\u001b[38;5;124m\"\u001b[39m\u001b[38;5;124mrows\u001b[39m\u001b[38;5;124m\"\u001b[39m],\n\u001b[1;32m     42\u001b[0m         }\n\u001b[1;32m     43\u001b[0m     )\n\u001b[1;32m     44\u001b[0m     \u001b[38;5;28;01mfor\u001b[39;00m project \u001b[38;5;129;01min\u001b[39;00m pkg_metrics\n\u001b[1;32m     45\u001b[0m ]\n\u001b[1;32m     46\u001b[0m ak\u001b[38;5;241m.\u001b[39mArray(pkg_metrics)\n",
      "Cell \u001b[0;32mIn[4], line 7\u001b[0m, in \u001b[0;36m<listcomp>\u001b[0;34m(.0)\u001b[0m\n\u001b[1;32m      1\u001b[0m \u001b[38;5;66;03m# gather various PyPI metrics through pypinfo\u001b[39;00m\n\u001b[1;32m      2\u001b[0m pkg_metrics \u001b[38;5;241m=\u001b[39m [\n\u001b[1;32m      3\u001b[0m     \u001b[38;5;28mdict\u001b[39m(\n\u001b[1;32m      4\u001b[0m         project,\n\u001b[1;32m      5\u001b[0m         \u001b[38;5;241m*\u001b[39m\u001b[38;5;241m*\u001b[39m{\n\u001b[1;32m      6\u001b[0m             \u001b[38;5;66;03m# gather total downloads\u001b[39;00m\n\u001b[0;32m----> 7\u001b[0m             \u001b[38;5;124m\"\u001b[39m\u001b[38;5;124mpypi_downloads_total\u001b[39m\u001b[38;5;124m\"\u001b[39m: \u001b[43mjson\u001b[49m\u001b[38;5;241;43m.\u001b[39;49m\u001b[43mloads\u001b[49m\u001b[43m(\u001b[49m\n\u001b[1;32m      8\u001b[0m \u001b[43m                \u001b[49m\u001b[43msubprocess\u001b[49m\u001b[38;5;241;43m.\u001b[39;49m\u001b[43mrun\u001b[49m\u001b[43m(\u001b[49m\n\u001b[1;32m      9\u001b[0m \u001b[43m                    \u001b[49m\u001b[43m[\u001b[49m\n\u001b[1;32m     10\u001b[0m \u001b[43m                        \u001b[49m\u001b[38;5;124;43m\"\u001b[39;49m\u001b[38;5;124;43mpypinfo\u001b[39;49m\u001b[38;5;124;43m\"\u001b[39;49m\u001b[43m,\u001b[49m\n\u001b[1;32m     11\u001b[0m \u001b[43m                        \u001b[49m\u001b[38;5;124;43m\"\u001b[39;49m\u001b[38;5;124;43m--json\u001b[39;49m\u001b[38;5;124;43m\"\u001b[39;49m\u001b[43m,\u001b[49m\n\u001b[1;32m     12\u001b[0m \u001b[43m                        \u001b[49m\u001b[43mproject\u001b[49m\u001b[43m[\u001b[49m\u001b[38;5;124;43m\"\u001b[39;49m\u001b[38;5;124;43mProject Name\u001b[39;49m\u001b[38;5;124;43m\"\u001b[39;49m\u001b[43m]\u001b[49m\u001b[43m,\u001b[49m\n\u001b[1;32m     13\u001b[0m \u001b[43m                    \u001b[49m\u001b[43m]\u001b[49m\u001b[43m,\u001b[49m\n\u001b[1;32m     14\u001b[0m \u001b[43m                    \u001b[49m\u001b[43mcapture_output\u001b[49m\u001b[38;5;241;43m=\u001b[39;49m\u001b[38;5;28;43;01mTrue\u001b[39;49;00m\u001b[43m,\u001b[49m\n\u001b[1;32m     15\u001b[0m \u001b[43m                    \u001b[49m\u001b[43mcheck\u001b[49m\u001b[38;5;241;43m=\u001b[39;49m\u001b[38;5;28;43;01mTrue\u001b[39;49;00m\u001b[43m,\u001b[49m\n\u001b[1;32m     16\u001b[0m \u001b[43m                \u001b[49m\u001b[43m)\u001b[49m\u001b[38;5;241;43m.\u001b[39;49m\u001b[43mstdout\u001b[49m\n\u001b[1;32m     17\u001b[0m \u001b[43m            \u001b[49m\u001b[43m)\u001b[49m\u001b[43m[\u001b[49m\u001b[38;5;124;43m\"\u001b[39;49m\u001b[38;5;124;43mrows\u001b[39;49m\u001b[38;5;124;43m\"\u001b[39;49m\u001b[43m]\u001b[49m\u001b[43m[\u001b[49m\u001b[38;5;124;43m\"\u001b[39;49m\u001b[38;5;124;43mdownload_count\u001b[39;49m\u001b[38;5;124;43m\"\u001b[39;49m\u001b[43m]\u001b[49m,\n\u001b[1;32m     18\u001b[0m             \u001b[38;5;66;03m# gather downloads by python version\u001b[39;00m\n\u001b[1;32m     19\u001b[0m             \u001b[38;5;124m\"\u001b[39m\u001b[38;5;124mpypi_downloads_by_pyversion\u001b[39m\u001b[38;5;124m\"\u001b[39m: json\u001b[38;5;241m.\u001b[39mloads(\n\u001b[1;32m     20\u001b[0m                 subprocess\u001b[38;5;241m.\u001b[39mrun(\n\u001b[1;32m     21\u001b[0m                     [\u001b[38;5;124m\"\u001b[39m\u001b[38;5;124mpypinfo\u001b[39m\u001b[38;5;124m\"\u001b[39m, \u001b[38;5;124m\"\u001b[39m\u001b[38;5;124m--json\u001b[39m\u001b[38;5;124m\"\u001b[39m, project[\u001b[38;5;124m\"\u001b[39m\u001b[38;5;124mProject Name\u001b[39m\u001b[38;5;124m\"\u001b[39m], \u001b[38;5;124m\"\u001b[39m\u001b[38;5;124mpyversion\u001b[39m\u001b[38;5;124m\"\u001b[39m],\n\u001b[1;32m     22\u001b[0m                     capture_output\u001b[38;5;241m=\u001b[39m\u001b[38;5;28;01mTrue\u001b[39;00m,\n\u001b[1;32m     23\u001b[0m                     check\u001b[38;5;241m=\u001b[39m\u001b[38;5;28;01mTrue\u001b[39;00m,\n\u001b[1;32m     24\u001b[0m                 )\u001b[38;5;241m.\u001b[39mstdout\n\u001b[1;32m     25\u001b[0m             )[\u001b[38;5;124m\"\u001b[39m\u001b[38;5;124mrows\u001b[39m\u001b[38;5;124m\"\u001b[39m],\n\u001b[1;32m     26\u001b[0m             \u001b[38;5;66;03m# gather downloads by country\u001b[39;00m\n\u001b[1;32m     27\u001b[0m             \u001b[38;5;124m\"\u001b[39m\u001b[38;5;124mpypi_downloads_by_country\u001b[39m\u001b[38;5;124m\"\u001b[39m: json\u001b[38;5;241m.\u001b[39mloads(\n\u001b[1;32m     28\u001b[0m                 subprocess\u001b[38;5;241m.\u001b[39mrun(\n\u001b[1;32m     29\u001b[0m                     [\u001b[38;5;124m\"\u001b[39m\u001b[38;5;124mpypinfo\u001b[39m\u001b[38;5;124m\"\u001b[39m, \u001b[38;5;124m\"\u001b[39m\u001b[38;5;124m--json\u001b[39m\u001b[38;5;124m\"\u001b[39m, project[\u001b[38;5;124m\"\u001b[39m\u001b[38;5;124mProject Name\u001b[39m\u001b[38;5;124m\"\u001b[39m], \u001b[38;5;124m\"\u001b[39m\u001b[38;5;124mcountry\u001b[39m\u001b[38;5;124m\"\u001b[39m],\n\u001b[1;32m     30\u001b[0m                     capture_output\u001b[38;5;241m=\u001b[39m\u001b[38;5;28;01mTrue\u001b[39;00m,\n\u001b[1;32m     31\u001b[0m                     check\u001b[38;5;241m=\u001b[39m\u001b[38;5;28;01mTrue\u001b[39;00m,\n\u001b[1;32m     32\u001b[0m                 )\u001b[38;5;241m.\u001b[39mstdout\n\u001b[1;32m     33\u001b[0m             )[\u001b[38;5;124m\"\u001b[39m\u001b[38;5;124mrows\u001b[39m\u001b[38;5;124m\"\u001b[39m],\n\u001b[1;32m     34\u001b[0m             \u001b[38;5;66;03m# gather downloads by system and distro type\u001b[39;00m\n\u001b[1;32m     35\u001b[0m             \u001b[38;5;124m\"\u001b[39m\u001b[38;5;124mpypi_downloads_by_system_and_distro\u001b[39m\u001b[38;5;124m\"\u001b[39m: json\u001b[38;5;241m.\u001b[39mloads(\n\u001b[1;32m     36\u001b[0m                 subprocess\u001b[38;5;241m.\u001b[39mrun(\n\u001b[1;32m     37\u001b[0m                     [\u001b[38;5;124m\"\u001b[39m\u001b[38;5;124mpypinfo\u001b[39m\u001b[38;5;124m\"\u001b[39m, \u001b[38;5;124m\"\u001b[39m\u001b[38;5;124m--json\u001b[39m\u001b[38;5;124m\"\u001b[39m, project[\u001b[38;5;124m\"\u001b[39m\u001b[38;5;124mProject Name\u001b[39m\u001b[38;5;124m\"\u001b[39m], \u001b[38;5;124m\"\u001b[39m\u001b[38;5;124msystem\u001b[39m\u001b[38;5;124m\"\u001b[39m, \u001b[38;5;124m\"\u001b[39m\u001b[38;5;124mdistro\u001b[39m\u001b[38;5;124m\"\u001b[39m],\n\u001b[1;32m     38\u001b[0m                     capture_output\u001b[38;5;241m=\u001b[39m\u001b[38;5;28;01mTrue\u001b[39;00m,\n\u001b[1;32m     39\u001b[0m                     check\u001b[38;5;241m=\u001b[39m\u001b[38;5;28;01mTrue\u001b[39;00m,\n\u001b[1;32m     40\u001b[0m                 )\u001b[38;5;241m.\u001b[39mstdout\n\u001b[1;32m     41\u001b[0m             )[\u001b[38;5;124m\"\u001b[39m\u001b[38;5;124mrows\u001b[39m\u001b[38;5;124m\"\u001b[39m],\n\u001b[1;32m     42\u001b[0m         }\n\u001b[1;32m     43\u001b[0m     )\n\u001b[1;32m     44\u001b[0m     \u001b[38;5;28;01mfor\u001b[39;00m project \u001b[38;5;129;01min\u001b[39;00m pkg_metrics\n\u001b[1;32m     45\u001b[0m ]\n\u001b[1;32m     46\u001b[0m ak\u001b[38;5;241m.\u001b[39mArray(pkg_metrics)\n",
      "\u001b[0;31mTypeError\u001b[0m: list indices must be integers or slices, not str"
     ]
    }
   ],
   "source": [
    "# gather various PyPI metrics through pypinfo\n",
    "pkg_metrics = [\n",
    "    dict(\n",
    "        project,\n",
    "        **{\n",
    "            # gather total downloads\n",
    "            \"pypi_downloads_total\": json.loads(\n",
    "                subprocess.run(\n",
    "                    [\n",
    "                        \"pypinfo\",\n",
    "                        \"--json\",\n",
    "                        project[\"Project Name\"],\n",
    "                    ],\n",
    "                    capture_output=True,\n",
    "                    check=True,\n",
    "                ).stdout\n",
    "            )[\"rows\"][\"download_count\"],\n",
    "            # gather downloads by python version\n",
    "            \"pypi_downloads_by_pyversion\": json.loads(\n",
    "                subprocess.run(\n",
    "                    [\"pypinfo\", \"--json\", project[\"Project Name\"], \"pyversion\"],\n",
    "                    capture_output=True,\n",
    "                    check=True,\n",
    "                ).stdout\n",
    "            )[\"rows\"],\n",
    "            # gather downloads by country\n",
    "            \"pypi_downloads_by_country\": json.loads(\n",
    "                subprocess.run(\n",
    "                    [\"pypinfo\", \"--json\", project[\"Project Name\"], \"country\"],\n",
    "                    capture_output=True,\n",
    "                    check=True,\n",
    "                ).stdout\n",
    "            )[\"rows\"],\n",
    "            # gather downloads by system and distro type\n",
    "            \"pypi_downloads_by_system_and_distro\": json.loads(\n",
    "                subprocess.run(\n",
    "                    [\"pypinfo\", \"--json\", project[\"Project Name\"], \"system\", \"distro\"],\n",
    "                    capture_output=True,\n",
    "                    check=True,\n",
    "                ).stdout\n",
    "            )[\"rows\"],\n",
    "        }\n",
    "    )\n",
    "    for project in pkg_metrics\n",
    "]\n",
    "ak.Array(pkg_metrics)"
   ]
  },
  {
   "cell_type": "code",
   "execution_count": null,
   "id": "5cafaf07-127b-4400-88ce-250cd7dc51e8",
   "metadata": {
    "tags": []
   },
   "outputs": [],
   "source": []
  },
  {
   "cell_type": "code",
   "execution_count": null,
   "id": "9f8b1ac8-8167-41b1-9ae6-7dc6ec0ad121",
   "metadata": {},
   "outputs": [],
   "source": []
  }
 ],
 "metadata": {
  "kernelspec": {
   "display_name": "Python 3 (ipykernel)",
   "language": "python",
   "name": "python3"
  },
  "language_info": {
   "codemirror_mode": {
    "name": "ipython",
    "version": 3
   },
   "file_extension": ".py",
   "mimetype": "text/x-python",
   "name": "python",
   "nbconvert_exporter": "python",
   "pygments_lexer": "ipython3",
   "version": "3.9.16"
  }
 },
 "nbformat": 4,
 "nbformat_minor": 5
}
