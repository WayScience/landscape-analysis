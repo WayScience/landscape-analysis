{
 "cells": [
  {
   "cell_type": "markdown",
   "id": "8f88d59f-3c0d-4d33-908e-0381578065dd",
   "metadata": {},
   "source": [
    "# Gather Targeted Project Package Metrics\n",
    "\n",
    "Project package metrics (PyPI, Conda, etc.) for software landscape analysis related to Cytomining ecosystem.\n",
    "\n",
    "## Setup\n",
    "\n",
    "Use of this notebook involves setup via https://github.com/ofek/pypinfo#installation. An environment variable is expected for pypinfo to work properly. For example: `export GOOGLE_APPLICATION_CREDENTIALS=/path/to/credentials.json`"
   ]
  },
  {
   "cell_type": "code",
   "execution_count": 5,
   "id": "fef169d9-a9ce-4b80-af16-92b02375e24a",
   "metadata": {},
   "outputs": [],
   "source": [
    "import json\n",
    "import os\n",
    "import subprocess\n",
    "from datetime import datetime\n",
    "\n",
    "import awkward as ak\n",
    "import numpy as np\n",
    "import pandas as pd\n",
    "import pytz\n",
    "from box import Box"
   ]
  },
  {
   "cell_type": "code",
   "execution_count": 6,
   "id": "5f6176ba-70a7-40c9-afe9-fa14767dfc02",
   "metadata": {
    "tags": []
   },
   "outputs": [
    {
     "data": {
      "text/plain": [
       "['pycytominer', 'cytosnake', 'cytotable']"
      ]
     },
     "execution_count": 6,
     "metadata": {},
     "output_type": "execute_result"
    }
   ],
   "source": [
    "# gather projects data\n",
    "projects = Box.from_yaml(filename=\"data/target-projects.yaml\").projects\n",
    "\n",
    "# gather the lowercase loi focus project names from targets\n",
    "loi_target_projects = [\n",
    "    project[\"name\"].lower()\n",
    "    for project in projects.to_list()\n",
    "    if \"loi-focus\" in project[\"category\"]\n",
    "]\n",
    "loi_target_projects"
   ]
  },
  {
   "cell_type": "code",
   "execution_count": 7,
   "id": "ccedaafb-de37-42ef-aa82-c51e9ce05d55",
   "metadata": {
    "tags": []
   },
   "outputs": [
    {
     "data": {
      "text/plain": [
       "[{'Project Name': 'pycytominer'},\n",
       " {'Project Name': 'cytosnake'},\n",
       " {'Project Name': 'cytotable'}]"
      ]
     },
     "execution_count": 7,
     "metadata": {},
     "output_type": "execute_result"
    }
   ],
   "source": [
    "# form a data structure for gathering package data\n",
    "pkg_metrics = [{\"Project Name\": project} for project in loi_target_projects]\n",
    "pkg_metrics"
   ]
  },
  {
   "cell_type": "code",
   "execution_count": 8,
   "id": "1622092a-da49-4cb4-ac63-538eeb1e54d8",
   "metadata": {
    "tags": []
   },
   "outputs": [
    {
     "data": {
      "text/html": [
       "<pre>[{&#x27;Project Name&#x27;: &#x27;pycytominer&#x27;, pypi_downloads_total: [{...}], ...},\n",
       " {&#x27;Project Name&#x27;: &#x27;cytosnake&#x27;, pypi_downloads_total: [{...}], ...},\n",
       " {&#x27;Project Name&#x27;: &#x27;cytotable&#x27;, pypi_downloads_total: [{...}], ...}]\n",
       "---------------------------------------------------------------------\n",
       "type: 3 * {\n",
       "    &quot;Project Name&quot;: string,\n",
       "    pypi_downloads_total: var * {\n",
       "        download_count: int64\n",
       "    },\n",
       "    pypi_downloads_by_pyversion: var * {\n",
       "        download_count: int64,\n",
       "        python_version: string\n",
       "    },\n",
       "    pypi_downloads_by_country: var * {\n",
       "        country: string,\n",
       "        download_count: int64\n",
       "    },\n",
       "    pypi_downloads_by_system_and_distro: var * {\n",
       "        distro_name: string,\n",
       "        download_count: int64,\n",
       "        system_name: string\n",
       "    },\n",
       "    pypi_downloads_by_year_and_month: var * {\n",
       "        download_count: int64,\n",
       "        download_month: string,\n",
       "        download_year: int64\n",
       "    }\n",
       "}</pre>"
      ],
      "text/plain": [
       "<Array [{'Project Name': ..., ...}, ..., {...}] type='3 * {\"Project Name\": ...'>"
      ]
     },
     "execution_count": 8,
     "metadata": {},
     "output_type": "execute_result"
    }
   ],
   "source": [
    "# gather various PyPI metrics through pypinfo\n",
    "pkg_metrics = [\n",
    "    dict(\n",
    "        project,\n",
    "        **{\n",
    "            # gather total downloads\n",
    "            \"pypi_downloads_total\": json.loads(\n",
    "                subprocess.run(\n",
    "                    [\n",
    "                        \"pypinfo\",\n",
    "                        \"--json\",\n",
    "                        project[\"Project Name\"],\n",
    "                    ],\n",
    "                    capture_output=True,\n",
    "                    check=True,\n",
    "                ).stdout\n",
    "            )[\"rows\"],\n",
    "            # gather downloads by python version\n",
    "            \"pypi_downloads_by_pyversion\": json.loads(\n",
    "                subprocess.run(\n",
    "                    [\"pypinfo\", \"--json\", project[\"Project Name\"], \"pyversion\"],\n",
    "                    capture_output=True,\n",
    "                    check=True,\n",
    "                ).stdout\n",
    "            )[\"rows\"],\n",
    "            # gather downloads by country\n",
    "            \"pypi_downloads_by_country\": json.loads(\n",
    "                subprocess.run(\n",
    "                    [\"pypinfo\", \"--json\", project[\"Project Name\"], \"country\"],\n",
    "                    capture_output=True,\n",
    "                    check=True,\n",
    "                ).stdout\n",
    "            )[\"rows\"],\n",
    "            # gather downloads by system and distro type\n",
    "            \"pypi_downloads_by_system_and_distro\": json.loads(\n",
    "                subprocess.run(\n",
    "                    [\"pypinfo\", \"--json\", project[\"Project Name\"], \"system\", \"distro\"],\n",
    "                    capture_output=True,\n",
    "                    check=True,\n",
    "                ).stdout\n",
    "            )[\"rows\"],\n",
    "            \"pypi_downloads_by_year_and_month\": json.loads(\n",
    "                subprocess.run(\n",
    "                    [\"pypinfo\", \"--json\", project[\"Project Name\"], \"year\", \"month\"],\n",
    "                    capture_output=True,\n",
    "                    check=True,\n",
    "                ).stdout\n",
    "            )[\"rows\"],\n",
    "        }\n",
    "    )\n",
    "    for project in pkg_metrics\n",
    "]\n",
    "ak.Array(pkg_metrics)"
   ]
  },
  {
   "cell_type": "code",
   "execution_count": null,
   "id": "5cafaf07-127b-4400-88ce-250cd7dc51e8",
   "metadata": {
    "tags": []
   },
   "outputs": [],
   "source": []
  },
  {
   "cell_type": "code",
   "execution_count": null,
   "id": "9f8b1ac8-8167-41b1-9ae6-7dc6ec0ad121",
   "metadata": {},
   "outputs": [],
   "source": []
  }
 ],
 "metadata": {
  "kernelspec": {
   "display_name": "Python 3 (ipykernel)",
   "language": "python",
   "name": "python3"
  },
  "language_info": {
   "codemirror_mode": {
    "name": "ipython",
    "version": 3
   },
   "file_extension": ".py",
   "mimetype": "text/x-python",
   "name": "python",
   "nbconvert_exporter": "python",
   "pygments_lexer": "ipython3",
   "version": "3.9.16"
  }
 },
 "nbformat": 4,
 "nbformat_minor": 5
}
