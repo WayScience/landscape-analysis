{
 "cells": [
  {
   "cell_type": "markdown",
   "id": "8f88d59f-3c0d-4d33-908e-0381578065dd",
   "metadata": {},
   "source": [
    "# Visualize Cytomining Ecosystem Software Landscape\n",
    "\n",
    "Visualizations related to Cytomining ecosystem software landscape analysis.\n",
    "\n",
    "## Plot Foci\n",
    "\n",
    "- User base size\n",
    "- Usage\n",
    "- Maturity"
   ]
  },
  {
   "cell_type": "code",
   "execution_count": 1,
   "id": "fef169d9-a9ce-4b80-af16-92b02375e24a",
   "metadata": {},
   "outputs": [],
   "source": [
    "import os\n",
    "import random\n",
    "from datetime import datetime\n",
    "\n",
    "import pandas as pd\n",
    "import plotly.colors as pc\n",
    "import plotly.express as px\n",
    "import plotly.graph_objects as go\n",
    "import plotly.io as pio\n",
    "import pytz\n",
    "from box import Box\n",
    "from plotly.offline import plot\n",
    "from plotly.subplots import make_subplots\n",
    "\n",
    "# set plotly default theme\n",
    "pio.templates.default = \"simple_white\"\n",
    "\n",
    "# get the current datetime\n",
    "tz = pytz.timezone(\"UTC\")\n",
    "current_datetime = datetime.now(tz)\n",
    "\n",
    "# set common str's\n",
    "title_prefix = \"Cytomining Ecosystem Software Landscape Analysis\"\n",
    "\n",
    "# export locations relative to this notebook\n",
    "export_dir = \"../../docs/reports/cytomining-ecosystem/\""
   ]
  },
  {
   "cell_type": "code",
   "execution_count": 2,
   "id": "60ff92a8-9fa4-4bd1-a921-d57e680874ee",
   "metadata": {
    "tags": []
   },
   "outputs": [
    {
     "data": {
      "text/html": [
       "<div>\n",
       "<style scoped>\n",
       "    .dataframe tbody tr th:only-of-type {\n",
       "        vertical-align: middle;\n",
       "    }\n",
       "\n",
       "    .dataframe tbody tr th {\n",
       "        vertical-align: top;\n",
       "    }\n",
       "\n",
       "    .dataframe thead th {\n",
       "        text-align: right;\n",
       "    }\n",
       "</style>\n",
       "<table border=\"1\" class=\"dataframe\">\n",
       "  <thead>\n",
       "    <tr style=\"text-align: right;\">\n",
       "      <th></th>\n",
       "      <th>homepage_url</th>\n",
       "      <th>name</th>\n",
       "      <th>repo_url</th>\n",
       "      <th>category</th>\n",
       "    </tr>\n",
       "  </thead>\n",
       "  <tbody>\n",
       "    <tr>\n",
       "      <th>0</th>\n",
       "      <td>https://pycytominer.readthedocs.io/en/latest/</td>\n",
       "      <td>pycytominer</td>\n",
       "      <td>https://github.com/cytomining/pycytominer</td>\n",
       "      <td>loi-focus</td>\n",
       "    </tr>\n",
       "    <tr>\n",
       "      <th>1</th>\n",
       "      <td>https://cytosnake.readthedocs.io/en/latest/</td>\n",
       "      <td>cytosnake</td>\n",
       "      <td>https://github.com/WayScience/CytoSnake</td>\n",
       "      <td>loi-focus</td>\n",
       "    </tr>\n",
       "    <tr>\n",
       "      <th>2</th>\n",
       "      <td>https://cytomining.github.io/CytoTable/</td>\n",
       "      <td>cytotable</td>\n",
       "      <td>https://github.com/cytomining/CytoTable</td>\n",
       "      <td>loi-focus</td>\n",
       "    </tr>\n",
       "    <tr>\n",
       "      <th>3</th>\n",
       "      <td>https://github.com/WayScience/IDR_stream</td>\n",
       "      <td>IDR_Stream</td>\n",
       "      <td>https://github.com/WayScience/IDR_stream</td>\n",
       "      <td>loi-focus</td>\n",
       "    </tr>\n",
       "    <tr>\n",
       "      <th>4</th>\n",
       "      <td>https://pandas.pydata.org/</td>\n",
       "      <td>Pandas</td>\n",
       "      <td>https://github.com/pandas-dev/pandas</td>\n",
       "      <td>cytomining-ecosystem-relevant-open-source</td>\n",
       "    </tr>\n",
       "  </tbody>\n",
       "</table>\n",
       "</div>"
      ],
      "text/plain": [
       "                                    homepage_url         name  \\\n",
       "0  https://pycytominer.readthedocs.io/en/latest/  pycytominer   \n",
       "1    https://cytosnake.readthedocs.io/en/latest/    cytosnake   \n",
       "2        https://cytomining.github.io/CytoTable/    cytotable   \n",
       "3       https://github.com/WayScience/IDR_stream   IDR_Stream   \n",
       "4                     https://pandas.pydata.org/       Pandas   \n",
       "\n",
       "                                    repo_url  \\\n",
       "0  https://github.com/cytomining/pycytominer   \n",
       "1    https://github.com/WayScience/CytoSnake   \n",
       "2    https://github.com/cytomining/CytoTable   \n",
       "3   https://github.com/WayScience/IDR_stream   \n",
       "4       https://github.com/pandas-dev/pandas   \n",
       "\n",
       "                                    category  \n",
       "0                                  loi-focus  \n",
       "1                                  loi-focus  \n",
       "2                                  loi-focus  \n",
       "3                                  loi-focus  \n",
       "4  cytomining-ecosystem-relevant-open-source  "
      ]
     },
     "execution_count": 2,
     "metadata": {},
     "output_type": "execute_result"
    }
   ],
   "source": [
    "# read in target project data\n",
    "projects = Box.from_yaml(filename=\"data/target-projects.yaml\").projects\n",
    "df_ref_projects = pd.DataFrame(projects)\n",
    "# statically set a single category\n",
    "df_ref_projects[\"category\"] = df_ref_projects[\"category\"].str[0]\n",
    "df_ref_projects.head()"
   ]
  },
  {
   "cell_type": "code",
   "execution_count": 3,
   "id": "2054390a-4338-4524-8bbe-cdb44c010f53",
   "metadata": {
    "tags": []
   },
   "outputs": [
    {
     "name": "stdout",
     "output_type": "stream",
     "text": [
      "<class 'pandas.core.frame.DataFrame'>\n",
      "Index: 1126 entries, 4 to 225\n",
      "Data columns (total 21 columns):\n",
      " #   Column                                       Non-Null Count  Dtype              \n",
      "---  ------                                       --------------  -----              \n",
      " 0   Project Name                                 1126 non-null   object             \n",
      " 1   Project Homepage                             588 non-null    object             \n",
      " 2   Project Repo URL                             1126 non-null   object             \n",
      " 3   Project Landscape Category                   1126 non-null   object             \n",
      " 4   GitHub Stars                                 1126 non-null   int64              \n",
      " 5   GitHub Forks                                 1126 non-null   int64              \n",
      " 6   GitHub Watchers                              1126 non-null   int64              \n",
      " 7   GitHub Open Issues                           1126 non-null   int64              \n",
      " 8   GitHub Contributors                          1126 non-null   int64              \n",
      " 9   GitHub License Type                          575 non-null    object             \n",
      " 10  GitHub Description                           1072 non-null   object             \n",
      " 11  GitHub Topics                                1126 non-null   object             \n",
      " 12  GitHub Detected Languages                    1126 non-null   object             \n",
      " 13  Date Created                                 1126 non-null   datetime64[ns, UTC]\n",
      " 14  Date Most Recent Commit                      1126 non-null   datetime64[ns, UTC]\n",
      " 15  Duration Created to Most Recent Commit       1126 non-null   timedelta64[ns]    \n",
      " 16  Duration Created to Now                      1126 non-null   timedelta64[ns]    \n",
      " 17  Duration Most Recent Commit to Now           1126 non-null   timedelta64[ns]    \n",
      " 18  Repository Size (KB)                         1126 non-null   int64              \n",
      " 19  GitHub Repo Archived                         1126 non-null   bool               \n",
      " 20  Negative Duration Most Recent Commit to Now  1126 non-null   timedelta64[ns]    \n",
      "dtypes: bool(1), datetime64[ns, UTC](2), int64(6), object(8), timedelta64[ns](4)\n",
      "memory usage: 185.8+ KB\n"
     ]
    }
   ],
   "source": [
    "# read in project metric data\n",
    "df_projects = pd.read_parquet(\"data/project-github-metrics.parquet\")\n",
    "df_projects.info()"
   ]
  },
  {
   "cell_type": "code",
   "execution_count": 4,
   "id": "ecfdb196-f9f8-4b6d-ae80-6f589f081892",
   "metadata": {
    "tags": []
   },
   "outputs": [
    {
     "data": {
      "text/html": [
       "<div>\n",
       "<style scoped>\n",
       "    .dataframe tbody tr th:only-of-type {\n",
       "        vertical-align: middle;\n",
       "    }\n",
       "\n",
       "    .dataframe tbody tr th {\n",
       "        vertical-align: top;\n",
       "    }\n",
       "\n",
       "    .dataframe thead th {\n",
       "        text-align: right;\n",
       "    }\n",
       "</style>\n",
       "<table border=\"1\" class=\"dataframe\">\n",
       "  <thead>\n",
       "    <tr style=\"text-align: right;\">\n",
       "      <th></th>\n",
       "      <th>Project Name</th>\n",
       "      <th>Project Homepage</th>\n",
       "      <th>Project Repo URL</th>\n",
       "      <th>Project Landscape Category</th>\n",
       "      <th>GitHub Stars</th>\n",
       "      <th>GitHub Forks</th>\n",
       "      <th>GitHub Watchers</th>\n",
       "      <th>GitHub Open Issues</th>\n",
       "      <th>GitHub Contributors</th>\n",
       "      <th>GitHub License Type</th>\n",
       "      <th>...</th>\n",
       "      <th>Date Created</th>\n",
       "      <th>Date Most Recent Commit</th>\n",
       "      <th>Duration Created to Most Recent Commit</th>\n",
       "      <th>Duration Created to Now</th>\n",
       "      <th>Duration Most Recent Commit to Now</th>\n",
       "      <th>Repository Size (KB)</th>\n",
       "      <th>GitHub Repo Archived</th>\n",
       "      <th>Negative Duration Most Recent Commit to Now</th>\n",
       "      <th>repo_url</th>\n",
       "      <th>category</th>\n",
       "    </tr>\n",
       "  </thead>\n",
       "  <tbody>\n",
       "    <tr>\n",
       "      <th>0</th>\n",
       "      <td>pandas</td>\n",
       "      <td>https://pandas.pydata.org</td>\n",
       "      <td>https://github.com/pandas-dev/pandas</td>\n",
       "      <td>[cytomining-ecosystem-relevant-open-source]</td>\n",
       "      <td>40001</td>\n",
       "      <td>16798</td>\n",
       "      <td>1121</td>\n",
       "      <td>3640</td>\n",
       "      <td>411</td>\n",
       "      <td>BSD-3-Clause</td>\n",
       "      <td>...</td>\n",
       "      <td>2010-08-24 01:37:33+00:00</td>\n",
       "      <td>2023-10-13 20:03:44+00:00</td>\n",
       "      <td>4798 days 18:26:11</td>\n",
       "      <td>4798 days 18:26:30.235293</td>\n",
       "      <td>0 days 00:00:19.235293</td>\n",
       "      <td>334934</td>\n",
       "      <td>False</td>\n",
       "      <td>-1 days +23:59:40.764707</td>\n",
       "      <td>https://github.com/pandas-dev/pandas</td>\n",
       "      <td>cytomining-ecosystem-relevant-open-source</td>\n",
       "    </tr>\n",
       "    <tr>\n",
       "      <th>1</th>\n",
       "      <td>numpy</td>\n",
       "      <td>https://numpy.org</td>\n",
       "      <td>https://github.com/numpy/numpy</td>\n",
       "      <td>[cytomining-ecosystem-relevant-open-source]</td>\n",
       "      <td>24720</td>\n",
       "      <td>8644</td>\n",
       "      <td>595</td>\n",
       "      <td>2196</td>\n",
       "      <td>435</td>\n",
       "      <td>BSD-3-Clause</td>\n",
       "      <td>...</td>\n",
       "      <td>2010-09-13 23:02:39+00:00</td>\n",
       "      <td>2023-10-13 19:01:51+00:00</td>\n",
       "      <td>4777 days 19:59:12</td>\n",
       "      <td>4777 days 21:01:24.235293</td>\n",
       "      <td>0 days 01:02:12.235293</td>\n",
       "      <td>131862</td>\n",
       "      <td>False</td>\n",
       "      <td>-1 days +22:57:47.764707</td>\n",
       "      <td>https://github.com/numpy/numpy</td>\n",
       "      <td>cytomining-ecosystem-relevant-open-source</td>\n",
       "    </tr>\n",
       "    <tr>\n",
       "      <th>2</th>\n",
       "      <td>arrow</td>\n",
       "      <td>https://arrow.apache.org/</td>\n",
       "      <td>https://github.com/apache/arrow</td>\n",
       "      <td>[cytomining-ecosystem-relevant-open-source]</td>\n",
       "      <td>12603</td>\n",
       "      <td>3094</td>\n",
       "      <td>351</td>\n",
       "      <td>3902</td>\n",
       "      <td>366</td>\n",
       "      <td>Apache-2.0</td>\n",
       "      <td>...</td>\n",
       "      <td>2016-02-17 08:00:23+00:00</td>\n",
       "      <td>2023-10-13 17:57:49+00:00</td>\n",
       "      <td>2795 days 09:57:26</td>\n",
       "      <td>2795 days 12:03:40.235293</td>\n",
       "      <td>0 days 02:06:14.235293</td>\n",
       "      <td>170891</td>\n",
       "      <td>False</td>\n",
       "      <td>-1 days +21:53:45.764707</td>\n",
       "      <td>https://github.com/apache/arrow</td>\n",
       "      <td>cytomining-ecosystem-relevant-open-source</td>\n",
       "    </tr>\n",
       "    <tr>\n",
       "      <th>3</th>\n",
       "      <td>duckdb</td>\n",
       "      <td>http://www.duckdb.org</td>\n",
       "      <td>https://github.com/duckdb/duckdb</td>\n",
       "      <td>[cytomining-ecosystem-relevant-open-source]</td>\n",
       "      <td>12351</td>\n",
       "      <td>1154</td>\n",
       "      <td>156</td>\n",
       "      <td>321</td>\n",
       "      <td>253</td>\n",
       "      <td>MIT</td>\n",
       "      <td>...</td>\n",
       "      <td>2018-06-26 15:04:45+00:00</td>\n",
       "      <td>2023-10-13 13:57:33+00:00</td>\n",
       "      <td>1934 days 22:52:48</td>\n",
       "      <td>1935 days 04:59:18.235293</td>\n",
       "      <td>0 days 06:06:30.235293</td>\n",
       "      <td>226865</td>\n",
       "      <td>False</td>\n",
       "      <td>-1 days +17:53:29.764707</td>\n",
       "      <td>https://github.com/duckdb/duckdb</td>\n",
       "      <td>cytomining-ecosystem-relevant-open-source</td>\n",
       "    </tr>\n",
       "    <tr>\n",
       "      <th>4</th>\n",
       "      <td>parquet-mr</td>\n",
       "      <td></td>\n",
       "      <td>https://github.com/apache/parquet-mr</td>\n",
       "      <td>[cytomining-ecosystem-relevant-open-source]</td>\n",
       "      <td>2176</td>\n",
       "      <td>1332</td>\n",
       "      <td>95</td>\n",
       "      <td>130</td>\n",
       "      <td>189</td>\n",
       "      <td>Apache-2.0</td>\n",
       "      <td>...</td>\n",
       "      <td>2014-06-10 07:00:07+00:00</td>\n",
       "      <td>2023-10-13 15:48:32+00:00</td>\n",
       "      <td>3412 days 08:48:25</td>\n",
       "      <td>3412 days 13:03:56.235293</td>\n",
       "      <td>0 days 04:15:31.235293</td>\n",
       "      <td>18492</td>\n",
       "      <td>False</td>\n",
       "      <td>-1 days +19:44:28.764707</td>\n",
       "      <td>https://github.com/apache/parquet-mr</td>\n",
       "      <td>cytomining-ecosystem-relevant-open-source</td>\n",
       "    </tr>\n",
       "    <tr>\n",
       "      <th>...</th>\n",
       "      <td>...</td>\n",
       "      <td>...</td>\n",
       "      <td>...</td>\n",
       "      <td>...</td>\n",
       "      <td>...</td>\n",
       "      <td>...</td>\n",
       "      <td>...</td>\n",
       "      <td>...</td>\n",
       "      <td>...</td>\n",
       "      <td>...</td>\n",
       "      <td>...</td>\n",
       "      <td>...</td>\n",
       "      <td>...</td>\n",
       "      <td>...</td>\n",
       "      <td>...</td>\n",
       "      <td>...</td>\n",
       "      <td>...</td>\n",
       "      <td>...</td>\n",
       "      <td>...</td>\n",
       "      <td>...</td>\n",
       "      <td>...</td>\n",
       "    </tr>\n",
       "    <tr>\n",
       "      <th>1121</th>\n",
       "      <td>ImagingCells</td>\n",
       "      <td>None</td>\n",
       "      <td>https://github.com/jesnyder/ImagingCells</td>\n",
       "      <td>[related-tools-github-query-result]</td>\n",
       "      <td>0</td>\n",
       "      <td>0</td>\n",
       "      <td>1</td>\n",
       "      <td>0</td>\n",
       "      <td>1</td>\n",
       "      <td>None</td>\n",
       "      <td>...</td>\n",
       "      <td>2018-06-15 19:50:00+00:00</td>\n",
       "      <td>2018-08-31 19:21:33+00:00</td>\n",
       "      <td>76 days 23:31:33</td>\n",
       "      <td>1946 days 00:14:03.235293</td>\n",
       "      <td>1869 days 00:42:30.235293</td>\n",
       "      <td>1</td>\n",
       "      <td>False</td>\n",
       "      <td>-1870 days +23:17:29.764707</td>\n",
       "      <td>NaN</td>\n",
       "      <td>NaN</td>\n",
       "    </tr>\n",
       "    <tr>\n",
       "      <th>1122</th>\n",
       "      <td>course-bia</td>\n",
       "      <td>None</td>\n",
       "      <td>https://github.com/denzf/course-bia</td>\n",
       "      <td>[related-tools-github-query-result]</td>\n",
       "      <td>0</td>\n",
       "      <td>0</td>\n",
       "      <td>1</td>\n",
       "      <td>0</td>\n",
       "      <td>1</td>\n",
       "      <td>MIT</td>\n",
       "      <td>...</td>\n",
       "      <td>2018-01-28 21:58:13+00:00</td>\n",
       "      <td>2018-01-24 03:22:19+00:00</td>\n",
       "      <td>-5 days +05:24:06</td>\n",
       "      <td>2083 days 22:05:50.235293</td>\n",
       "      <td>2088 days 16:41:44.235293</td>\n",
       "      <td>203</td>\n",
       "      <td>False</td>\n",
       "      <td>-2089 days +07:18:15.764707</td>\n",
       "      <td>NaN</td>\n",
       "      <td>NaN</td>\n",
       "    </tr>\n",
       "    <tr>\n",
       "      <th>1123</th>\n",
       "      <td>Cell-virulence-Detection-using-Image-Processing</td>\n",
       "      <td>None</td>\n",
       "      <td>https://github.com/arushigupta148/Cell-virulen...</td>\n",
       "      <td>[related-tools-github-query-result]</td>\n",
       "      <td>0</td>\n",
       "      <td>0</td>\n",
       "      <td>0</td>\n",
       "      <td>0</td>\n",
       "      <td>1</td>\n",
       "      <td>None</td>\n",
       "      <td>...</td>\n",
       "      <td>2018-12-27 08:27:06+00:00</td>\n",
       "      <td>2019-05-12 23:09:02+00:00</td>\n",
       "      <td>136 days 14:41:56</td>\n",
       "      <td>1751 days 11:36:57.235293</td>\n",
       "      <td>1614 days 20:55:01.235293</td>\n",
       "      <td>1751</td>\n",
       "      <td>False</td>\n",
       "      <td>-1615 days +03:04:58.764707</td>\n",
       "      <td>NaN</td>\n",
       "      <td>NaN</td>\n",
       "    </tr>\n",
       "    <tr>\n",
       "      <th>1124</th>\n",
       "      <td>Image-analysis</td>\n",
       "      <td></td>\n",
       "      <td>https://github.com/dguin/Image-analysis</td>\n",
       "      <td>[related-tools-github-query-result]</td>\n",
       "      <td>0</td>\n",
       "      <td>0</td>\n",
       "      <td>0</td>\n",
       "      <td>0</td>\n",
       "      <td>1</td>\n",
       "      <td>None</td>\n",
       "      <td>...</td>\n",
       "      <td>2018-10-13 18:53:42+00:00</td>\n",
       "      <td>2018-10-13 19:32:22+00:00</td>\n",
       "      <td>0 days 00:38:40</td>\n",
       "      <td>1826 days 01:10:21.235293</td>\n",
       "      <td>1826 days 00:31:41.235293</td>\n",
       "      <td>26</td>\n",
       "      <td>False</td>\n",
       "      <td>-1827 days +23:28:18.764707</td>\n",
       "      <td>NaN</td>\n",
       "      <td>NaN</td>\n",
       "    </tr>\n",
       "    <tr>\n",
       "      <th>1125</th>\n",
       "      <td>oct-image-analysis</td>\n",
       "      <td></td>\n",
       "      <td>https://github.com/ricster101/oct-image-analysis</td>\n",
       "      <td>[related-tools-github-query-result]</td>\n",
       "      <td>0</td>\n",
       "      <td>0</td>\n",
       "      <td>0</td>\n",
       "      <td>0</td>\n",
       "      <td>1</td>\n",
       "      <td>None</td>\n",
       "      <td>...</td>\n",
       "      <td>2018-03-19 01:29:32+00:00</td>\n",
       "      <td>2018-03-19 03:31:25+00:00</td>\n",
       "      <td>0 days 02:01:53</td>\n",
       "      <td>2034 days 18:34:31.235293</td>\n",
       "      <td>2034 days 16:32:38.235293</td>\n",
       "      <td>16</td>\n",
       "      <td>False</td>\n",
       "      <td>-2035 days +07:27:21.764707</td>\n",
       "      <td>NaN</td>\n",
       "      <td>NaN</td>\n",
       "    </tr>\n",
       "  </tbody>\n",
       "</table>\n",
       "<p>1126 rows × 23 columns</p>\n",
       "</div>"
      ],
      "text/plain": [
       "                                         Project Name  \\\n",
       "0                                              pandas   \n",
       "1                                               numpy   \n",
       "2                                               arrow   \n",
       "3                                              duckdb   \n",
       "4                                          parquet-mr   \n",
       "...                                               ...   \n",
       "1121                                     ImagingCells   \n",
       "1122                                       course-bia   \n",
       "1123  Cell-virulence-Detection-using-Image-Processing   \n",
       "1124                                   Image-analysis   \n",
       "1125                               oct-image-analysis   \n",
       "\n",
       "               Project Homepage  \\\n",
       "0     https://pandas.pydata.org   \n",
       "1             https://numpy.org   \n",
       "2     https://arrow.apache.org/   \n",
       "3         http://www.duckdb.org   \n",
       "4                                 \n",
       "...                         ...   \n",
       "1121                       None   \n",
       "1122                       None   \n",
       "1123                       None   \n",
       "1124                              \n",
       "1125                              \n",
       "\n",
       "                                       Project Repo URL  \\\n",
       "0                  https://github.com/pandas-dev/pandas   \n",
       "1                        https://github.com/numpy/numpy   \n",
       "2                       https://github.com/apache/arrow   \n",
       "3                      https://github.com/duckdb/duckdb   \n",
       "4                  https://github.com/apache/parquet-mr   \n",
       "...                                                 ...   \n",
       "1121           https://github.com/jesnyder/ImagingCells   \n",
       "1122                https://github.com/denzf/course-bia   \n",
       "1123  https://github.com/arushigupta148/Cell-virulen...   \n",
       "1124            https://github.com/dguin/Image-analysis   \n",
       "1125   https://github.com/ricster101/oct-image-analysis   \n",
       "\n",
       "                       Project Landscape Category  GitHub Stars  GitHub Forks  \\\n",
       "0     [cytomining-ecosystem-relevant-open-source]         40001         16798   \n",
       "1     [cytomining-ecosystem-relevant-open-source]         24720          8644   \n",
       "2     [cytomining-ecosystem-relevant-open-source]         12603          3094   \n",
       "3     [cytomining-ecosystem-relevant-open-source]         12351          1154   \n",
       "4     [cytomining-ecosystem-relevant-open-source]          2176          1332   \n",
       "...                                           ...           ...           ...   \n",
       "1121          [related-tools-github-query-result]             0             0   \n",
       "1122          [related-tools-github-query-result]             0             0   \n",
       "1123          [related-tools-github-query-result]             0             0   \n",
       "1124          [related-tools-github-query-result]             0             0   \n",
       "1125          [related-tools-github-query-result]             0             0   \n",
       "\n",
       "      GitHub Watchers  GitHub Open Issues  GitHub Contributors  \\\n",
       "0                1121                3640                  411   \n",
       "1                 595                2196                  435   \n",
       "2                 351                3902                  366   \n",
       "3                 156                 321                  253   \n",
       "4                  95                 130                  189   \n",
       "...               ...                 ...                  ...   \n",
       "1121                1                   0                    1   \n",
       "1122                1                   0                    1   \n",
       "1123                0                   0                    1   \n",
       "1124                0                   0                    1   \n",
       "1125                0                   0                    1   \n",
       "\n",
       "     GitHub License Type  ...              Date Created  \\\n",
       "0           BSD-3-Clause  ... 2010-08-24 01:37:33+00:00   \n",
       "1           BSD-3-Clause  ... 2010-09-13 23:02:39+00:00   \n",
       "2             Apache-2.0  ... 2016-02-17 08:00:23+00:00   \n",
       "3                    MIT  ... 2018-06-26 15:04:45+00:00   \n",
       "4             Apache-2.0  ... 2014-06-10 07:00:07+00:00   \n",
       "...                  ...  ...                       ...   \n",
       "1121                None  ... 2018-06-15 19:50:00+00:00   \n",
       "1122                 MIT  ... 2018-01-28 21:58:13+00:00   \n",
       "1123                None  ... 2018-12-27 08:27:06+00:00   \n",
       "1124                None  ... 2018-10-13 18:53:42+00:00   \n",
       "1125                None  ... 2018-03-19 01:29:32+00:00   \n",
       "\n",
       "       Date Most Recent Commit Duration Created to Most Recent Commit  \\\n",
       "0    2023-10-13 20:03:44+00:00                     4798 days 18:26:11   \n",
       "1    2023-10-13 19:01:51+00:00                     4777 days 19:59:12   \n",
       "2    2023-10-13 17:57:49+00:00                     2795 days 09:57:26   \n",
       "3    2023-10-13 13:57:33+00:00                     1934 days 22:52:48   \n",
       "4    2023-10-13 15:48:32+00:00                     3412 days 08:48:25   \n",
       "...                        ...                                    ...   \n",
       "1121 2018-08-31 19:21:33+00:00                       76 days 23:31:33   \n",
       "1122 2018-01-24 03:22:19+00:00                      -5 days +05:24:06   \n",
       "1123 2019-05-12 23:09:02+00:00                      136 days 14:41:56   \n",
       "1124 2018-10-13 19:32:22+00:00                        0 days 00:38:40   \n",
       "1125 2018-03-19 03:31:25+00:00                        0 days 02:01:53   \n",
       "\n",
       "       Duration Created to Now Duration Most Recent Commit to Now  \\\n",
       "0    4798 days 18:26:30.235293             0 days 00:00:19.235293   \n",
       "1    4777 days 21:01:24.235293             0 days 01:02:12.235293   \n",
       "2    2795 days 12:03:40.235293             0 days 02:06:14.235293   \n",
       "3    1935 days 04:59:18.235293             0 days 06:06:30.235293   \n",
       "4    3412 days 13:03:56.235293             0 days 04:15:31.235293   \n",
       "...                        ...                                ...   \n",
       "1121 1946 days 00:14:03.235293          1869 days 00:42:30.235293   \n",
       "1122 2083 days 22:05:50.235293          2088 days 16:41:44.235293   \n",
       "1123 1751 days 11:36:57.235293          1614 days 20:55:01.235293   \n",
       "1124 1826 days 01:10:21.235293          1826 days 00:31:41.235293   \n",
       "1125 2034 days 18:34:31.235293          2034 days 16:32:38.235293   \n",
       "\n",
       "     Repository Size (KB) GitHub Repo Archived  \\\n",
       "0                  334934                False   \n",
       "1                  131862                False   \n",
       "2                  170891                False   \n",
       "3                  226865                False   \n",
       "4                   18492                False   \n",
       "...                   ...                  ...   \n",
       "1121                    1                False   \n",
       "1122                  203                False   \n",
       "1123                 1751                False   \n",
       "1124                   26                False   \n",
       "1125                   16                False   \n",
       "\n",
       "     Negative Duration Most Recent Commit to Now  \\\n",
       "0                       -1 days +23:59:40.764707   \n",
       "1                       -1 days +22:57:47.764707   \n",
       "2                       -1 days +21:53:45.764707   \n",
       "3                       -1 days +17:53:29.764707   \n",
       "4                       -1 days +19:44:28.764707   \n",
       "...                                          ...   \n",
       "1121                 -1870 days +23:17:29.764707   \n",
       "1122                 -2089 days +07:18:15.764707   \n",
       "1123                 -1615 days +03:04:58.764707   \n",
       "1124                 -1827 days +23:28:18.764707   \n",
       "1125                 -2035 days +07:27:21.764707   \n",
       "\n",
       "                                  repo_url  \\\n",
       "0     https://github.com/pandas-dev/pandas   \n",
       "1           https://github.com/numpy/numpy   \n",
       "2          https://github.com/apache/arrow   \n",
       "3         https://github.com/duckdb/duckdb   \n",
       "4     https://github.com/apache/parquet-mr   \n",
       "...                                    ...   \n",
       "1121                                   NaN   \n",
       "1122                                   NaN   \n",
       "1123                                   NaN   \n",
       "1124                                   NaN   \n",
       "1125                                   NaN   \n",
       "\n",
       "                                       category  \n",
       "0     cytomining-ecosystem-relevant-open-source  \n",
       "1     cytomining-ecosystem-relevant-open-source  \n",
       "2     cytomining-ecosystem-relevant-open-source  \n",
       "3     cytomining-ecosystem-relevant-open-source  \n",
       "4     cytomining-ecosystem-relevant-open-source  \n",
       "...                                         ...  \n",
       "1121                                        NaN  \n",
       "1122                                        NaN  \n",
       "1123                                        NaN  \n",
       "1124                                        NaN  \n",
       "1125                                        NaN  \n",
       "\n",
       "[1126 rows x 23 columns]"
      ]
     },
     "execution_count": 4,
     "metadata": {},
     "output_type": "execute_result"
    }
   ],
   "source": [
    "# add target project categories\n",
    "df_projects = pd.merge(\n",
    "    left=df_projects,\n",
    "    right=df_ref_projects[[\"repo_url\", \"category\"]],\n",
    "    how=\"left\",\n",
    "    left_on=\"Project Repo URL\",\n",
    "    right_on=\"repo_url\",\n",
    ")\n",
    "df_projects"
   ]
  },
  {
   "cell_type": "code",
   "execution_count": 5,
   "id": "ae6cc07f-63b9-4eee-82ca-535926ee2c19",
   "metadata": {
    "tags": []
   },
   "outputs": [],
   "source": [
    "# create a duration for relative comparisons below\n",
    "df_projects[\"Duration Created to Now\"] = current_datetime - df_projects[\"Date Created\"]\n",
    "\n",
    "# create a years count for project time duration\n",
    "df_projects[\"Duration Created to Now in Years\"] = (\n",
    "    df_projects[\"Duration Created to Now\"].dt.days / 365\n",
    ")"
   ]
  },
  {
   "cell_type": "code",
   "execution_count": 6,
   "id": "935d0262-5ef2-4e11-8f7e-11ecca83ffe6",
   "metadata": {
    "tags": []
   },
   "outputs": [],
   "source": [
    "def create_language_pie_chart(df_projects, category):\n",
    "    # Flatten the dictionaries into a list of key-value pairs\n",
    "    key_value_pairs = [\n",
    "        (key, value)\n",
    "        for language_dict in df_projects[\"GitHub Detected Languages\"]\n",
    "        for key, value in language_dict.items()\n",
    "        if value is not None\n",
    "    ]\n",
    "\n",
    "    # Create a new DataFrame from the flattened data\n",
    "    # Then group by 'Language' and calculate the total numbers for each language\n",
    "    total_numbers = (\n",
    "        pd.DataFrame(key_value_pairs, columns=[\"Language\", \"Value\"])\n",
    "        .head(10)\n",
    "        .groupby(\"Language\")[\"Value\"]\n",
    "        .sum()\n",
    "        .reset_index()\n",
    "    )\n",
    "\n",
    "    # Create a pie chart using Plotly Express\n",
    "    fig = px.pie(\n",
    "        total_numbers,\n",
    "        names=\"Language\",\n",
    "        values=\"Value\",\n",
    "        title=\"Pie Chart Example\",\n",
    "        color_discrete_sequence=random.sample(pc.qualitative.Prism, 10),\n",
    "    )\n",
    "\n",
    "    # Remove the legend\n",
    "    fig.update_layout(\n",
    "        title=f\"{title_prefix}: {category} - Top Languages\", showlegend=False\n",
    "    )\n",
    "\n",
    "    # return the plot\n",
    "    return fig"
   ]
  },
  {
   "cell_type": "code",
   "execution_count": 7,
   "id": "073b4f56-ad8a-4344-9283-bb37967c9a07",
   "metadata": {
    "tags": []
   },
   "outputs": [],
   "source": [
    "def create_user_base_chart(df_projects, category):\n",
    "    # bubble scatter plot\n",
    "    fig = px.scatter(\n",
    "        df_projects,\n",
    "        hover_name=\"Project Name\",\n",
    "        x=\"Duration Created to Now in Years\",\n",
    "        y=\"GitHub Stars\",\n",
    "        size=\"GitHub Watchers\",\n",
    "        width=1250,\n",
    "        height=800,\n",
    "        color=\"category\",\n",
    "        color_discrete_sequence=random.sample(pc.qualitative.Prism, 2),\n",
    "    )\n",
    "\n",
    "    # set a minimum size for the plot points\n",
    "    fig.update_traces(marker=dict(sizemin=4))\n",
    "\n",
    "    # customize the chart layout\n",
    "    fig.update_layout(\n",
    "        title=f\"{title_prefix}: {category} - User Base Size\",\n",
    "        xaxis_title=\"Project Age (years)\",\n",
    "        yaxis_title=\"GitHub Stars Count\",\n",
    "    )\n",
    "\n",
    "    # return the chart\n",
    "    return fig"
   ]
  },
  {
   "cell_type": "code",
   "execution_count": 13,
   "id": "8fb41b22-1ed2-4940-963f-1f357df4963d",
   "metadata": {
    "tags": []
   },
   "outputs": [],
   "source": [
    "def create_plots_for_categories(df_projects, category):\n",
    "    # Create subplots with one row and two columns\n",
    "    fig = make_subplots(\n",
    "        rows=2,\n",
    "        cols=2,\n",
    "        specs=[\n",
    "            [{\"type\": \"scatter\", \"colspan\": 2}, None],\n",
    "            [{\"type\": \"pie\"}, None],\n",
    "        ],\n",
    "        row_heights=[0.8, 0.2],\n",
    "    )\n",
    "\n",
    "    legendgroup_incrementor = 0\n",
    "\n",
    "    # Add scatter plot to the second column\n",
    "    scatter = create_user_base_chart(df_projects, category)\n",
    "    for trace in scatter.data:\n",
    "        trace.legendgroup = legendgroup_incrementor\n",
    "        fig.add_trace(\n",
    "            trace,\n",
    "            row=1,\n",
    "            col=1,\n",
    "        )\n",
    "\n",
    "    legendgroup_incrementor += 1\n",
    "\n",
    "    # Add pie chart to the first column\n",
    "    pie = create_language_pie_chart(df_projects, category)\n",
    "    for trace in pie.data:\n",
    "        trace.legendgroup = legendgroup_incrementor\n",
    "        fig.add_trace(trace, row=2, col=1)\n",
    "\n",
    "    # Update the subplot with custom axis labels\n",
    "    fig.update_xaxes(title_text=\"Project Age (years)\", row=1, col=1)\n",
    "    fig.update_yaxes(title_text=\"GitHub Stars Count\", row=1, col=1)\n",
    "\n",
    "    # Update layout\n",
    "    fig.update_layout(\n",
    "        title_text=f\"{title_prefix}: {category}\",\n",
    "        # title_x=0.5,  # Center the title\n",
    "        # showlegend=False,\n",
    "        height=1200,\n",
    "        # legend=dict(x=0, y=1, traceorder=\"normal\", orientation=\"h\"),\n",
    "        legend_tracegroupgap=800,\n",
    "    )\n",
    "\n",
    "    plot(\n",
    "        fig,\n",
    "        filename=f\"{export_dir}/{category.replace(' ','-').lower()}.html\",\n",
    "        auto_open=False,\n",
    "    )\n",
    "\n",
    "    # Show the subplot\n",
    "    fig.show()"
   ]
  },
  {
   "cell_type": "code",
   "execution_count": 14,
   "id": "ab72686a-486c-4401-920b-cc65276cad22",
   "metadata": {
    "tags": []
   },
   "outputs": [
    {
     "data": {
      "application/vnd.plotly.v1+json": {
       "config": {
        "plotlyServerURL": "https://plot.ly"
       },
       "data": [
        {
         "hovertemplate": "<b>%{hovertext}</b><br><br>category=cytomining-ecosystem-relevant-open-source<br>Duration Created to Now in Years=%{x}<br>GitHub Stars=%{y}<br>GitHub Watchers=%{marker.size}<extra></extra>",
         "hovertext": [
          "pandas",
          "numpy",
          "arrow",
          "duckdb",
          "parquet-mr",
          "snakemake",
          "anndata",
          "parsl"
         ],
         "legendgroup": "0",
         "marker": {
          "color": "rgb(115, 175, 72)",
          "size": [
           1121,
           595,
           351,
           156,
           95,
           21,
           15,
           29
          ],
          "sizemin": 4,
          "sizemode": "area",
          "sizeref": 2.8025,
          "symbol": "circle"
         },
         "mode": "markers",
         "name": "cytomining-ecosystem-relevant-open-source",
         "orientation": "v",
         "showlegend": true,
         "type": "scatter",
         "x": [
          13.145205479452056,
          13.087671232876712,
          7.657534246575342,
          5.301369863013699,
          9.347945205479451,
          4.027397260273973,
          6.175342465753425,
          6.983561643835617
         ],
         "xaxis": "x",
         "y": [
          40001,
          24720,
          12603,
          12351,
          2176,
          1952,
          450,
          408
         ],
         "yaxis": "y"
        },
        {
         "hovertemplate": "<b>%{hovertext}</b><br><br>category=loi-focus<br>Duration Created to Now in Years=%{x}<br>GitHub Stars=%{y}<br>GitHub Watchers=%{marker.size}<extra></extra>",
         "hovertext": [
          "pycytominer",
          "IDR_stream",
          "CytoTable",
          "CytoSnake"
         ],
         "legendgroup": "0",
         "marker": {
          "color": "rgb(95, 70, 144)",
          "size": [
           6,
           2,
           4,
           0
          ],
          "sizemin": 4,
          "sizemode": "area",
          "sizeref": 2.8025,
          "symbol": "circle"
         },
         "mode": "markers",
         "name": "loi-focus",
         "orientation": "v",
         "showlegend": true,
         "type": "scatter",
         "x": [
          4.282191780821917,
          1.178082191780822,
          1.095890410958904,
          1.6575342465753424
         ],
         "xaxis": "x",
         "y": [
          52,
          4,
          3,
          3
         ],
         "yaxis": "y"
        },
        {
         "domain": {
          "x": [
           0,
           0.45
          ],
          "y": [
           0,
           0.17
          ]
         },
         "hovertemplate": "Language=%{label}<br>Value=%{value}<extra></extra>",
         "labels": [
          "C",
          "CSS",
          "Cython",
          "Dockerfile",
          "HTML",
          "Meson",
          "Python",
          "Shell",
          "Smarty",
          "XSLT"
         ],
         "legendgroup": "1",
         "name": "",
         "showlegend": true,
         "type": "pie",
         "values": [
          386224,
          6804,
          1277471,
          5751,
          457000,
          10664,
          20322774,
          14392,
          8486,
          1196
         ]
        }
       ],
       "layout": {
        "autosize": true,
        "legend": {
         "tracegroupgap": 800
        },
        "template": {
         "data": {
          "bar": [
           {
            "error_x": {
             "color": "rgb(36,36,36)"
            },
            "error_y": {
             "color": "rgb(36,36,36)"
            },
            "marker": {
             "line": {
              "color": "white",
              "width": 0.5
             },
             "pattern": {
              "fillmode": "overlay",
              "size": 10,
              "solidity": 0.2
             }
            },
            "type": "bar"
           }
          ],
          "barpolar": [
           {
            "marker": {
             "line": {
              "color": "white",
              "width": 0.5
             },
             "pattern": {
              "fillmode": "overlay",
              "size": 10,
              "solidity": 0.2
             }
            },
            "type": "barpolar"
           }
          ],
          "carpet": [
           {
            "aaxis": {
             "endlinecolor": "rgb(36,36,36)",
             "gridcolor": "white",
             "linecolor": "white",
             "minorgridcolor": "white",
             "startlinecolor": "rgb(36,36,36)"
            },
            "baxis": {
             "endlinecolor": "rgb(36,36,36)",
             "gridcolor": "white",
             "linecolor": "white",
             "minorgridcolor": "white",
             "startlinecolor": "rgb(36,36,36)"
            },
            "type": "carpet"
           }
          ],
          "choropleth": [
           {
            "colorbar": {
             "outlinewidth": 1,
             "tickcolor": "rgb(36,36,36)",
             "ticks": "outside"
            },
            "type": "choropleth"
           }
          ],
          "contour": [
           {
            "colorbar": {
             "outlinewidth": 1,
             "tickcolor": "rgb(36,36,36)",
             "ticks": "outside"
            },
            "colorscale": [
             [
              0,
              "#440154"
             ],
             [
              0.1111111111111111,
              "#482878"
             ],
             [
              0.2222222222222222,
              "#3e4989"
             ],
             [
              0.3333333333333333,
              "#31688e"
             ],
             [
              0.4444444444444444,
              "#26828e"
             ],
             [
              0.5555555555555556,
              "#1f9e89"
             ],
             [
              0.6666666666666666,
              "#35b779"
             ],
             [
              0.7777777777777778,
              "#6ece58"
             ],
             [
              0.8888888888888888,
              "#b5de2b"
             ],
             [
              1,
              "#fde725"
             ]
            ],
            "type": "contour"
           }
          ],
          "contourcarpet": [
           {
            "colorbar": {
             "outlinewidth": 1,
             "tickcolor": "rgb(36,36,36)",
             "ticks": "outside"
            },
            "type": "contourcarpet"
           }
          ],
          "heatmap": [
           {
            "colorbar": {
             "outlinewidth": 1,
             "tickcolor": "rgb(36,36,36)",
             "ticks": "outside"
            },
            "colorscale": [
             [
              0,
              "#440154"
             ],
             [
              0.1111111111111111,
              "#482878"
             ],
             [
              0.2222222222222222,
              "#3e4989"
             ],
             [
              0.3333333333333333,
              "#31688e"
             ],
             [
              0.4444444444444444,
              "#26828e"
             ],
             [
              0.5555555555555556,
              "#1f9e89"
             ],
             [
              0.6666666666666666,
              "#35b779"
             ],
             [
              0.7777777777777778,
              "#6ece58"
             ],
             [
              0.8888888888888888,
              "#b5de2b"
             ],
             [
              1,
              "#fde725"
             ]
            ],
            "type": "heatmap"
           }
          ],
          "heatmapgl": [
           {
            "colorbar": {
             "outlinewidth": 1,
             "tickcolor": "rgb(36,36,36)",
             "ticks": "outside"
            },
            "colorscale": [
             [
              0,
              "#440154"
             ],
             [
              0.1111111111111111,
              "#482878"
             ],
             [
              0.2222222222222222,
              "#3e4989"
             ],
             [
              0.3333333333333333,
              "#31688e"
             ],
             [
              0.4444444444444444,
              "#26828e"
             ],
             [
              0.5555555555555556,
              "#1f9e89"
             ],
             [
              0.6666666666666666,
              "#35b779"
             ],
             [
              0.7777777777777778,
              "#6ece58"
             ],
             [
              0.8888888888888888,
              "#b5de2b"
             ],
             [
              1,
              "#fde725"
             ]
            ],
            "type": "heatmapgl"
           }
          ],
          "histogram": [
           {
            "marker": {
             "line": {
              "color": "white",
              "width": 0.6
             }
            },
            "type": "histogram"
           }
          ],
          "histogram2d": [
           {
            "colorbar": {
             "outlinewidth": 1,
             "tickcolor": "rgb(36,36,36)",
             "ticks": "outside"
            },
            "colorscale": [
             [
              0,
              "#440154"
             ],
             [
              0.1111111111111111,
              "#482878"
             ],
             [
              0.2222222222222222,
              "#3e4989"
             ],
             [
              0.3333333333333333,
              "#31688e"
             ],
             [
              0.4444444444444444,
              "#26828e"
             ],
             [
              0.5555555555555556,
              "#1f9e89"
             ],
             [
              0.6666666666666666,
              "#35b779"
             ],
             [
              0.7777777777777778,
              "#6ece58"
             ],
             [
              0.8888888888888888,
              "#b5de2b"
             ],
             [
              1,
              "#fde725"
             ]
            ],
            "type": "histogram2d"
           }
          ],
          "histogram2dcontour": [
           {
            "colorbar": {
             "outlinewidth": 1,
             "tickcolor": "rgb(36,36,36)",
             "ticks": "outside"
            },
            "colorscale": [
             [
              0,
              "#440154"
             ],
             [
              0.1111111111111111,
              "#482878"
             ],
             [
              0.2222222222222222,
              "#3e4989"
             ],
             [
              0.3333333333333333,
              "#31688e"
             ],
             [
              0.4444444444444444,
              "#26828e"
             ],
             [
              0.5555555555555556,
              "#1f9e89"
             ],
             [
              0.6666666666666666,
              "#35b779"
             ],
             [
              0.7777777777777778,
              "#6ece58"
             ],
             [
              0.8888888888888888,
              "#b5de2b"
             ],
             [
              1,
              "#fde725"
             ]
            ],
            "type": "histogram2dcontour"
           }
          ],
          "mesh3d": [
           {
            "colorbar": {
             "outlinewidth": 1,
             "tickcolor": "rgb(36,36,36)",
             "ticks": "outside"
            },
            "type": "mesh3d"
           }
          ],
          "parcoords": [
           {
            "line": {
             "colorbar": {
              "outlinewidth": 1,
              "tickcolor": "rgb(36,36,36)",
              "ticks": "outside"
             }
            },
            "type": "parcoords"
           }
          ],
          "pie": [
           {
            "automargin": true,
            "type": "pie"
           }
          ],
          "scatter": [
           {
            "fillpattern": {
             "fillmode": "overlay",
             "size": 10,
             "solidity": 0.2
            },
            "type": "scatter"
           }
          ],
          "scatter3d": [
           {
            "line": {
             "colorbar": {
              "outlinewidth": 1,
              "tickcolor": "rgb(36,36,36)",
              "ticks": "outside"
             }
            },
            "marker": {
             "colorbar": {
              "outlinewidth": 1,
              "tickcolor": "rgb(36,36,36)",
              "ticks": "outside"
             }
            },
            "type": "scatter3d"
           }
          ],
          "scattercarpet": [
           {
            "marker": {
             "colorbar": {
              "outlinewidth": 1,
              "tickcolor": "rgb(36,36,36)",
              "ticks": "outside"
             }
            },
            "type": "scattercarpet"
           }
          ],
          "scattergeo": [
           {
            "marker": {
             "colorbar": {
              "outlinewidth": 1,
              "tickcolor": "rgb(36,36,36)",
              "ticks": "outside"
             }
            },
            "type": "scattergeo"
           }
          ],
          "scattergl": [
           {
            "marker": {
             "colorbar": {
              "outlinewidth": 1,
              "tickcolor": "rgb(36,36,36)",
              "ticks": "outside"
             }
            },
            "type": "scattergl"
           }
          ],
          "scattermapbox": [
           {
            "marker": {
             "colorbar": {
              "outlinewidth": 1,
              "tickcolor": "rgb(36,36,36)",
              "ticks": "outside"
             }
            },
            "type": "scattermapbox"
           }
          ],
          "scatterpolar": [
           {
            "marker": {
             "colorbar": {
              "outlinewidth": 1,
              "tickcolor": "rgb(36,36,36)",
              "ticks": "outside"
             }
            },
            "type": "scatterpolar"
           }
          ],
          "scatterpolargl": [
           {
            "marker": {
             "colorbar": {
              "outlinewidth": 1,
              "tickcolor": "rgb(36,36,36)",
              "ticks": "outside"
             }
            },
            "type": "scatterpolargl"
           }
          ],
          "scatterternary": [
           {
            "marker": {
             "colorbar": {
              "outlinewidth": 1,
              "tickcolor": "rgb(36,36,36)",
              "ticks": "outside"
             }
            },
            "type": "scatterternary"
           }
          ],
          "surface": [
           {
            "colorbar": {
             "outlinewidth": 1,
             "tickcolor": "rgb(36,36,36)",
             "ticks": "outside"
            },
            "colorscale": [
             [
              0,
              "#440154"
             ],
             [
              0.1111111111111111,
              "#482878"
             ],
             [
              0.2222222222222222,
              "#3e4989"
             ],
             [
              0.3333333333333333,
              "#31688e"
             ],
             [
              0.4444444444444444,
              "#26828e"
             ],
             [
              0.5555555555555556,
              "#1f9e89"
             ],
             [
              0.6666666666666666,
              "#35b779"
             ],
             [
              0.7777777777777778,
              "#6ece58"
             ],
             [
              0.8888888888888888,
              "#b5de2b"
             ],
             [
              1,
              "#fde725"
             ]
            ],
            "type": "surface"
           }
          ],
          "table": [
           {
            "cells": {
             "fill": {
              "color": "rgb(237,237,237)"
             },
             "line": {
              "color": "white"
             }
            },
            "header": {
             "fill": {
              "color": "rgb(217,217,217)"
             },
             "line": {
              "color": "white"
             }
            },
            "type": "table"
           }
          ]
         },
         "layout": {
          "annotationdefaults": {
           "arrowhead": 0,
           "arrowwidth": 1
          },
          "autotypenumbers": "strict",
          "coloraxis": {
           "colorbar": {
            "outlinewidth": 1,
            "tickcolor": "rgb(36,36,36)",
            "ticks": "outside"
           }
          },
          "colorscale": {
           "diverging": [
            [
             0,
             "rgb(103,0,31)"
            ],
            [
             0.1,
             "rgb(178,24,43)"
            ],
            [
             0.2,
             "rgb(214,96,77)"
            ],
            [
             0.3,
             "rgb(244,165,130)"
            ],
            [
             0.4,
             "rgb(253,219,199)"
            ],
            [
             0.5,
             "rgb(247,247,247)"
            ],
            [
             0.6,
             "rgb(209,229,240)"
            ],
            [
             0.7,
             "rgb(146,197,222)"
            ],
            [
             0.8,
             "rgb(67,147,195)"
            ],
            [
             0.9,
             "rgb(33,102,172)"
            ],
            [
             1,
             "rgb(5,48,97)"
            ]
           ],
           "sequential": [
            [
             0,
             "#440154"
            ],
            [
             0.1111111111111111,
             "#482878"
            ],
            [
             0.2222222222222222,
             "#3e4989"
            ],
            [
             0.3333333333333333,
             "#31688e"
            ],
            [
             0.4444444444444444,
             "#26828e"
            ],
            [
             0.5555555555555556,
             "#1f9e89"
            ],
            [
             0.6666666666666666,
             "#35b779"
            ],
            [
             0.7777777777777778,
             "#6ece58"
            ],
            [
             0.8888888888888888,
             "#b5de2b"
            ],
            [
             1,
             "#fde725"
            ]
           ],
           "sequentialminus": [
            [
             0,
             "#440154"
            ],
            [
             0.1111111111111111,
             "#482878"
            ],
            [
             0.2222222222222222,
             "#3e4989"
            ],
            [
             0.3333333333333333,
             "#31688e"
            ],
            [
             0.4444444444444444,
             "#26828e"
            ],
            [
             0.5555555555555556,
             "#1f9e89"
            ],
            [
             0.6666666666666666,
             "#35b779"
            ],
            [
             0.7777777777777778,
             "#6ece58"
            ],
            [
             0.8888888888888888,
             "#b5de2b"
            ],
            [
             1,
             "#fde725"
            ]
           ]
          },
          "colorway": [
           "#1F77B4",
           "#FF7F0E",
           "#2CA02C",
           "#D62728",
           "#9467BD",
           "#8C564B",
           "#E377C2",
           "#7F7F7F",
           "#BCBD22",
           "#17BECF"
          ],
          "font": {
           "color": "rgb(36,36,36)"
          },
          "geo": {
           "bgcolor": "white",
           "lakecolor": "white",
           "landcolor": "white",
           "showlakes": true,
           "showland": true,
           "subunitcolor": "white"
          },
          "hoverlabel": {
           "align": "left"
          },
          "hovermode": "closest",
          "mapbox": {
           "style": "light"
          },
          "paper_bgcolor": "white",
          "plot_bgcolor": "white",
          "polar": {
           "angularaxis": {
            "gridcolor": "rgb(232,232,232)",
            "linecolor": "rgb(36,36,36)",
            "showgrid": false,
            "showline": true,
            "ticks": "outside"
           },
           "bgcolor": "white",
           "radialaxis": {
            "gridcolor": "rgb(232,232,232)",
            "linecolor": "rgb(36,36,36)",
            "showgrid": false,
            "showline": true,
            "ticks": "outside"
           }
          },
          "scene": {
           "xaxis": {
            "backgroundcolor": "white",
            "gridcolor": "rgb(232,232,232)",
            "gridwidth": 2,
            "linecolor": "rgb(36,36,36)",
            "showbackground": true,
            "showgrid": false,
            "showline": true,
            "ticks": "outside",
            "zeroline": false,
            "zerolinecolor": "rgb(36,36,36)"
           },
           "yaxis": {
            "backgroundcolor": "white",
            "gridcolor": "rgb(232,232,232)",
            "gridwidth": 2,
            "linecolor": "rgb(36,36,36)",
            "showbackground": true,
            "showgrid": false,
            "showline": true,
            "ticks": "outside",
            "zeroline": false,
            "zerolinecolor": "rgb(36,36,36)"
           },
           "zaxis": {
            "backgroundcolor": "white",
            "gridcolor": "rgb(232,232,232)",
            "gridwidth": 2,
            "linecolor": "rgb(36,36,36)",
            "showbackground": true,
            "showgrid": false,
            "showline": true,
            "ticks": "outside",
            "zeroline": false,
            "zerolinecolor": "rgb(36,36,36)"
           }
          },
          "shapedefaults": {
           "fillcolor": "black",
           "line": {
            "width": 0
           },
           "opacity": 0.3
          },
          "ternary": {
           "aaxis": {
            "gridcolor": "rgb(232,232,232)",
            "linecolor": "rgb(36,36,36)",
            "showgrid": false,
            "showline": true,
            "ticks": "outside"
           },
           "baxis": {
            "gridcolor": "rgb(232,232,232)",
            "linecolor": "rgb(36,36,36)",
            "showgrid": false,
            "showline": true,
            "ticks": "outside"
           },
           "bgcolor": "white",
           "caxis": {
            "gridcolor": "rgb(232,232,232)",
            "linecolor": "rgb(36,36,36)",
            "showgrid": false,
            "showline": true,
            "ticks": "outside"
           }
          },
          "title": {
           "x": 0.05
          },
          "xaxis": {
           "automargin": true,
           "gridcolor": "rgb(232,232,232)",
           "linecolor": "rgb(36,36,36)",
           "showgrid": false,
           "showline": true,
           "ticks": "outside",
           "title": {
            "standoff": 15
           },
           "zeroline": false,
           "zerolinecolor": "rgb(36,36,36)"
          },
          "yaxis": {
           "automargin": true,
           "gridcolor": "rgb(232,232,232)",
           "linecolor": "rgb(36,36,36)",
           "showgrid": false,
           "showline": true,
           "ticks": "outside",
           "title": {
            "standoff": 15
           },
           "zeroline": false,
           "zerolinecolor": "rgb(36,36,36)"
          }
         }
        },
        "title": {
         "text": "Cytomining Ecosystem Software Landscape Analysis: Cytomining Ecosystem Relevant Open Source"
        },
        "xaxis": {
         "anchor": "y",
         "autorange": true,
         "domain": [
          0,
          1
         ],
         "range": [
          0.3584572443654964,
          14.098090017610973
         ],
         "title": {
          "text": "Project Age (years)"
         },
         "type": "linear"
        },
        "yaxis": {
         "anchor": "x",
         "autorange": true,
         "domain": [
          0.32,
          1
         ],
         "range": [
          -2486.351528614081,
          43336.743488549575
         ],
         "title": {
          "text": "GitHub Stars Count"
         },
         "type": "linear"
        }
       }
      },
      "image/png": "[encoded data removed]",
      "text/html": [
       "<div>                            <div id=\"6bba7de7-7e8f-43eb-b573-a6cc6b9a53f2\" class=\"plotly-graph-div\" style=\"height:1200px; width:100%;\"></div>            <script type=\"text/javascript\">                require([\"plotly\"], function(Plotly) {                    window.PLOTLYENV=window.PLOTLYENV || {};                                    if (document.getElementById(\"6bba7de7-7e8f-43eb-b573-a6cc6b9a53f2\")) {                    Plotly.newPlot(                        \"6bba7de7-7e8f-43eb-b573-a6cc6b9a53f2\",                        [{\"hovertemplate\":\"\\u003cb\\u003e%{hovertext}\\u003c\\u002fb\\u003e\\u003cbr\\u003e\\u003cbr\\u003ecategory=cytomining-ecosystem-relevant-open-source\\u003cbr\\u003eDuration Created to Now in Years=%{x}\\u003cbr\\u003eGitHub Stars=%{y}\\u003cbr\\u003eGitHub Watchers=%{marker.size}\\u003cextra\\u003e\\u003c\\u002fextra\\u003e\",\"hovertext\":[\"pandas\",\"numpy\",\"arrow\",\"duckdb\",\"parquet-mr\",\"snakemake\",\"anndata\",\"parsl\"],\"legendgroup\":\"0\",\"marker\":{\"color\":\"rgb(115, 175, 72)\",\"size\":[1121,595,351,156,95,21,15,29],\"sizemin\":4,\"sizemode\":\"area\",\"sizeref\":2.8025,\"symbol\":\"circle\"},\"mode\":\"markers\",\"name\":\"cytomining-ecosystem-relevant-open-source\",\"orientation\":\"v\",\"showlegend\":true,\"x\":[13.145205479452056,13.087671232876712,7.657534246575342,5.301369863013699,9.347945205479451,4.027397260273973,6.175342465753425,6.983561643835617],\"xaxis\":\"x\",\"y\":[40001,24720,12603,12351,2176,1952,450,408],\"yaxis\":\"y\",\"type\":\"scatter\"},{\"hovertemplate\":\"\\u003cb\\u003e%{hovertext}\\u003c\\u002fb\\u003e\\u003cbr\\u003e\\u003cbr\\u003ecategory=loi-focus\\u003cbr\\u003eDuration Created to Now in Years=%{x}\\u003cbr\\u003eGitHub Stars=%{y}\\u003cbr\\u003eGitHub Watchers=%{marker.size}\\u003cextra\\u003e\\u003c\\u002fextra\\u003e\",\"hovertext\":[\"pycytominer\",\"IDR_stream\",\"CytoTable\",\"CytoSnake\"],\"legendgroup\":\"0\",\"marker\":{\"color\":\"rgb(95, 70, 144)\",\"size\":[6,2,4,0],\"sizemin\":4,\"sizemode\":\"area\",\"sizeref\":2.8025,\"symbol\":\"circle\"},\"mode\":\"markers\",\"name\":\"loi-focus\",\"orientation\":\"v\",\"showlegend\":true,\"x\":[4.282191780821917,1.178082191780822,1.095890410958904,1.6575342465753424],\"xaxis\":\"x\",\"y\":[52,4,3,3],\"yaxis\":\"y\",\"type\":\"scatter\"},{\"domain\":{\"x\":[0.0,0.45],\"y\":[0.0,0.17]},\"hovertemplate\":\"Language=%{label}\\u003cbr\\u003eValue=%{value}\\u003cextra\\u003e\\u003c\\u002fextra\\u003e\",\"labels\":[\"C\",\"CSS\",\"Cython\",\"Dockerfile\",\"HTML\",\"Meson\",\"Python\",\"Shell\",\"Smarty\",\"XSLT\"],\"legendgroup\":\"1\",\"name\":\"\",\"showlegend\":true,\"values\":[386224.0,6804.0,1277471.0,5751.0,457000.0,10664.0,20322774.0,14392.0,8486.0,1196.0],\"type\":\"pie\"}],                        {\"template\":{\"data\":{\"histogram2dcontour\":[{\"type\":\"histogram2dcontour\",\"colorbar\":{\"outlinewidth\":1,\"tickcolor\":\"rgb(36,36,36)\",\"ticks\":\"outside\"},\"colorscale\":[[0.0,\"#440154\"],[0.1111111111111111,\"#482878\"],[0.2222222222222222,\"#3e4989\"],[0.3333333333333333,\"#31688e\"],[0.4444444444444444,\"#26828e\"],[0.5555555555555556,\"#1f9e89\"],[0.6666666666666666,\"#35b779\"],[0.7777777777777778,\"#6ece58\"],[0.8888888888888888,\"#b5de2b\"],[1.0,\"#fde725\"]]}],\"choropleth\":[{\"type\":\"choropleth\",\"colorbar\":{\"outlinewidth\":1,\"tickcolor\":\"rgb(36,36,36)\",\"ticks\":\"outside\"}}],\"histogram2d\":[{\"type\":\"histogram2d\",\"colorbar\":{\"outlinewidth\":1,\"tickcolor\":\"rgb(36,36,36)\",\"ticks\":\"outside\"},\"colorscale\":[[0.0,\"#440154\"],[0.1111111111111111,\"#482878\"],[0.2222222222222222,\"#3e4989\"],[0.3333333333333333,\"#31688e\"],[0.4444444444444444,\"#26828e\"],[0.5555555555555556,\"#1f9e89\"],[0.6666666666666666,\"#35b779\"],[0.7777777777777778,\"#6ece58\"],[0.8888888888888888,\"#b5de2b\"],[1.0,\"#fde725\"]]}],\"heatmap\":[{\"type\":\"heatmap\",\"colorbar\":{\"outlinewidth\":1,\"tickcolor\":\"rgb(36,36,36)\",\"ticks\":\"outside\"},\"colorscale\":[[0.0,\"#440154\"],[0.1111111111111111,\"#482878\"],[0.2222222222222222,\"#3e4989\"],[0.3333333333333333,\"#31688e\"],[0.4444444444444444,\"#26828e\"],[0.5555555555555556,\"#1f9e89\"],[0.6666666666666666,\"#35b779\"],[0.7777777777777778,\"#6ece58\"],[0.8888888888888888,\"#b5de2b\"],[1.0,\"#fde725\"]]}],\"heatmapgl\":[{\"type\":\"heatmapgl\",\"colorbar\":{\"outlinewidth\":1,\"tickcolor\":\"rgb(36,36,36)\",\"ticks\":\"outside\"},\"colorscale\":[[0.0,\"#440154\"],[0.1111111111111111,\"#482878\"],[0.2222222222222222,\"#3e4989\"],[0.3333333333333333,\"#31688e\"],[0.4444444444444444,\"#26828e\"],[0.5555555555555556,\"#1f9e89\"],[0.6666666666666666,\"#35b779\"],[0.7777777777777778,\"#6ece58\"],[0.8888888888888888,\"#b5de2b\"],[1.0,\"#fde725\"]]}],\"contourcarpet\":[{\"type\":\"contourcarpet\",\"colorbar\":{\"outlinewidth\":1,\"tickcolor\":\"rgb(36,36,36)\",\"ticks\":\"outside\"}}],\"contour\":[{\"type\":\"contour\",\"colorbar\":{\"outlinewidth\":1,\"tickcolor\":\"rgb(36,36,36)\",\"ticks\":\"outside\"},\"colorscale\":[[0.0,\"#440154\"],[0.1111111111111111,\"#482878\"],[0.2222222222222222,\"#3e4989\"],[0.3333333333333333,\"#31688e\"],[0.4444444444444444,\"#26828e\"],[0.5555555555555556,\"#1f9e89\"],[0.6666666666666666,\"#35b779\"],[0.7777777777777778,\"#6ece58\"],[0.8888888888888888,\"#b5de2b\"],[1.0,\"#fde725\"]]}],\"surface\":[{\"type\":\"surface\",\"colorbar\":{\"outlinewidth\":1,\"tickcolor\":\"rgb(36,36,36)\",\"ticks\":\"outside\"},\"colorscale\":[[0.0,\"#440154\"],[0.1111111111111111,\"#482878\"],[0.2222222222222222,\"#3e4989\"],[0.3333333333333333,\"#31688e\"],[0.4444444444444444,\"#26828e\"],[0.5555555555555556,\"#1f9e89\"],[0.6666666666666666,\"#35b779\"],[0.7777777777777778,\"#6ece58\"],[0.8888888888888888,\"#b5de2b\"],[1.0,\"#fde725\"]]}],\"mesh3d\":[{\"type\":\"mesh3d\",\"colorbar\":{\"outlinewidth\":1,\"tickcolor\":\"rgb(36,36,36)\",\"ticks\":\"outside\"}}],\"scatter\":[{\"fillpattern\":{\"fillmode\":\"overlay\",\"size\":10,\"solidity\":0.2},\"type\":\"scatter\"}],\"parcoords\":[{\"type\":\"parcoords\",\"line\":{\"colorbar\":{\"outlinewidth\":1,\"tickcolor\":\"rgb(36,36,36)\",\"ticks\":\"outside\"}}}],\"scatterpolargl\":[{\"type\":\"scatterpolargl\",\"marker\":{\"colorbar\":{\"outlinewidth\":1,\"tickcolor\":\"rgb(36,36,36)\",\"ticks\":\"outside\"}}}],\"bar\":[{\"error_x\":{\"color\":\"rgb(36,36,36)\"},\"error_y\":{\"color\":\"rgb(36,36,36)\"},\"marker\":{\"line\":{\"color\":\"white\",\"width\":0.5},\"pattern\":{\"fillmode\":\"overlay\",\"size\":10,\"solidity\":0.2}},\"type\":\"bar\"}],\"scattergeo\":[{\"type\":\"scattergeo\",\"marker\":{\"colorbar\":{\"outlinewidth\":1,\"tickcolor\":\"rgb(36,36,36)\",\"ticks\":\"outside\"}}}],\"scatterpolar\":[{\"type\":\"scatterpolar\",\"marker\":{\"colorbar\":{\"outlinewidth\":1,\"tickcolor\":\"rgb(36,36,36)\",\"ticks\":\"outside\"}}}],\"histogram\":[{\"marker\":{\"line\":{\"color\":\"white\",\"width\":0.6}},\"type\":\"histogram\"}],\"scattergl\":[{\"type\":\"scattergl\",\"marker\":{\"colorbar\":{\"outlinewidth\":1,\"tickcolor\":\"rgb(36,36,36)\",\"ticks\":\"outside\"}}}],\"scatter3d\":[{\"type\":\"scatter3d\",\"line\":{\"colorbar\":{\"outlinewidth\":1,\"tickcolor\":\"rgb(36,36,36)\",\"ticks\":\"outside\"}},\"marker\":{\"colorbar\":{\"outlinewidth\":1,\"tickcolor\":\"rgb(36,36,36)\",\"ticks\":\"outside\"}}}],\"scattermapbox\":[{\"type\":\"scattermapbox\",\"marker\":{\"colorbar\":{\"outlinewidth\":1,\"tickcolor\":\"rgb(36,36,36)\",\"ticks\":\"outside\"}}}],\"scatterternary\":[{\"type\":\"scatterternary\",\"marker\":{\"colorbar\":{\"outlinewidth\":1,\"tickcolor\":\"rgb(36,36,36)\",\"ticks\":\"outside\"}}}],\"scattercarpet\":[{\"type\":\"scattercarpet\",\"marker\":{\"colorbar\":{\"outlinewidth\":1,\"tickcolor\":\"rgb(36,36,36)\",\"ticks\":\"outside\"}}}],\"carpet\":[{\"aaxis\":{\"endlinecolor\":\"rgb(36,36,36)\",\"gridcolor\":\"white\",\"linecolor\":\"white\",\"minorgridcolor\":\"white\",\"startlinecolor\":\"rgb(36,36,36)\"},\"baxis\":{\"endlinecolor\":\"rgb(36,36,36)\",\"gridcolor\":\"white\",\"linecolor\":\"white\",\"minorgridcolor\":\"white\",\"startlinecolor\":\"rgb(36,36,36)\"},\"type\":\"carpet\"}],\"table\":[{\"cells\":{\"fill\":{\"color\":\"rgb(237,237,237)\"},\"line\":{\"color\":\"white\"}},\"header\":{\"fill\":{\"color\":\"rgb(217,217,217)\"},\"line\":{\"color\":\"white\"}},\"type\":\"table\"}],\"barpolar\":[{\"marker\":{\"line\":{\"color\":\"white\",\"width\":0.5},\"pattern\":{\"fillmode\":\"overlay\",\"size\":10,\"solidity\":0.2}},\"type\":\"barpolar\"}],\"pie\":[{\"automargin\":true,\"type\":\"pie\"}]},\"layout\":{\"autotypenumbers\":\"strict\",\"colorway\":[\"#1F77B4\",\"#FF7F0E\",\"#2CA02C\",\"#D62728\",\"#9467BD\",\"#8C564B\",\"#E377C2\",\"#7F7F7F\",\"#BCBD22\",\"#17BECF\"],\"font\":{\"color\":\"rgb(36,36,36)\"},\"hovermode\":\"closest\",\"hoverlabel\":{\"align\":\"left\"},\"paper_bgcolor\":\"white\",\"plot_bgcolor\":\"white\",\"polar\":{\"bgcolor\":\"white\",\"angularaxis\":{\"gridcolor\":\"rgb(232,232,232)\",\"linecolor\":\"rgb(36,36,36)\",\"showgrid\":false,\"showline\":true,\"ticks\":\"outside\"},\"radialaxis\":{\"gridcolor\":\"rgb(232,232,232)\",\"linecolor\":\"rgb(36,36,36)\",\"showgrid\":false,\"showline\":true,\"ticks\":\"outside\"}},\"ternary\":{\"bgcolor\":\"white\",\"aaxis\":{\"gridcolor\":\"rgb(232,232,232)\",\"linecolor\":\"rgb(36,36,36)\",\"showgrid\":false,\"showline\":true,\"ticks\":\"outside\"},\"baxis\":{\"gridcolor\":\"rgb(232,232,232)\",\"linecolor\":\"rgb(36,36,36)\",\"showgrid\":false,\"showline\":true,\"ticks\":\"outside\"},\"caxis\":{\"gridcolor\":\"rgb(232,232,232)\",\"linecolor\":\"rgb(36,36,36)\",\"showgrid\":false,\"showline\":true,\"ticks\":\"outside\"}},\"coloraxis\":{\"colorbar\":{\"outlinewidth\":1,\"tickcolor\":\"rgb(36,36,36)\",\"ticks\":\"outside\"}},\"colorscale\":{\"sequential\":[[0.0,\"#440154\"],[0.1111111111111111,\"#482878\"],[0.2222222222222222,\"#3e4989\"],[0.3333333333333333,\"#31688e\"],[0.4444444444444444,\"#26828e\"],[0.5555555555555556,\"#1f9e89\"],[0.6666666666666666,\"#35b779\"],[0.7777777777777778,\"#6ece58\"],[0.8888888888888888,\"#b5de2b\"],[1.0,\"#fde725\"]],\"sequentialminus\":[[0.0,\"#440154\"],[0.1111111111111111,\"#482878\"],[0.2222222222222222,\"#3e4989\"],[0.3333333333333333,\"#31688e\"],[0.4444444444444444,\"#26828e\"],[0.5555555555555556,\"#1f9e89\"],[0.6666666666666666,\"#35b779\"],[0.7777777777777778,\"#6ece58\"],[0.8888888888888888,\"#b5de2b\"],[1.0,\"#fde725\"]],\"diverging\":[[0.0,\"rgb(103,0,31)\"],[0.1,\"rgb(178,24,43)\"],[0.2,\"rgb(214,96,77)\"],[0.3,\"rgb(244,165,130)\"],[0.4,\"rgb(253,219,199)\"],[0.5,\"rgb(247,247,247)\"],[0.6,\"rgb(209,229,240)\"],[0.7,\"rgb(146,197,222)\"],[0.8,\"rgb(67,147,195)\"],[0.9,\"rgb(33,102,172)\"],[1.0,\"rgb(5,48,97)\"]]},\"xaxis\":{\"gridcolor\":\"rgb(232,232,232)\",\"linecolor\":\"rgb(36,36,36)\",\"showgrid\":false,\"showline\":true,\"ticks\":\"outside\",\"title\":{\"standoff\":15},\"zerolinecolor\":\"rgb(36,36,36)\",\"automargin\":true,\"zeroline\":false},\"yaxis\":{\"gridcolor\":\"rgb(232,232,232)\",\"linecolor\":\"rgb(36,36,36)\",\"showgrid\":false,\"showline\":true,\"ticks\":\"outside\",\"title\":{\"standoff\":15},\"zerolinecolor\":\"rgb(36,36,36)\",\"automargin\":true,\"zeroline\":false},\"scene\":{\"xaxis\":{\"backgroundcolor\":\"white\",\"gridcolor\":\"rgb(232,232,232)\",\"linecolor\":\"rgb(36,36,36)\",\"showbackground\":true,\"showgrid\":false,\"showline\":true,\"ticks\":\"outside\",\"zerolinecolor\":\"rgb(36,36,36)\",\"gridwidth\":2,\"zeroline\":false},\"yaxis\":{\"backgroundcolor\":\"white\",\"gridcolor\":\"rgb(232,232,232)\",\"linecolor\":\"rgb(36,36,36)\",\"showbackground\":true,\"showgrid\":false,\"showline\":true,\"ticks\":\"outside\",\"zerolinecolor\":\"rgb(36,36,36)\",\"gridwidth\":2,\"zeroline\":false},\"zaxis\":{\"backgroundcolor\":\"white\",\"gridcolor\":\"rgb(232,232,232)\",\"linecolor\":\"rgb(36,36,36)\",\"showbackground\":true,\"showgrid\":false,\"showline\":true,\"ticks\":\"outside\",\"zerolinecolor\":\"rgb(36,36,36)\",\"gridwidth\":2,\"zeroline\":false}},\"shapedefaults\":{\"fillcolor\":\"black\",\"line\":{\"width\":0},\"opacity\":0.3},\"annotationdefaults\":{\"arrowhead\":0,\"arrowwidth\":1},\"geo\":{\"bgcolor\":\"white\",\"landcolor\":\"white\",\"subunitcolor\":\"white\",\"showland\":true,\"showlakes\":true,\"lakecolor\":\"white\"},\"title\":{\"x\":0.05},\"mapbox\":{\"style\":\"light\"}}},\"xaxis\":{\"anchor\":\"y\",\"domain\":[0.0,1.0],\"title\":{\"text\":\"Project Age (years)\"}},\"yaxis\":{\"anchor\":\"x\",\"domain\":[0.32,1.0],\"title\":{\"text\":\"GitHub Stars Count\"}},\"title\":{\"text\":\"Cytomining Ecosystem Software Landscape Analysis: Cytomining Ecosystem Relevant Open Source\"},\"legend\":{\"tracegroupgap\":800},\"height\":1200},                        {\"responsive\": true}                    ).then(function(){\n",
       "                            \n",
       "var gd = document.getElementById('6bba7de7-7e8f-43eb-b573-a6cc6b9a53f2');\n",
       "var x = new MutationObserver(function (mutations, observer) {{\n",
       "        var display = window.getComputedStyle(gd).display;\n",
       "        if (!display || display === 'none') {{\n",
       "            console.log([gd, 'removed!']);\n",
       "            Plotly.purge(gd);\n",
       "            observer.disconnect();\n",
       "        }}\n",
       "}});\n",
       "\n",
       "// Listen for the removal of the full notebook cells\n",
       "var notebookContainer = gd.closest('#notebook-container');\n",
       "if (notebookContainer) {{\n",
       "    x.observe(notebookContainer, {childList: true});\n",
       "}}\n",
       "\n",
       "// Listen for the clearing of the current output cell\n",
       "var outputEl = gd.closest('.output');\n",
       "if (outputEl) {{\n",
       "    x.observe(outputEl, {childList: true});\n",
       "}}\n",
       "\n",
       "                        })                };                });            </script>        </div>"
      ]
     },
     "metadata": {},
     "output_type": "display_data"
    },
    {
     "data": {
      "application/vnd.plotly.v1+json": {
       "config": {
        "plotlyServerURL": "https://plot.ly"
       },
       "data": [
        {
         "hovertemplate": "<b>%{hovertext}</b><br><br>category=microscopy-analysis-tools<br>Duration Created to Now in Years=%{x}<br>GitHub Stars=%{y}<br>GitHub Watchers=%{marker.size}<extra></extra>",
         "hovertext": [
          "napari",
          "qupath",
          "CellProfiler",
          "ImageJ",
          "DeepProfiler",
          "BioProfiling.jl",
          "phenoripper"
         ],
         "legendgroup": "0",
         "marker": {
          "color": "rgb(56, 166, 165)",
          "size": [
           49,
           54,
           43,
           46,
           13,
           5,
           7
          ],
          "sizemin": 4,
          "sizemode": "area",
          "sizeref": 0.135,
          "symbol": "circle"
         },
         "mode": "markers",
         "name": "microscopy-analysis-tools",
         "orientation": "v",
         "showlegend": true,
         "type": "scatter",
         "x": [
          5.16986301369863,
          7.1287671232876715,
          12.531506849315068,
          12.208219178082192,
          6.926027397260274,
          3.665753424657534,
          11.282191780821918
         ],
         "xaxis": "x",
         "y": [
          1912,
          873,
          802,
          379,
          83,
          13,
          7
         ],
         "yaxis": "y"
        },
        {
         "hovertemplate": "<b>%{hovertext}</b><br><br>category=loi-focus<br>Duration Created to Now in Years=%{x}<br>GitHub Stars=%{y}<br>GitHub Watchers=%{marker.size}<extra></extra>",
         "hovertext": [
          "pycytominer",
          "IDR_stream",
          "CytoTable",
          "CytoSnake"
         ],
         "legendgroup": "0",
         "marker": {
          "color": "rgb(115, 175, 72)",
          "size": [
           6,
           2,
           4,
           0
          ],
          "sizemin": 4,
          "sizemode": "area",
          "sizeref": 0.135,
          "symbol": "circle"
         },
         "mode": "markers",
         "name": "loi-focus",
         "orientation": "v",
         "showlegend": true,
         "type": "scatter",
         "x": [
          4.282191780821917,
          1.178082191780822,
          1.095890410958904,
          1.6575342465753424
         ],
         "xaxis": "x",
         "y": [
          52,
          4,
          3,
          3
         ],
         "yaxis": "y"
        },
        {
         "domain": {
          "x": [
           0,
           0.45
          ],
          "y": [
           0,
           0.17
          ]
         },
         "hovertemplate": "Language=%{label}<br>Value=%{value}<extra></extra>",
         "labels": [
          "Assembly",
          "C",
          "CSS",
          "Dockerfile",
          "Java",
          "Makefile",
          "Python",
          "Rich Text Format",
          "Shell",
          "Singularity"
         ],
         "legendgroup": "1",
         "name": "",
         "showlegend": true,
         "type": "pie",
         "values": [
          11735,
          143196,
          17573,
          465,
          8356727,
          6722,
          4637489,
          2846,
          1221,
          95
         ]
        }
       ],
       "layout": {
        "autosize": true,
        "legend": {
         "tracegroupgap": 800
        },
        "template": {
         "data": {
          "bar": [
           {
            "error_x": {
             "color": "rgb(36,36,36)"
            },
            "error_y": {
             "color": "rgb(36,36,36)"
            },
            "marker": {
             "line": {
              "color": "white",
              "width": 0.5
             },
             "pattern": {
              "fillmode": "overlay",
              "size": 10,
              "solidity": 0.2
             }
            },
            "type": "bar"
           }
          ],
          "barpolar": [
           {
            "marker": {
             "line": {
              "color": "white",
              "width": 0.5
             },
             "pattern": {
              "fillmode": "overlay",
              "size": 10,
              "solidity": 0.2
             }
            },
            "type": "barpolar"
           }
          ],
          "carpet": [
           {
            "aaxis": {
             "endlinecolor": "rgb(36,36,36)",
             "gridcolor": "white",
             "linecolor": "white",
             "minorgridcolor": "white",
             "startlinecolor": "rgb(36,36,36)"
            },
            "baxis": {
             "endlinecolor": "rgb(36,36,36)",
             "gridcolor": "white",
             "linecolor": "white",
             "minorgridcolor": "white",
             "startlinecolor": "rgb(36,36,36)"
            },
            "type": "carpet"
           }
          ],
          "choropleth": [
           {
            "colorbar": {
             "outlinewidth": 1,
             "tickcolor": "rgb(36,36,36)",
             "ticks": "outside"
            },
            "type": "choropleth"
           }
          ],
          "contour": [
           {
            "colorbar": {
             "outlinewidth": 1,
             "tickcolor": "rgb(36,36,36)",
             "ticks": "outside"
            },
            "colorscale": [
             [
              0,
              "#440154"
             ],
             [
              0.1111111111111111,
              "#482878"
             ],
             [
              0.2222222222222222,
              "#3e4989"
             ],
             [
              0.3333333333333333,
              "#31688e"
             ],
             [
              0.4444444444444444,
              "#26828e"
             ],
             [
              0.5555555555555556,
              "#1f9e89"
             ],
             [
              0.6666666666666666,
              "#35b779"
             ],
             [
              0.7777777777777778,
              "#6ece58"
             ],
             [
              0.8888888888888888,
              "#b5de2b"
             ],
             [
              1,
              "#fde725"
             ]
            ],
            "type": "contour"
           }
          ],
          "contourcarpet": [
           {
            "colorbar": {
             "outlinewidth": 1,
             "tickcolor": "rgb(36,36,36)",
             "ticks": "outside"
            },
            "type": "contourcarpet"
           }
          ],
          "heatmap": [
           {
            "colorbar": {
             "outlinewidth": 1,
             "tickcolor": "rgb(36,36,36)",
             "ticks": "outside"
            },
            "colorscale": [
             [
              0,
              "#440154"
             ],
             [
              0.1111111111111111,
              "#482878"
             ],
             [
              0.2222222222222222,
              "#3e4989"
             ],
             [
              0.3333333333333333,
              "#31688e"
             ],
             [
              0.4444444444444444,
              "#26828e"
             ],
             [
              0.5555555555555556,
              "#1f9e89"
             ],
             [
              0.6666666666666666,
              "#35b779"
             ],
             [
              0.7777777777777778,
              "#6ece58"
             ],
             [
              0.8888888888888888,
              "#b5de2b"
             ],
             [
              1,
              "#fde725"
             ]
            ],
            "type": "heatmap"
           }
          ],
          "heatmapgl": [
           {
            "colorbar": {
             "outlinewidth": 1,
             "tickcolor": "rgb(36,36,36)",
             "ticks": "outside"
            },
            "colorscale": [
             [
              0,
              "#440154"
             ],
             [
              0.1111111111111111,
              "#482878"
             ],
             [
              0.2222222222222222,
              "#3e4989"
             ],
             [
              0.3333333333333333,
              "#31688e"
             ],
             [
              0.4444444444444444,
              "#26828e"
             ],
             [
              0.5555555555555556,
              "#1f9e89"
             ],
             [
              0.6666666666666666,
              "#35b779"
             ],
             [
              0.7777777777777778,
              "#6ece58"
             ],
             [
              0.8888888888888888,
              "#b5de2b"
             ],
             [
              1,
              "#fde725"
             ]
            ],
            "type": "heatmapgl"
           }
          ],
          "histogram": [
           {
            "marker": {
             "line": {
              "color": "white",
              "width": 0.6
             }
            },
            "type": "histogram"
           }
          ],
          "histogram2d": [
           {
            "colorbar": {
             "outlinewidth": 1,
             "tickcolor": "rgb(36,36,36)",
             "ticks": "outside"
            },
            "colorscale": [
             [
              0,
              "#440154"
             ],
             [
              0.1111111111111111,
              "#482878"
             ],
             [
              0.2222222222222222,
              "#3e4989"
             ],
             [
              0.3333333333333333,
              "#31688e"
             ],
             [
              0.4444444444444444,
              "#26828e"
             ],
             [
              0.5555555555555556,
              "#1f9e89"
             ],
             [
              0.6666666666666666,
              "#35b779"
             ],
             [
              0.7777777777777778,
              "#6ece58"
             ],
             [
              0.8888888888888888,
              "#b5de2b"
             ],
             [
              1,
              "#fde725"
             ]
            ],
            "type": "histogram2d"
           }
          ],
          "histogram2dcontour": [
           {
            "colorbar": {
             "outlinewidth": 1,
             "tickcolor": "rgb(36,36,36)",
             "ticks": "outside"
            },
            "colorscale": [
             [
              0,
              "#440154"
             ],
             [
              0.1111111111111111,
              "#482878"
             ],
             [
              0.2222222222222222,
              "#3e4989"
             ],
             [
              0.3333333333333333,
              "#31688e"
             ],
             [
              0.4444444444444444,
              "#26828e"
             ],
             [
              0.5555555555555556,
              "#1f9e89"
             ],
             [
              0.6666666666666666,
              "#35b779"
             ],
             [
              0.7777777777777778,
              "#6ece58"
             ],
             [
              0.8888888888888888,
              "#b5de2b"
             ],
             [
              1,
              "#fde725"
             ]
            ],
            "type": "histogram2dcontour"
           }
          ],
          "mesh3d": [
           {
            "colorbar": {
             "outlinewidth": 1,
             "tickcolor": "rgb(36,36,36)",
             "ticks": "outside"
            },
            "type": "mesh3d"
           }
          ],
          "parcoords": [
           {
            "line": {
             "colorbar": {
              "outlinewidth": 1,
              "tickcolor": "rgb(36,36,36)",
              "ticks": "outside"
             }
            },
            "type": "parcoords"
           }
          ],
          "pie": [
           {
            "automargin": true,
            "type": "pie"
           }
          ],
          "scatter": [
           {
            "fillpattern": {
             "fillmode": "overlay",
             "size": 10,
             "solidity": 0.2
            },
            "type": "scatter"
           }
          ],
          "scatter3d": [
           {
            "line": {
             "colorbar": {
              "outlinewidth": 1,
              "tickcolor": "rgb(36,36,36)",
              "ticks": "outside"
             }
            },
            "marker": {
             "colorbar": {
              "outlinewidth": 1,
              "tickcolor": "rgb(36,36,36)",
              "ticks": "outside"
             }
            },
            "type": "scatter3d"
           }
          ],
          "scattercarpet": [
           {
            "marker": {
             "colorbar": {
              "outlinewidth": 1,
              "tickcolor": "rgb(36,36,36)",
              "ticks": "outside"
             }
            },
            "type": "scattercarpet"
           }
          ],
          "scattergeo": [
           {
            "marker": {
             "colorbar": {
              "outlinewidth": 1,
              "tickcolor": "rgb(36,36,36)",
              "ticks": "outside"
             }
            },
            "type": "scattergeo"
           }
          ],
          "scattergl": [
           {
            "marker": {
             "colorbar": {
              "outlinewidth": 1,
              "tickcolor": "rgb(36,36,36)",
              "ticks": "outside"
             }
            },
            "type": "scattergl"
           }
          ],
          "scattermapbox": [
           {
            "marker": {
             "colorbar": {
              "outlinewidth": 1,
              "tickcolor": "rgb(36,36,36)",
              "ticks": "outside"
             }
            },
            "type": "scattermapbox"
           }
          ],
          "scatterpolar": [
           {
            "marker": {
             "colorbar": {
              "outlinewidth": 1,
              "tickcolor": "rgb(36,36,36)",
              "ticks": "outside"
             }
            },
            "type": "scatterpolar"
           }
          ],
          "scatterpolargl": [
           {
            "marker": {
             "colorbar": {
              "outlinewidth": 1,
              "tickcolor": "rgb(36,36,36)",
              "ticks": "outside"
             }
            },
            "type": "scatterpolargl"
           }
          ],
          "scatterternary": [
           {
            "marker": {
             "colorbar": {
              "outlinewidth": 1,
              "tickcolor": "rgb(36,36,36)",
              "ticks": "outside"
             }
            },
            "type": "scatterternary"
           }
          ],
          "surface": [
           {
            "colorbar": {
             "outlinewidth": 1,
             "tickcolor": "rgb(36,36,36)",
             "ticks": "outside"
            },
            "colorscale": [
             [
              0,
              "#440154"
             ],
             [
              0.1111111111111111,
              "#482878"
             ],
             [
              0.2222222222222222,
              "#3e4989"
             ],
             [
              0.3333333333333333,
              "#31688e"
             ],
             [
              0.4444444444444444,
              "#26828e"
             ],
             [
              0.5555555555555556,
              "#1f9e89"
             ],
             [
              0.6666666666666666,
              "#35b779"
             ],
             [
              0.7777777777777778,
              "#6ece58"
             ],
             [
              0.8888888888888888,
              "#b5de2b"
             ],
             [
              1,
              "#fde725"
             ]
            ],
            "type": "surface"
           }
          ],
          "table": [
           {
            "cells": {
             "fill": {
              "color": "rgb(237,237,237)"
             },
             "line": {
              "color": "white"
             }
            },
            "header": {
             "fill": {
              "color": "rgb(217,217,217)"
             },
             "line": {
              "color": "white"
             }
            },
            "type": "table"
           }
          ]
         },
         "layout": {
          "annotationdefaults": {
           "arrowhead": 0,
           "arrowwidth": 1
          },
          "autotypenumbers": "strict",
          "coloraxis": {
           "colorbar": {
            "outlinewidth": 1,
            "tickcolor": "rgb(36,36,36)",
            "ticks": "outside"
           }
          },
          "colorscale": {
           "diverging": [
            [
             0,
             "rgb(103,0,31)"
            ],
            [
             0.1,
             "rgb(178,24,43)"
            ],
            [
             0.2,
             "rgb(214,96,77)"
            ],
            [
             0.3,
             "rgb(244,165,130)"
            ],
            [
             0.4,
             "rgb(253,219,199)"
            ],
            [
             0.5,
             "rgb(247,247,247)"
            ],
            [
             0.6,
             "rgb(209,229,240)"
            ],
            [
             0.7,
             "rgb(146,197,222)"
            ],
            [
             0.8,
             "rgb(67,147,195)"
            ],
            [
             0.9,
             "rgb(33,102,172)"
            ],
            [
             1,
             "rgb(5,48,97)"
            ]
           ],
           "sequential": [
            [
             0,
             "#440154"
            ],
            [
             0.1111111111111111,
             "#482878"
            ],
            [
             0.2222222222222222,
             "#3e4989"
            ],
            [
             0.3333333333333333,
             "#31688e"
            ],
            [
             0.4444444444444444,
             "#26828e"
            ],
            [
             0.5555555555555556,
             "#1f9e89"
            ],
            [
             0.6666666666666666,
             "#35b779"
            ],
            [
             0.7777777777777778,
             "#6ece58"
            ],
            [
             0.8888888888888888,
             "#b5de2b"
            ],
            [
             1,
             "#fde725"
            ]
           ],
           "sequentialminus": [
            [
             0,
             "#440154"
            ],
            [
             0.1111111111111111,
             "#482878"
            ],
            [
             0.2222222222222222,
             "#3e4989"
            ],
            [
             0.3333333333333333,
             "#31688e"
            ],
            [
             0.4444444444444444,
             "#26828e"
            ],
            [
             0.5555555555555556,
             "#1f9e89"
            ],
            [
             0.6666666666666666,
             "#35b779"
            ],
            [
             0.7777777777777778,
             "#6ece58"
            ],
            [
             0.8888888888888888,
             "#b5de2b"
            ],
            [
             1,
             "#fde725"
            ]
           ]
          },
          "colorway": [
           "#1F77B4",
           "#FF7F0E",
           "#2CA02C",
           "#D62728",
           "#9467BD",
           "#8C564B",
           "#E377C2",
           "#7F7F7F",
           "#BCBD22",
           "#17BECF"
          ],
          "font": {
           "color": "rgb(36,36,36)"
          },
          "geo": {
           "bgcolor": "white",
           "lakecolor": "white",
           "landcolor": "white",
           "showlakes": true,
           "showland": true,
           "subunitcolor": "white"
          },
          "hoverlabel": {
           "align": "left"
          },
          "hovermode": "closest",
          "mapbox": {
           "style": "light"
          },
          "paper_bgcolor": "white",
          "plot_bgcolor": "white",
          "polar": {
           "angularaxis": {
            "gridcolor": "rgb(232,232,232)",
            "linecolor": "rgb(36,36,36)",
            "showgrid": false,
            "showline": true,
            "ticks": "outside"
           },
           "bgcolor": "white",
           "radialaxis": {
            "gridcolor": "rgb(232,232,232)",
            "linecolor": "rgb(36,36,36)",
            "showgrid": false,
            "showline": true,
            "ticks": "outside"
           }
          },
          "scene": {
           "xaxis": {
            "backgroundcolor": "white",
            "gridcolor": "rgb(232,232,232)",
            "gridwidth": 2,
            "linecolor": "rgb(36,36,36)",
            "showbackground": true,
            "showgrid": false,
            "showline": true,
            "ticks": "outside",
            "zeroline": false,
            "zerolinecolor": "rgb(36,36,36)"
           },
           "yaxis": {
            "backgroundcolor": "white",
            "gridcolor": "rgb(232,232,232)",
            "gridwidth": 2,
            "linecolor": "rgb(36,36,36)",
            "showbackground": true,
            "showgrid": false,
            "showline": true,
            "ticks": "outside",
            "zeroline": false,
            "zerolinecolor": "rgb(36,36,36)"
           },
           "zaxis": {
            "backgroundcolor": "white",
            "gridcolor": "rgb(232,232,232)",
            "gridwidth": 2,
            "linecolor": "rgb(36,36,36)",
            "showbackground": true,
            "showgrid": false,
            "showline": true,
            "ticks": "outside",
            "zeroline": false,
            "zerolinecolor": "rgb(36,36,36)"
           }
          },
          "shapedefaults": {
           "fillcolor": "black",
           "line": {
            "width": 0
           },
           "opacity": 0.3
          },
          "ternary": {
           "aaxis": {
            "gridcolor": "rgb(232,232,232)",
            "linecolor": "rgb(36,36,36)",
            "showgrid": false,
            "showline": true,
            "ticks": "outside"
           },
           "baxis": {
            "gridcolor": "rgb(232,232,232)",
            "linecolor": "rgb(36,36,36)",
            "showgrid": false,
            "showline": true,
            "ticks": "outside"
           },
           "bgcolor": "white",
           "caxis": {
            "gridcolor": "rgb(232,232,232)",
            "linecolor": "rgb(36,36,36)",
            "showgrid": false,
            "showline": true,
            "ticks": "outside"
           }
          },
          "title": {
           "x": 0.05
          },
          "xaxis": {
           "automargin": true,
           "gridcolor": "rgb(232,232,232)",
           "linecolor": "rgb(36,36,36)",
           "showgrid": false,
           "showline": true,
           "ticks": "outside",
           "title": {
            "standoff": 15
           },
           "zeroline": false,
           "zerolinecolor": "rgb(36,36,36)"
          },
          "yaxis": {
           "automargin": true,
           "gridcolor": "rgb(232,232,232)",
           "linecolor": "rgb(36,36,36)",
           "showgrid": false,
           "showline": true,
           "ticks": "outside",
           "title": {
            "standoff": 15
           },
           "zeroline": false,
           "zerolinecolor": "rgb(36,36,36)"
          }
         }
        },
        "title": {
         "text": "Cytomining Ecosystem Software Landscape Analysis: Microscopy Analysis Tools"
        },
        "xaxis": {
         "anchor": "y",
         "autorange": true,
         "domain": [
          0,
          1
         ],
         "range": [
          0.38265867314935587,
          13.388195160977574
         ],
         "title": {
          "text": "Project Age (years)"
         },
         "type": "linear"
        },
        "yaxis": {
         "anchor": "x",
         "autorange": true,
         "domain": [
          0.32,
          1
         ],
         "range": [
          -120.53112863638911,
          2069.2258775953364
         ],
         "title": {
          "text": "GitHub Stars Count"
         },
         "type": "linear"
        }
       }
      },
      "image/png": "[encoded data removed]",
      "text/html": [
       "<div>                            <div id=\"207a034f-c251-4e7d-a73f-c4bb24811737\" class=\"plotly-graph-div\" style=\"height:1200px; width:100%;\"></div>            <script type=\"text/javascript\">                require([\"plotly\"], function(Plotly) {                    window.PLOTLYENV=window.PLOTLYENV || {};                                    if (document.getElementById(\"207a034f-c251-4e7d-a73f-c4bb24811737\")) {                    Plotly.newPlot(                        \"207a034f-c251-4e7d-a73f-c4bb24811737\",                        [{\"hovertemplate\":\"\\u003cb\\u003e%{hovertext}\\u003c\\u002fb\\u003e\\u003cbr\\u003e\\u003cbr\\u003ecategory=microscopy-analysis-tools\\u003cbr\\u003eDuration Created to Now in Years=%{x}\\u003cbr\\u003eGitHub Stars=%{y}\\u003cbr\\u003eGitHub Watchers=%{marker.size}\\u003cextra\\u003e\\u003c\\u002fextra\\u003e\",\"hovertext\":[\"napari\",\"qupath\",\"CellProfiler\",\"ImageJ\",\"DeepProfiler\",\"BioProfiling.jl\",\"phenoripper\"],\"legendgroup\":\"0\",\"marker\":{\"color\":\"rgb(56, 166, 165)\",\"size\":[49,54,43,46,13,5,7],\"sizemin\":4,\"sizemode\":\"area\",\"sizeref\":0.135,\"symbol\":\"circle\"},\"mode\":\"markers\",\"name\":\"microscopy-analysis-tools\",\"orientation\":\"v\",\"showlegend\":true,\"x\":[5.16986301369863,7.1287671232876715,12.531506849315068,12.208219178082192,6.926027397260274,3.665753424657534,11.282191780821918],\"xaxis\":\"x\",\"y\":[1912,873,802,379,83,13,7],\"yaxis\":\"y\",\"type\":\"scatter\"},{\"hovertemplate\":\"\\u003cb\\u003e%{hovertext}\\u003c\\u002fb\\u003e\\u003cbr\\u003e\\u003cbr\\u003ecategory=loi-focus\\u003cbr\\u003eDuration Created to Now in Years=%{x}\\u003cbr\\u003eGitHub Stars=%{y}\\u003cbr\\u003eGitHub Watchers=%{marker.size}\\u003cextra\\u003e\\u003c\\u002fextra\\u003e\",\"hovertext\":[\"pycytominer\",\"IDR_stream\",\"CytoTable\",\"CytoSnake\"],\"legendgroup\":\"0\",\"marker\":{\"color\":\"rgb(115, 175, 72)\",\"size\":[6,2,4,0],\"sizemin\":4,\"sizemode\":\"area\",\"sizeref\":0.135,\"symbol\":\"circle\"},\"mode\":\"markers\",\"name\":\"loi-focus\",\"orientation\":\"v\",\"showlegend\":true,\"x\":[4.282191780821917,1.178082191780822,1.095890410958904,1.6575342465753424],\"xaxis\":\"x\",\"y\":[52,4,3,3],\"yaxis\":\"y\",\"type\":\"scatter\"},{\"domain\":{\"x\":[0.0,0.45],\"y\":[0.0,0.17]},\"hovertemplate\":\"Language=%{label}\\u003cbr\\u003eValue=%{value}\\u003cextra\\u003e\\u003c\\u002fextra\\u003e\",\"labels\":[\"Assembly\",\"C\",\"CSS\",\"Dockerfile\",\"Java\",\"Makefile\",\"Python\",\"Rich Text Format\",\"Shell\",\"Singularity\"],\"legendgroup\":\"1\",\"name\":\"\",\"showlegend\":true,\"values\":[11735.0,143196.0,17573.0,465.0,8356727.0,6722.0,4637489.0,2846.0,1221.0,95.0],\"type\":\"pie\"}],                        {\"template\":{\"data\":{\"histogram2dcontour\":[{\"type\":\"histogram2dcontour\",\"colorbar\":{\"outlinewidth\":1,\"tickcolor\":\"rgb(36,36,36)\",\"ticks\":\"outside\"},\"colorscale\":[[0.0,\"#440154\"],[0.1111111111111111,\"#482878\"],[0.2222222222222222,\"#3e4989\"],[0.3333333333333333,\"#31688e\"],[0.4444444444444444,\"#26828e\"],[0.5555555555555556,\"#1f9e89\"],[0.6666666666666666,\"#35b779\"],[0.7777777777777778,\"#6ece58\"],[0.8888888888888888,\"#b5de2b\"],[1.0,\"#fde725\"]]}],\"choropleth\":[{\"type\":\"choropleth\",\"colorbar\":{\"outlinewidth\":1,\"tickcolor\":\"rgb(36,36,36)\",\"ticks\":\"outside\"}}],\"histogram2d\":[{\"type\":\"histogram2d\",\"colorbar\":{\"outlinewidth\":1,\"tickcolor\":\"rgb(36,36,36)\",\"ticks\":\"outside\"},\"colorscale\":[[0.0,\"#440154\"],[0.1111111111111111,\"#482878\"],[0.2222222222222222,\"#3e4989\"],[0.3333333333333333,\"#31688e\"],[0.4444444444444444,\"#26828e\"],[0.5555555555555556,\"#1f9e89\"],[0.6666666666666666,\"#35b779\"],[0.7777777777777778,\"#6ece58\"],[0.8888888888888888,\"#b5de2b\"],[1.0,\"#fde725\"]]}],\"heatmap\":[{\"type\":\"heatmap\",\"colorbar\":{\"outlinewidth\":1,\"tickcolor\":\"rgb(36,36,36)\",\"ticks\":\"outside\"},\"colorscale\":[[0.0,\"#440154\"],[0.1111111111111111,\"#482878\"],[0.2222222222222222,\"#3e4989\"],[0.3333333333333333,\"#31688e\"],[0.4444444444444444,\"#26828e\"],[0.5555555555555556,\"#1f9e89\"],[0.6666666666666666,\"#35b779\"],[0.7777777777777778,\"#6ece58\"],[0.8888888888888888,\"#b5de2b\"],[1.0,\"#fde725\"]]}],\"heatmapgl\":[{\"type\":\"heatmapgl\",\"colorbar\":{\"outlinewidth\":1,\"tickcolor\":\"rgb(36,36,36)\",\"ticks\":\"outside\"},\"colorscale\":[[0.0,\"#440154\"],[0.1111111111111111,\"#482878\"],[0.2222222222222222,\"#3e4989\"],[0.3333333333333333,\"#31688e\"],[0.4444444444444444,\"#26828e\"],[0.5555555555555556,\"#1f9e89\"],[0.6666666666666666,\"#35b779\"],[0.7777777777777778,\"#6ece58\"],[0.8888888888888888,\"#b5de2b\"],[1.0,\"#fde725\"]]}],\"contourcarpet\":[{\"type\":\"contourcarpet\",\"colorbar\":{\"outlinewidth\":1,\"tickcolor\":\"rgb(36,36,36)\",\"ticks\":\"outside\"}}],\"contour\":[{\"type\":\"contour\",\"colorbar\":{\"outlinewidth\":1,\"tickcolor\":\"rgb(36,36,36)\",\"ticks\":\"outside\"},\"colorscale\":[[0.0,\"#440154\"],[0.1111111111111111,\"#482878\"],[0.2222222222222222,\"#3e4989\"],[0.3333333333333333,\"#31688e\"],[0.4444444444444444,\"#26828e\"],[0.5555555555555556,\"#1f9e89\"],[0.6666666666666666,\"#35b779\"],[0.7777777777777778,\"#6ece58\"],[0.8888888888888888,\"#b5de2b\"],[1.0,\"#fde725\"]]}],\"surface\":[{\"type\":\"surface\",\"colorbar\":{\"outlinewidth\":1,\"tickcolor\":\"rgb(36,36,36)\",\"ticks\":\"outside\"},\"colorscale\":[[0.0,\"#440154\"],[0.1111111111111111,\"#482878\"],[0.2222222222222222,\"#3e4989\"],[0.3333333333333333,\"#31688e\"],[0.4444444444444444,\"#26828e\"],[0.5555555555555556,\"#1f9e89\"],[0.6666666666666666,\"#35b779\"],[0.7777777777777778,\"#6ece58\"],[0.8888888888888888,\"#b5de2b\"],[1.0,\"#fde725\"]]}],\"mesh3d\":[{\"type\":\"mesh3d\",\"colorbar\":{\"outlinewidth\":1,\"tickcolor\":\"rgb(36,36,36)\",\"ticks\":\"outside\"}}],\"scatter\":[{\"fillpattern\":{\"fillmode\":\"overlay\",\"size\":10,\"solidity\":0.2},\"type\":\"scatter\"}],\"parcoords\":[{\"type\":\"parcoords\",\"line\":{\"colorbar\":{\"outlinewidth\":1,\"tickcolor\":\"rgb(36,36,36)\",\"ticks\":\"outside\"}}}],\"scatterpolargl\":[{\"type\":\"scatterpolargl\",\"marker\":{\"colorbar\":{\"outlinewidth\":1,\"tickcolor\":\"rgb(36,36,36)\",\"ticks\":\"outside\"}}}],\"bar\":[{\"error_x\":{\"color\":\"rgb(36,36,36)\"},\"error_y\":{\"color\":\"rgb(36,36,36)\"},\"marker\":{\"line\":{\"color\":\"white\",\"width\":0.5},\"pattern\":{\"fillmode\":\"overlay\",\"size\":10,\"solidity\":0.2}},\"type\":\"bar\"}],\"scattergeo\":[{\"type\":\"scattergeo\",\"marker\":{\"colorbar\":{\"outlinewidth\":1,\"tickcolor\":\"rgb(36,36,36)\",\"ticks\":\"outside\"}}}],\"scatterpolar\":[{\"type\":\"scatterpolar\",\"marker\":{\"colorbar\":{\"outlinewidth\":1,\"tickcolor\":\"rgb(36,36,36)\",\"ticks\":\"outside\"}}}],\"histogram\":[{\"marker\":{\"line\":{\"color\":\"white\",\"width\":0.6}},\"type\":\"histogram\"}],\"scattergl\":[{\"type\":\"scattergl\",\"marker\":{\"colorbar\":{\"outlinewidth\":1,\"tickcolor\":\"rgb(36,36,36)\",\"ticks\":\"outside\"}}}],\"scatter3d\":[{\"type\":\"scatter3d\",\"line\":{\"colorbar\":{\"outlinewidth\":1,\"tickcolor\":\"rgb(36,36,36)\",\"ticks\":\"outside\"}},\"marker\":{\"colorbar\":{\"outlinewidth\":1,\"tickcolor\":\"rgb(36,36,36)\",\"ticks\":\"outside\"}}}],\"scattermapbox\":[{\"type\":\"scattermapbox\",\"marker\":{\"colorbar\":{\"outlinewidth\":1,\"tickcolor\":\"rgb(36,36,36)\",\"ticks\":\"outside\"}}}],\"scatterternary\":[{\"type\":\"scatterternary\",\"marker\":{\"colorbar\":{\"outlinewidth\":1,\"tickcolor\":\"rgb(36,36,36)\",\"ticks\":\"outside\"}}}],\"scattercarpet\":[{\"type\":\"scattercarpet\",\"marker\":{\"colorbar\":{\"outlinewidth\":1,\"tickcolor\":\"rgb(36,36,36)\",\"ticks\":\"outside\"}}}],\"carpet\":[{\"aaxis\":{\"endlinecolor\":\"rgb(36,36,36)\",\"gridcolor\":\"white\",\"linecolor\":\"white\",\"minorgridcolor\":\"white\",\"startlinecolor\":\"rgb(36,36,36)\"},\"baxis\":{\"endlinecolor\":\"rgb(36,36,36)\",\"gridcolor\":\"white\",\"linecolor\":\"white\",\"minorgridcolor\":\"white\",\"startlinecolor\":\"rgb(36,36,36)\"},\"type\":\"carpet\"}],\"table\":[{\"cells\":{\"fill\":{\"color\":\"rgb(237,237,237)\"},\"line\":{\"color\":\"white\"}},\"header\":{\"fill\":{\"color\":\"rgb(217,217,217)\"},\"line\":{\"color\":\"white\"}},\"type\":\"table\"}],\"barpolar\":[{\"marker\":{\"line\":{\"color\":\"white\",\"width\":0.5},\"pattern\":{\"fillmode\":\"overlay\",\"size\":10,\"solidity\":0.2}},\"type\":\"barpolar\"}],\"pie\":[{\"automargin\":true,\"type\":\"pie\"}]},\"layout\":{\"autotypenumbers\":\"strict\",\"colorway\":[\"#1F77B4\",\"#FF7F0E\",\"#2CA02C\",\"#D62728\",\"#9467BD\",\"#8C564B\",\"#E377C2\",\"#7F7F7F\",\"#BCBD22\",\"#17BECF\"],\"font\":{\"color\":\"rgb(36,36,36)\"},\"hovermode\":\"closest\",\"hoverlabel\":{\"align\":\"left\"},\"paper_bgcolor\":\"white\",\"plot_bgcolor\":\"white\",\"polar\":{\"bgcolor\":\"white\",\"angularaxis\":{\"gridcolor\":\"rgb(232,232,232)\",\"linecolor\":\"rgb(36,36,36)\",\"showgrid\":false,\"showline\":true,\"ticks\":\"outside\"},\"radialaxis\":{\"gridcolor\":\"rgb(232,232,232)\",\"linecolor\":\"rgb(36,36,36)\",\"showgrid\":false,\"showline\":true,\"ticks\":\"outside\"}},\"ternary\":{\"bgcolor\":\"white\",\"aaxis\":{\"gridcolor\":\"rgb(232,232,232)\",\"linecolor\":\"rgb(36,36,36)\",\"showgrid\":false,\"showline\":true,\"ticks\":\"outside\"},\"baxis\":{\"gridcolor\":\"rgb(232,232,232)\",\"linecolor\":\"rgb(36,36,36)\",\"showgrid\":false,\"showline\":true,\"ticks\":\"outside\"},\"caxis\":{\"gridcolor\":\"rgb(232,232,232)\",\"linecolor\":\"rgb(36,36,36)\",\"showgrid\":false,\"showline\":true,\"ticks\":\"outside\"}},\"coloraxis\":{\"colorbar\":{\"outlinewidth\":1,\"tickcolor\":\"rgb(36,36,36)\",\"ticks\":\"outside\"}},\"colorscale\":{\"sequential\":[[0.0,\"#440154\"],[0.1111111111111111,\"#482878\"],[0.2222222222222222,\"#3e4989\"],[0.3333333333333333,\"#31688e\"],[0.4444444444444444,\"#26828e\"],[0.5555555555555556,\"#1f9e89\"],[0.6666666666666666,\"#35b779\"],[0.7777777777777778,\"#6ece58\"],[0.8888888888888888,\"#b5de2b\"],[1.0,\"#fde725\"]],\"sequentialminus\":[[0.0,\"#440154\"],[0.1111111111111111,\"#482878\"],[0.2222222222222222,\"#3e4989\"],[0.3333333333333333,\"#31688e\"],[0.4444444444444444,\"#26828e\"],[0.5555555555555556,\"#1f9e89\"],[0.6666666666666666,\"#35b779\"],[0.7777777777777778,\"#6ece58\"],[0.8888888888888888,\"#b5de2b\"],[1.0,\"#fde725\"]],\"diverging\":[[0.0,\"rgb(103,0,31)\"],[0.1,\"rgb(178,24,43)\"],[0.2,\"rgb(214,96,77)\"],[0.3,\"rgb(244,165,130)\"],[0.4,\"rgb(253,219,199)\"],[0.5,\"rgb(247,247,247)\"],[0.6,\"rgb(209,229,240)\"],[0.7,\"rgb(146,197,222)\"],[0.8,\"rgb(67,147,195)\"],[0.9,\"rgb(33,102,172)\"],[1.0,\"rgb(5,48,97)\"]]},\"xaxis\":{\"gridcolor\":\"rgb(232,232,232)\",\"linecolor\":\"rgb(36,36,36)\",\"showgrid\":false,\"showline\":true,\"ticks\":\"outside\",\"title\":{\"standoff\":15},\"zerolinecolor\":\"rgb(36,36,36)\",\"automargin\":true,\"zeroline\":false},\"yaxis\":{\"gridcolor\":\"rgb(232,232,232)\",\"linecolor\":\"rgb(36,36,36)\",\"showgrid\":false,\"showline\":true,\"ticks\":\"outside\",\"title\":{\"standoff\":15},\"zerolinecolor\":\"rgb(36,36,36)\",\"automargin\":true,\"zeroline\":false},\"scene\":{\"xaxis\":{\"backgroundcolor\":\"white\",\"gridcolor\":\"rgb(232,232,232)\",\"linecolor\":\"rgb(36,36,36)\",\"showbackground\":true,\"showgrid\":false,\"showline\":true,\"ticks\":\"outside\",\"zerolinecolor\":\"rgb(36,36,36)\",\"gridwidth\":2,\"zeroline\":false},\"yaxis\":{\"backgroundcolor\":\"white\",\"gridcolor\":\"rgb(232,232,232)\",\"linecolor\":\"rgb(36,36,36)\",\"showbackground\":true,\"showgrid\":false,\"showline\":true,\"ticks\":\"outside\",\"zerolinecolor\":\"rgb(36,36,36)\",\"gridwidth\":2,\"zeroline\":false},\"zaxis\":{\"backgroundcolor\":\"white\",\"gridcolor\":\"rgb(232,232,232)\",\"linecolor\":\"rgb(36,36,36)\",\"showbackground\":true,\"showgrid\":false,\"showline\":true,\"ticks\":\"outside\",\"zerolinecolor\":\"rgb(36,36,36)\",\"gridwidth\":2,\"zeroline\":false}},\"shapedefaults\":{\"fillcolor\":\"black\",\"line\":{\"width\":0},\"opacity\":0.3},\"annotationdefaults\":{\"arrowhead\":0,\"arrowwidth\":1},\"geo\":{\"bgcolor\":\"white\",\"landcolor\":\"white\",\"subunitcolor\":\"white\",\"showland\":true,\"showlakes\":true,\"lakecolor\":\"white\"},\"title\":{\"x\":0.05},\"mapbox\":{\"style\":\"light\"}}},\"xaxis\":{\"anchor\":\"y\",\"domain\":[0.0,1.0],\"title\":{\"text\":\"Project Age (years)\"}},\"yaxis\":{\"anchor\":\"x\",\"domain\":[0.32,1.0],\"title\":{\"text\":\"GitHub Stars Count\"}},\"title\":{\"text\":\"Cytomining Ecosystem Software Landscape Analysis: Microscopy Analysis Tools\"},\"legend\":{\"tracegroupgap\":800},\"height\":1200},                        {\"responsive\": true}                    ).then(function(){\n",
       "                            \n",
       "var gd = document.getElementById('207a034f-c251-4e7d-a73f-c4bb24811737');\n",
       "var x = new MutationObserver(function (mutations, observer) {{\n",
       "        var display = window.getComputedStyle(gd).display;\n",
       "        if (!display || display === 'none') {{\n",
       "            console.log([gd, 'removed!']);\n",
       "            Plotly.purge(gd);\n",
       "            observer.disconnect();\n",
       "        }}\n",
       "}});\n",
       "\n",
       "// Listen for the removal of the full notebook cells\n",
       "var notebookContainer = gd.closest('#notebook-container');\n",
       "if (notebookContainer) {{\n",
       "    x.observe(notebookContainer, {childList: true});\n",
       "}}\n",
       "\n",
       "// Listen for the clearing of the current output cell\n",
       "var outputEl = gd.closest('.output');\n",
       "if (outputEl) {{\n",
       "    x.observe(outputEl, {childList: true});\n",
       "}}\n",
       "\n",
       "                        })                };                });            </script>        </div>"
      ]
     },
     "metadata": {},
     "output_type": "display_data"
    }
   ],
   "source": [
    "for category in (\n",
    "    df_projects[df_projects[\"category\"] != \"loi-focus\"][\"category\"].dropna().unique()\n",
    "):\n",
    "    target_df = df_projects[df_projects[\"category\"].isin([\"loi-focus\", category])]\n",
    "    category_title = category.replace(\"-\", \" \").title()\n",
    "    create_plots_for_categories(target_df, category_title)"
   ]
  },
  {
   "cell_type": "code",
   "execution_count": 15,
   "id": "f8f7ef7a-e6a4-46e0-b86f-8d2e73a4a11a",
   "metadata": {
    "tags": []
   },
   "outputs": [
    {
     "data": {
      "application/vnd.plotly.v1+json": {
       "config": {
        "plotlyServerURL": "https://plot.ly"
       },
       "data": [
        {
         "hovertemplate": "<b>%{hovertext}</b><br><br>category=cytomining-ecosystem-relevant-open-source<br>Duration Created to Now in Years=%{x}<br>GitHub Forks=%{y}<br>GitHub Contributors=%{marker.size}<extra></extra>",
         "hovertext": [
          "pandas",
          "numpy",
          "arrow",
          "duckdb",
          "parquet-mr",
          "snakemake",
          "anndata",
          "parsl"
         ],
         "legendgroup": "cytomining-ecosystem-relevant-open-source",
         "marker": {
          "color": "#1F77B4",
          "size": [
           411,
           435,
           366,
           253,
           189,
           280,
           43,
           79
          ],
          "sizemin": 5,
          "sizemode": "area",
          "sizeref": 1.0875,
          "symbol": "circle"
         },
         "mode": "markers",
         "name": "cytomining-ecosystem-relevant-open-source",
         "showlegend": true,
         "type": "scattergl",
         "x": [
          13.145205479452056,
          13.087671232876712,
          7.657534246575342,
          5.301369863013699,
          9.347945205479451,
          4.027397260273973,
          6.175342465753425,
          6.983561643835617
         ],
         "xaxis": "x",
         "y": [
          16798,
          8644,
          3094,
          1154,
          1332,
          475,
          138,
          124
         ],
         "yaxis": "y"
        },
        {
         "hovertemplate": "<b>%{hovertext}</b><br><br>category=microscopy-analysis-tools<br>Duration Created to Now in Years=%{x}<br>GitHub Forks=%{y}<br>GitHub Contributors=%{marker.size}<extra></extra>",
         "hovertext": [
          "napari",
          "qupath",
          "CellProfiler",
          "ImageJ",
          "DeepProfiler",
          "BioProfiling.jl",
          "phenoripper"
         ],
         "legendgroup": "microscopy-analysis-tools",
         "marker": {
          "color": "#2CA02C",
          "size": [
           150,
           17,
           66,
           3,
           11,
           1,
           0
          ],
          "sizemin": 5,
          "sizemode": "area",
          "sizeref": 1.0875,
          "symbol": "circle"
         },
         "mode": "markers",
         "name": "microscopy-analysis-tools",
         "showlegend": true,
         "type": "scattergl",
         "x": [
          5.16986301369863,
          7.1287671232876715,
          12.531506849315068,
          12.208219178082192,
          6.926027397260274,
          3.665753424657534,
          11.282191780821918
         ],
         "xaxis": "x",
         "y": [
          389,
          262,
          363,
          173,
          37,
          1,
          1
         ],
         "yaxis": "y"
        },
        {
         "hovertemplate": "<b>%{hovertext}</b><br><br>category=loi-focus<br>Duration Created to Now in Years=%{x}<br>GitHub Forks=%{y}<br>GitHub Contributors=%{marker.size}<extra></extra>",
         "hovertext": [
          "pycytominer",
          "IDR_stream",
          "CytoTable",
          "CytoSnake"
         ],
         "legendgroup": "loi-focus",
         "marker": {
          "color": "#D62728",
          "size": [
           22,
           2,
           4,
           3
          ],
          "sizemin": 5,
          "sizemode": "area",
          "sizeref": 1.0875,
          "symbol": "circle"
         },
         "mode": "markers",
         "name": "loi-focus",
         "showlegend": true,
         "type": "scattergl",
         "x": [
          4.282191780821917,
          1.178082191780822,
          1.095890410958904,
          1.6575342465753424
         ],
         "xaxis": "x",
         "y": [
          32,
          2,
          4,
          3
         ],
         "yaxis": "y"
        }
       ],
       "layout": {
        "height": 500,
        "legend": {
         "bgcolor": "rgba(0, 0, 0, 0)",
         "itemsizing": "constant",
         "title": {
          "text": "category"
         },
         "tracegroupgap": 0,
         "traceorder": "normal",
         "x": 0.005,
         "y": 1.0005
        },
        "margin": {
         "t": 60
        },
        "template": {
         "data": {
          "bar": [
           {
            "error_x": {
             "color": "rgb(36,36,36)"
            },
            "error_y": {
             "color": "rgb(36,36,36)"
            },
            "marker": {
             "line": {
              "color": "white",
              "width": 0.5
             },
             "pattern": {
              "fillmode": "overlay",
              "size": 10,
              "solidity": 0.2
             }
            },
            "type": "bar"
           }
          ],
          "barpolar": [
           {
            "marker": {
             "line": {
              "color": "white",
              "width": 0.5
             },
             "pattern": {
              "fillmode": "overlay",
              "size": 10,
              "solidity": 0.2
             }
            },
            "type": "barpolar"
           }
          ],
          "carpet": [
           {
            "aaxis": {
             "endlinecolor": "rgb(36,36,36)",
             "gridcolor": "white",
             "linecolor": "white",
             "minorgridcolor": "white",
             "startlinecolor": "rgb(36,36,36)"
            },
            "baxis": {
             "endlinecolor": "rgb(36,36,36)",
             "gridcolor": "white",
             "linecolor": "white",
             "minorgridcolor": "white",
             "startlinecolor": "rgb(36,36,36)"
            },
            "type": "carpet"
           }
          ],
          "choropleth": [
           {
            "colorbar": {
             "outlinewidth": 1,
             "tickcolor": "rgb(36,36,36)",
             "ticks": "outside"
            },
            "type": "choropleth"
           }
          ],
          "contour": [
           {
            "colorbar": {
             "outlinewidth": 1,
             "tickcolor": "rgb(36,36,36)",
             "ticks": "outside"
            },
            "colorscale": [
             [
              0,
              "#440154"
             ],
             [
              0.1111111111111111,
              "#482878"
             ],
             [
              0.2222222222222222,
              "#3e4989"
             ],
             [
              0.3333333333333333,
              "#31688e"
             ],
             [
              0.4444444444444444,
              "#26828e"
             ],
             [
              0.5555555555555556,
              "#1f9e89"
             ],
             [
              0.6666666666666666,
              "#35b779"
             ],
             [
              0.7777777777777778,
              "#6ece58"
             ],
             [
              0.8888888888888888,
              "#b5de2b"
             ],
             [
              1,
              "#fde725"
             ]
            ],
            "type": "contour"
           }
          ],
          "contourcarpet": [
           {
            "colorbar": {
             "outlinewidth": 1,
             "tickcolor": "rgb(36,36,36)",
             "ticks": "outside"
            },
            "type": "contourcarpet"
           }
          ],
          "heatmap": [
           {
            "colorbar": {
             "outlinewidth": 1,
             "tickcolor": "rgb(36,36,36)",
             "ticks": "outside"
            },
            "colorscale": [
             [
              0,
              "#440154"
             ],
             [
              0.1111111111111111,
              "#482878"
             ],
             [
              0.2222222222222222,
              "#3e4989"
             ],
             [
              0.3333333333333333,
              "#31688e"
             ],
             [
              0.4444444444444444,
              "#26828e"
             ],
             [
              0.5555555555555556,
              "#1f9e89"
             ],
             [
              0.6666666666666666,
              "#35b779"
             ],
             [
              0.7777777777777778,
              "#6ece58"
             ],
             [
              0.8888888888888888,
              "#b5de2b"
             ],
             [
              1,
              "#fde725"
             ]
            ],
            "type": "heatmap"
           }
          ],
          "heatmapgl": [
           {
            "colorbar": {
             "outlinewidth": 1,
             "tickcolor": "rgb(36,36,36)",
             "ticks": "outside"
            },
            "colorscale": [
             [
              0,
              "#440154"
             ],
             [
              0.1111111111111111,
              "#482878"
             ],
             [
              0.2222222222222222,
              "#3e4989"
             ],
             [
              0.3333333333333333,
              "#31688e"
             ],
             [
              0.4444444444444444,
              "#26828e"
             ],
             [
              0.5555555555555556,
              "#1f9e89"
             ],
             [
              0.6666666666666666,
              "#35b779"
             ],
             [
              0.7777777777777778,
              "#6ece58"
             ],
             [
              0.8888888888888888,
              "#b5de2b"
             ],
             [
              1,
              "#fde725"
             ]
            ],
            "type": "heatmapgl"
           }
          ],
          "histogram": [
           {
            "marker": {
             "line": {
              "color": "white",
              "width": 0.6
             }
            },
            "type": "histogram"
           }
          ],
          "histogram2d": [
           {
            "colorbar": {
             "outlinewidth": 1,
             "tickcolor": "rgb(36,36,36)",
             "ticks": "outside"
            },
            "colorscale": [
             [
              0,
              "#440154"
             ],
             [
              0.1111111111111111,
              "#482878"
             ],
             [
              0.2222222222222222,
              "#3e4989"
             ],
             [
              0.3333333333333333,
              "#31688e"
             ],
             [
              0.4444444444444444,
              "#26828e"
             ],
             [
              0.5555555555555556,
              "#1f9e89"
             ],
             [
              0.6666666666666666,
              "#35b779"
             ],
             [
              0.7777777777777778,
              "#6ece58"
             ],
             [
              0.8888888888888888,
              "#b5de2b"
             ],
             [
              1,
              "#fde725"
             ]
            ],
            "type": "histogram2d"
           }
          ],
          "histogram2dcontour": [
           {
            "colorbar": {
             "outlinewidth": 1,
             "tickcolor": "rgb(36,36,36)",
             "ticks": "outside"
            },
            "colorscale": [
             [
              0,
              "#440154"
             ],
             [
              0.1111111111111111,
              "#482878"
             ],
             [
              0.2222222222222222,
              "#3e4989"
             ],
             [
              0.3333333333333333,
              "#31688e"
             ],
             [
              0.4444444444444444,
              "#26828e"
             ],
             [
              0.5555555555555556,
              "#1f9e89"
             ],
             [
              0.6666666666666666,
              "#35b779"
             ],
             [
              0.7777777777777778,
              "#6ece58"
             ],
             [
              0.8888888888888888,
              "#b5de2b"
             ],
             [
              1,
              "#fde725"
             ]
            ],
            "type": "histogram2dcontour"
           }
          ],
          "mesh3d": [
           {
            "colorbar": {
             "outlinewidth": 1,
             "tickcolor": "rgb(36,36,36)",
             "ticks": "outside"
            },
            "type": "mesh3d"
           }
          ],
          "parcoords": [
           {
            "line": {
             "colorbar": {
              "outlinewidth": 1,
              "tickcolor": "rgb(36,36,36)",
              "ticks": "outside"
             }
            },
            "type": "parcoords"
           }
          ],
          "pie": [
           {
            "automargin": true,
            "type": "pie"
           }
          ],
          "scatter": [
           {
            "fillpattern": {
             "fillmode": "overlay",
             "size": 10,
             "solidity": 0.2
            },
            "type": "scatter"
           }
          ],
          "scatter3d": [
           {
            "line": {
             "colorbar": {
              "outlinewidth": 1,
              "tickcolor": "rgb(36,36,36)",
              "ticks": "outside"
             }
            },
            "marker": {
             "colorbar": {
              "outlinewidth": 1,
              "tickcolor": "rgb(36,36,36)",
              "ticks": "outside"
             }
            },
            "type": "scatter3d"
           }
          ],
          "scattercarpet": [
           {
            "marker": {
             "colorbar": {
              "outlinewidth": 1,
              "tickcolor": "rgb(36,36,36)",
              "ticks": "outside"
             }
            },
            "type": "scattercarpet"
           }
          ],
          "scattergeo": [
           {
            "marker": {
             "colorbar": {
              "outlinewidth": 1,
              "tickcolor": "rgb(36,36,36)",
              "ticks": "outside"
             }
            },
            "type": "scattergeo"
           }
          ],
          "scattergl": [
           {
            "marker": {
             "colorbar": {
              "outlinewidth": 1,
              "tickcolor": "rgb(36,36,36)",
              "ticks": "outside"
             }
            },
            "type": "scattergl"
           }
          ],
          "scattermapbox": [
           {
            "marker": {
             "colorbar": {
              "outlinewidth": 1,
              "tickcolor": "rgb(36,36,36)",
              "ticks": "outside"
             }
            },
            "type": "scattermapbox"
           }
          ],
          "scatterpolar": [
           {
            "marker": {
             "colorbar": {
              "outlinewidth": 1,
              "tickcolor": "rgb(36,36,36)",
              "ticks": "outside"
             }
            },
            "type": "scatterpolar"
           }
          ],
          "scatterpolargl": [
           {
            "marker": {
             "colorbar": {
              "outlinewidth": 1,
              "tickcolor": "rgb(36,36,36)",
              "ticks": "outside"
             }
            },
            "type": "scatterpolargl"
           }
          ],
          "scatterternary": [
           {
            "marker": {
             "colorbar": {
              "outlinewidth": 1,
              "tickcolor": "rgb(36,36,36)",
              "ticks": "outside"
             }
            },
            "type": "scatterternary"
           }
          ],
          "surface": [
           {
            "colorbar": {
             "outlinewidth": 1,
             "tickcolor": "rgb(36,36,36)",
             "ticks": "outside"
            },
            "colorscale": [
             [
              0,
              "#440154"
             ],
             [
              0.1111111111111111,
              "#482878"
             ],
             [
              0.2222222222222222,
              "#3e4989"
             ],
             [
              0.3333333333333333,
              "#31688e"
             ],
             [
              0.4444444444444444,
              "#26828e"
             ],
             [
              0.5555555555555556,
              "#1f9e89"
             ],
             [
              0.6666666666666666,
              "#35b779"
             ],
             [
              0.7777777777777778,
              "#6ece58"
             ],
             [
              0.8888888888888888,
              "#b5de2b"
             ],
             [
              1,
              "#fde725"
             ]
            ],
            "type": "surface"
           }
          ],
          "table": [
           {
            "cells": {
             "fill": {
              "color": "rgb(237,237,237)"
             },
             "line": {
              "color": "white"
             }
            },
            "header": {
             "fill": {
              "color": "rgb(217,217,217)"
             },
             "line": {
              "color": "white"
             }
            },
            "type": "table"
           }
          ]
         },
         "layout": {
          "annotationdefaults": {
           "arrowhead": 0,
           "arrowwidth": 1
          },
          "autotypenumbers": "strict",
          "coloraxis": {
           "colorbar": {
            "outlinewidth": 1,
            "tickcolor": "rgb(36,36,36)",
            "ticks": "outside"
           }
          },
          "colorscale": {
           "diverging": [
            [
             0,
             "rgb(103,0,31)"
            ],
            [
             0.1,
             "rgb(178,24,43)"
            ],
            [
             0.2,
             "rgb(214,96,77)"
            ],
            [
             0.3,
             "rgb(244,165,130)"
            ],
            [
             0.4,
             "rgb(253,219,199)"
            ],
            [
             0.5,
             "rgb(247,247,247)"
            ],
            [
             0.6,
             "rgb(209,229,240)"
            ],
            [
             0.7,
             "rgb(146,197,222)"
            ],
            [
             0.8,
             "rgb(67,147,195)"
            ],
            [
             0.9,
             "rgb(33,102,172)"
            ],
            [
             1,
             "rgb(5,48,97)"
            ]
           ],
           "sequential": [
            [
             0,
             "#440154"
            ],
            [
             0.1111111111111111,
             "#482878"
            ],
            [
             0.2222222222222222,
             "#3e4989"
            ],
            [
             0.3333333333333333,
             "#31688e"
            ],
            [
             0.4444444444444444,
             "#26828e"
            ],
            [
             0.5555555555555556,
             "#1f9e89"
            ],
            [
             0.6666666666666666,
             "#35b779"
            ],
            [
             0.7777777777777778,
             "#6ece58"
            ],
            [
             0.8888888888888888,
             "#b5de2b"
            ],
            [
             1,
             "#fde725"
            ]
           ],
           "sequentialminus": [
            [
             0,
             "#440154"
            ],
            [
             0.1111111111111111,
             "#482878"
            ],
            [
             0.2222222222222222,
             "#3e4989"
            ],
            [
             0.3333333333333333,
             "#31688e"
            ],
            [
             0.4444444444444444,
             "#26828e"
            ],
            [
             0.5555555555555556,
             "#1f9e89"
            ],
            [
             0.6666666666666666,
             "#35b779"
            ],
            [
             0.7777777777777778,
             "#6ece58"
            ],
            [
             0.8888888888888888,
             "#b5de2b"
            ],
            [
             1,
             "#fde725"
            ]
           ]
          },
          "colorway": [
           "#1F77B4",
           "#FF7F0E",
           "#2CA02C",
           "#D62728",
           "#9467BD",
           "#8C564B",
           "#E377C2",
           "#7F7F7F",
           "#BCBD22",
           "#17BECF"
          ],
          "font": {
           "color": "rgb(36,36,36)"
          },
          "geo": {
           "bgcolor": "white",
           "lakecolor": "white",
           "landcolor": "white",
           "showlakes": true,
           "showland": true,
           "subunitcolor": "white"
          },
          "hoverlabel": {
           "align": "left"
          },
          "hovermode": "closest",
          "mapbox": {
           "style": "light"
          },
          "paper_bgcolor": "white",
          "plot_bgcolor": "white",
          "polar": {
           "angularaxis": {
            "gridcolor": "rgb(232,232,232)",
            "linecolor": "rgb(36,36,36)",
            "showgrid": false,
            "showline": true,
            "ticks": "outside"
           },
           "bgcolor": "white",
           "radialaxis": {
            "gridcolor": "rgb(232,232,232)",
            "linecolor": "rgb(36,36,36)",
            "showgrid": false,
            "showline": true,
            "ticks": "outside"
           }
          },
          "scene": {
           "xaxis": {
            "backgroundcolor": "white",
            "gridcolor": "rgb(232,232,232)",
            "gridwidth": 2,
            "linecolor": "rgb(36,36,36)",
            "showbackground": true,
            "showgrid": false,
            "showline": true,
            "ticks": "outside",
            "zeroline": false,
            "zerolinecolor": "rgb(36,36,36)"
           },
           "yaxis": {
            "backgroundcolor": "white",
            "gridcolor": "rgb(232,232,232)",
            "gridwidth": 2,
            "linecolor": "rgb(36,36,36)",
            "showbackground": true,
            "showgrid": false,
            "showline": true,
            "ticks": "outside",
            "zeroline": false,
            "zerolinecolor": "rgb(36,36,36)"
           },
           "zaxis": {
            "backgroundcolor": "white",
            "gridcolor": "rgb(232,232,232)",
            "gridwidth": 2,
            "linecolor": "rgb(36,36,36)",
            "showbackground": true,
            "showgrid": false,
            "showline": true,
            "ticks": "outside",
            "zeroline": false,
            "zerolinecolor": "rgb(36,36,36)"
           }
          },
          "shapedefaults": {
           "fillcolor": "black",
           "line": {
            "width": 0
           },
           "opacity": 0.3
          },
          "ternary": {
           "aaxis": {
            "gridcolor": "rgb(232,232,232)",
            "linecolor": "rgb(36,36,36)",
            "showgrid": false,
            "showline": true,
            "ticks": "outside"
           },
           "baxis": {
            "gridcolor": "rgb(232,232,232)",
            "linecolor": "rgb(36,36,36)",
            "showgrid": false,
            "showline": true,
            "ticks": "outside"
           },
           "bgcolor": "white",
           "caxis": {
            "gridcolor": "rgb(232,232,232)",
            "linecolor": "rgb(36,36,36)",
            "showgrid": false,
            "showline": true,
            "ticks": "outside"
           }
          },
          "title": {
           "x": 0.05
          },
          "xaxis": {
           "automargin": true,
           "gridcolor": "rgb(232,232,232)",
           "linecolor": "rgb(36,36,36)",
           "showgrid": false,
           "showline": true,
           "ticks": "outside",
           "title": {
            "standoff": 15
           },
           "zeroline": false,
           "zerolinecolor": "rgb(36,36,36)"
          },
          "yaxis": {
           "automargin": true,
           "gridcolor": "rgb(232,232,232)",
           "linecolor": "rgb(36,36,36)",
           "showgrid": false,
           "showline": true,
           "ticks": "outside",
           "title": {
            "standoff": 15
           },
           "zeroline": false,
           "zerolinecolor": "rgb(36,36,36)"
          }
         }
        },
        "title": {
         "text": "Cytomining Ecosystem Software Landscape Analysis: User Base Size"
        },
        "width": 1250,
        "xaxis": {
         "anchor": "y",
         "autorange": true,
         "domain": [
          0,
          1
         ],
         "range": [
          0.3761591394111248,
          14.019760634838594
         ],
         "title": {
          "text": "Project Age (years)"
         },
         "type": "linear"
        },
        "yaxis": {
         "anchor": "x",
         "autorange": true,
         "domain": [
          0,
          1
         ],
         "range": [
          -1242.3240287928186,
          18641.021783968175
         ],
         "title": {
          "text": "GitHub Forks Count"
         },
         "type": "linear"
        }
       }
      },
      "image/png": "[encoded data removed]",
      "text/html": [
       "<div>                            <div id=\"5b96b2ae-5fb8-4f1a-add9-fd3b29f95784\" class=\"plotly-graph-div\" style=\"height:500px; width:1250px;\"></div>            <script type=\"text/javascript\">                require([\"plotly\"], function(Plotly) {                    window.PLOTLYENV=window.PLOTLYENV || {};                                    if (document.getElementById(\"5b96b2ae-5fb8-4f1a-add9-fd3b29f95784\")) {                    Plotly.newPlot(                        \"5b96b2ae-5fb8-4f1a-add9-fd3b29f95784\",                        [{\"hovertemplate\":\"\\u003cb\\u003e%{hovertext}\\u003c\\u002fb\\u003e\\u003cbr\\u003e\\u003cbr\\u003ecategory=cytomining-ecosystem-relevant-open-source\\u003cbr\\u003eDuration Created to Now in Years=%{x}\\u003cbr\\u003eGitHub Forks=%{y}\\u003cbr\\u003eGitHub Contributors=%{marker.size}\\u003cextra\\u003e\\u003c\\u002fextra\\u003e\",\"hovertext\":[\"pandas\",\"numpy\",\"arrow\",\"duckdb\",\"parquet-mr\",\"snakemake\",\"anndata\",\"parsl\"],\"legendgroup\":\"cytomining-ecosystem-relevant-open-source\",\"marker\":{\"color\":\"#1F77B4\",\"size\":[411,435,366,253,189,280,43,79],\"sizemode\":\"area\",\"sizeref\":1.0875,\"symbol\":\"circle\",\"sizemin\":5},\"mode\":\"markers\",\"name\":\"cytomining-ecosystem-relevant-open-source\",\"showlegend\":true,\"x\":[13.145205479452056,13.087671232876712,7.657534246575342,5.301369863013699,9.347945205479451,4.027397260273973,6.175342465753425,6.983561643835617],\"xaxis\":\"x\",\"y\":[16798,8644,3094,1154,1332,475,138,124],\"yaxis\":\"y\",\"type\":\"scattergl\"},{\"hovertemplate\":\"\\u003cb\\u003e%{hovertext}\\u003c\\u002fb\\u003e\\u003cbr\\u003e\\u003cbr\\u003ecategory=microscopy-analysis-tools\\u003cbr\\u003eDuration Created to Now in Years=%{x}\\u003cbr\\u003eGitHub Forks=%{y}\\u003cbr\\u003eGitHub Contributors=%{marker.size}\\u003cextra\\u003e\\u003c\\u002fextra\\u003e\",\"hovertext\":[\"napari\",\"qupath\",\"CellProfiler\",\"ImageJ\",\"DeepProfiler\",\"BioProfiling.jl\",\"phenoripper\"],\"legendgroup\":\"microscopy-analysis-tools\",\"marker\":{\"color\":\"#2CA02C\",\"size\":[150,17,66,3,11,1,0],\"sizemode\":\"area\",\"sizeref\":1.0875,\"symbol\":\"circle\",\"sizemin\":5},\"mode\":\"markers\",\"name\":\"microscopy-analysis-tools\",\"showlegend\":true,\"x\":[5.16986301369863,7.1287671232876715,12.531506849315068,12.208219178082192,6.926027397260274,3.665753424657534,11.282191780821918],\"xaxis\":\"x\",\"y\":[389,262,363,173,37,1,1],\"yaxis\":\"y\",\"type\":\"scattergl\"},{\"hovertemplate\":\"\\u003cb\\u003e%{hovertext}\\u003c\\u002fb\\u003e\\u003cbr\\u003e\\u003cbr\\u003ecategory=loi-focus\\u003cbr\\u003eDuration Created to Now in Years=%{x}\\u003cbr\\u003eGitHub Forks=%{y}\\u003cbr\\u003eGitHub Contributors=%{marker.size}\\u003cextra\\u003e\\u003c\\u002fextra\\u003e\",\"hovertext\":[\"pycytominer\",\"IDR_stream\",\"CytoTable\",\"CytoSnake\"],\"legendgroup\":\"loi-focus\",\"marker\":{\"color\":\"#D62728\",\"size\":[22,2,4,3],\"sizemode\":\"area\",\"sizeref\":1.0875,\"symbol\":\"circle\",\"sizemin\":5},\"mode\":\"markers\",\"name\":\"loi-focus\",\"showlegend\":true,\"x\":[4.282191780821917,1.178082191780822,1.095890410958904,1.6575342465753424],\"xaxis\":\"x\",\"y\":[32,2,4,3],\"yaxis\":\"y\",\"type\":\"scattergl\"}],                        {\"template\":{\"data\":{\"histogram2dcontour\":[{\"type\":\"histogram2dcontour\",\"colorbar\":{\"outlinewidth\":1,\"tickcolor\":\"rgb(36,36,36)\",\"ticks\":\"outside\"},\"colorscale\":[[0.0,\"#440154\"],[0.1111111111111111,\"#482878\"],[0.2222222222222222,\"#3e4989\"],[0.3333333333333333,\"#31688e\"],[0.4444444444444444,\"#26828e\"],[0.5555555555555556,\"#1f9e89\"],[0.6666666666666666,\"#35b779\"],[0.7777777777777778,\"#6ece58\"],[0.8888888888888888,\"#b5de2b\"],[1.0,\"#fde725\"]]}],\"choropleth\":[{\"type\":\"choropleth\",\"colorbar\":{\"outlinewidth\":1,\"tickcolor\":\"rgb(36,36,36)\",\"ticks\":\"outside\"}}],\"histogram2d\":[{\"type\":\"histogram2d\",\"colorbar\":{\"outlinewidth\":1,\"tickcolor\":\"rgb(36,36,36)\",\"ticks\":\"outside\"},\"colorscale\":[[0.0,\"#440154\"],[0.1111111111111111,\"#482878\"],[0.2222222222222222,\"#3e4989\"],[0.3333333333333333,\"#31688e\"],[0.4444444444444444,\"#26828e\"],[0.5555555555555556,\"#1f9e89\"],[0.6666666666666666,\"#35b779\"],[0.7777777777777778,\"#6ece58\"],[0.8888888888888888,\"#b5de2b\"],[1.0,\"#fde725\"]]}],\"heatmap\":[{\"type\":\"heatmap\",\"colorbar\":{\"outlinewidth\":1,\"tickcolor\":\"rgb(36,36,36)\",\"ticks\":\"outside\"},\"colorscale\":[[0.0,\"#440154\"],[0.1111111111111111,\"#482878\"],[0.2222222222222222,\"#3e4989\"],[0.3333333333333333,\"#31688e\"],[0.4444444444444444,\"#26828e\"],[0.5555555555555556,\"#1f9e89\"],[0.6666666666666666,\"#35b779\"],[0.7777777777777778,\"#6ece58\"],[0.8888888888888888,\"#b5de2b\"],[1.0,\"#fde725\"]]}],\"heatmapgl\":[{\"type\":\"heatmapgl\",\"colorbar\":{\"outlinewidth\":1,\"tickcolor\":\"rgb(36,36,36)\",\"ticks\":\"outside\"},\"colorscale\":[[0.0,\"#440154\"],[0.1111111111111111,\"#482878\"],[0.2222222222222222,\"#3e4989\"],[0.3333333333333333,\"#31688e\"],[0.4444444444444444,\"#26828e\"],[0.5555555555555556,\"#1f9e89\"],[0.6666666666666666,\"#35b779\"],[0.7777777777777778,\"#6ece58\"],[0.8888888888888888,\"#b5de2b\"],[1.0,\"#fde725\"]]}],\"contourcarpet\":[{\"type\":\"contourcarpet\",\"colorbar\":{\"outlinewidth\":1,\"tickcolor\":\"rgb(36,36,36)\",\"ticks\":\"outside\"}}],\"contour\":[{\"type\":\"contour\",\"colorbar\":{\"outlinewidth\":1,\"tickcolor\":\"rgb(36,36,36)\",\"ticks\":\"outside\"},\"colorscale\":[[0.0,\"#440154\"],[0.1111111111111111,\"#482878\"],[0.2222222222222222,\"#3e4989\"],[0.3333333333333333,\"#31688e\"],[0.4444444444444444,\"#26828e\"],[0.5555555555555556,\"#1f9e89\"],[0.6666666666666666,\"#35b779\"],[0.7777777777777778,\"#6ece58\"],[0.8888888888888888,\"#b5de2b\"],[1.0,\"#fde725\"]]}],\"surface\":[{\"type\":\"surface\",\"colorbar\":{\"outlinewidth\":1,\"tickcolor\":\"rgb(36,36,36)\",\"ticks\":\"outside\"},\"colorscale\":[[0.0,\"#440154\"],[0.1111111111111111,\"#482878\"],[0.2222222222222222,\"#3e4989\"],[0.3333333333333333,\"#31688e\"],[0.4444444444444444,\"#26828e\"],[0.5555555555555556,\"#1f9e89\"],[0.6666666666666666,\"#35b779\"],[0.7777777777777778,\"#6ece58\"],[0.8888888888888888,\"#b5de2b\"],[1.0,\"#fde725\"]]}],\"mesh3d\":[{\"type\":\"mesh3d\",\"colorbar\":{\"outlinewidth\":1,\"tickcolor\":\"rgb(36,36,36)\",\"ticks\":\"outside\"}}],\"scatter\":[{\"fillpattern\":{\"fillmode\":\"overlay\",\"size\":10,\"solidity\":0.2},\"type\":\"scatter\"}],\"parcoords\":[{\"type\":\"parcoords\",\"line\":{\"colorbar\":{\"outlinewidth\":1,\"tickcolor\":\"rgb(36,36,36)\",\"ticks\":\"outside\"}}}],\"scatterpolargl\":[{\"type\":\"scatterpolargl\",\"marker\":{\"colorbar\":{\"outlinewidth\":1,\"tickcolor\":\"rgb(36,36,36)\",\"ticks\":\"outside\"}}}],\"bar\":[{\"error_x\":{\"color\":\"rgb(36,36,36)\"},\"error_y\":{\"color\":\"rgb(36,36,36)\"},\"marker\":{\"line\":{\"color\":\"white\",\"width\":0.5},\"pattern\":{\"fillmode\":\"overlay\",\"size\":10,\"solidity\":0.2}},\"type\":\"bar\"}],\"scattergeo\":[{\"type\":\"scattergeo\",\"marker\":{\"colorbar\":{\"outlinewidth\":1,\"tickcolor\":\"rgb(36,36,36)\",\"ticks\":\"outside\"}}}],\"scatterpolar\":[{\"type\":\"scatterpolar\",\"marker\":{\"colorbar\":{\"outlinewidth\":1,\"tickcolor\":\"rgb(36,36,36)\",\"ticks\":\"outside\"}}}],\"histogram\":[{\"marker\":{\"line\":{\"color\":\"white\",\"width\":0.6}},\"type\":\"histogram\"}],\"scattergl\":[{\"type\":\"scattergl\",\"marker\":{\"colorbar\":{\"outlinewidth\":1,\"tickcolor\":\"rgb(36,36,36)\",\"ticks\":\"outside\"}}}],\"scatter3d\":[{\"type\":\"scatter3d\",\"line\":{\"colorbar\":{\"outlinewidth\":1,\"tickcolor\":\"rgb(36,36,36)\",\"ticks\":\"outside\"}},\"marker\":{\"colorbar\":{\"outlinewidth\":1,\"tickcolor\":\"rgb(36,36,36)\",\"ticks\":\"outside\"}}}],\"scattermapbox\":[{\"type\":\"scattermapbox\",\"marker\":{\"colorbar\":{\"outlinewidth\":1,\"tickcolor\":\"rgb(36,36,36)\",\"ticks\":\"outside\"}}}],\"scatterternary\":[{\"type\":\"scatterternary\",\"marker\":{\"colorbar\":{\"outlinewidth\":1,\"tickcolor\":\"rgb(36,36,36)\",\"ticks\":\"outside\"}}}],\"scattercarpet\":[{\"type\":\"scattercarpet\",\"marker\":{\"colorbar\":{\"outlinewidth\":1,\"tickcolor\":\"rgb(36,36,36)\",\"ticks\":\"outside\"}}}],\"carpet\":[{\"aaxis\":{\"endlinecolor\":\"rgb(36,36,36)\",\"gridcolor\":\"white\",\"linecolor\":\"white\",\"minorgridcolor\":\"white\",\"startlinecolor\":\"rgb(36,36,36)\"},\"baxis\":{\"endlinecolor\":\"rgb(36,36,36)\",\"gridcolor\":\"white\",\"linecolor\":\"white\",\"minorgridcolor\":\"white\",\"startlinecolor\":\"rgb(36,36,36)\"},\"type\":\"carpet\"}],\"table\":[{\"cells\":{\"fill\":{\"color\":\"rgb(237,237,237)\"},\"line\":{\"color\":\"white\"}},\"header\":{\"fill\":{\"color\":\"rgb(217,217,217)\"},\"line\":{\"color\":\"white\"}},\"type\":\"table\"}],\"barpolar\":[{\"marker\":{\"line\":{\"color\":\"white\",\"width\":0.5},\"pattern\":{\"fillmode\":\"overlay\",\"size\":10,\"solidity\":0.2}},\"type\":\"barpolar\"}],\"pie\":[{\"automargin\":true,\"type\":\"pie\"}]},\"layout\":{\"autotypenumbers\":\"strict\",\"colorway\":[\"#1F77B4\",\"#FF7F0E\",\"#2CA02C\",\"#D62728\",\"#9467BD\",\"#8C564B\",\"#E377C2\",\"#7F7F7F\",\"#BCBD22\",\"#17BECF\"],\"font\":{\"color\":\"rgb(36,36,36)\"},\"hovermode\":\"closest\",\"hoverlabel\":{\"align\":\"left\"},\"paper_bgcolor\":\"white\",\"plot_bgcolor\":\"white\",\"polar\":{\"bgcolor\":\"white\",\"angularaxis\":{\"gridcolor\":\"rgb(232,232,232)\",\"linecolor\":\"rgb(36,36,36)\",\"showgrid\":false,\"showline\":true,\"ticks\":\"outside\"},\"radialaxis\":{\"gridcolor\":\"rgb(232,232,232)\",\"linecolor\":\"rgb(36,36,36)\",\"showgrid\":false,\"showline\":true,\"ticks\":\"outside\"}},\"ternary\":{\"bgcolor\":\"white\",\"aaxis\":{\"gridcolor\":\"rgb(232,232,232)\",\"linecolor\":\"rgb(36,36,36)\",\"showgrid\":false,\"showline\":true,\"ticks\":\"outside\"},\"baxis\":{\"gridcolor\":\"rgb(232,232,232)\",\"linecolor\":\"rgb(36,36,36)\",\"showgrid\":false,\"showline\":true,\"ticks\":\"outside\"},\"caxis\":{\"gridcolor\":\"rgb(232,232,232)\",\"linecolor\":\"rgb(36,36,36)\",\"showgrid\":false,\"showline\":true,\"ticks\":\"outside\"}},\"coloraxis\":{\"colorbar\":{\"outlinewidth\":1,\"tickcolor\":\"rgb(36,36,36)\",\"ticks\":\"outside\"}},\"colorscale\":{\"sequential\":[[0.0,\"#440154\"],[0.1111111111111111,\"#482878\"],[0.2222222222222222,\"#3e4989\"],[0.3333333333333333,\"#31688e\"],[0.4444444444444444,\"#26828e\"],[0.5555555555555556,\"#1f9e89\"],[0.6666666666666666,\"#35b779\"],[0.7777777777777778,\"#6ece58\"],[0.8888888888888888,\"#b5de2b\"],[1.0,\"#fde725\"]],\"sequentialminus\":[[0.0,\"#440154\"],[0.1111111111111111,\"#482878\"],[0.2222222222222222,\"#3e4989\"],[0.3333333333333333,\"#31688e\"],[0.4444444444444444,\"#26828e\"],[0.5555555555555556,\"#1f9e89\"],[0.6666666666666666,\"#35b779\"],[0.7777777777777778,\"#6ece58\"],[0.8888888888888888,\"#b5de2b\"],[1.0,\"#fde725\"]],\"diverging\":[[0.0,\"rgb(103,0,31)\"],[0.1,\"rgb(178,24,43)\"],[0.2,\"rgb(214,96,77)\"],[0.3,\"rgb(244,165,130)\"],[0.4,\"rgb(253,219,199)\"],[0.5,\"rgb(247,247,247)\"],[0.6,\"rgb(209,229,240)\"],[0.7,\"rgb(146,197,222)\"],[0.8,\"rgb(67,147,195)\"],[0.9,\"rgb(33,102,172)\"],[1.0,\"rgb(5,48,97)\"]]},\"xaxis\":{\"gridcolor\":\"rgb(232,232,232)\",\"linecolor\":\"rgb(36,36,36)\",\"showgrid\":false,\"showline\":true,\"ticks\":\"outside\",\"title\":{\"standoff\":15},\"zerolinecolor\":\"rgb(36,36,36)\",\"automargin\":true,\"zeroline\":false},\"yaxis\":{\"gridcolor\":\"rgb(232,232,232)\",\"linecolor\":\"rgb(36,36,36)\",\"showgrid\":false,\"showline\":true,\"ticks\":\"outside\",\"title\":{\"standoff\":15},\"zerolinecolor\":\"rgb(36,36,36)\",\"automargin\":true,\"zeroline\":false},\"scene\":{\"xaxis\":{\"backgroundcolor\":\"white\",\"gridcolor\":\"rgb(232,232,232)\",\"linecolor\":\"rgb(36,36,36)\",\"showbackground\":true,\"showgrid\":false,\"showline\":true,\"ticks\":\"outside\",\"zerolinecolor\":\"rgb(36,36,36)\",\"gridwidth\":2,\"zeroline\":false},\"yaxis\":{\"backgroundcolor\":\"white\",\"gridcolor\":\"rgb(232,232,232)\",\"linecolor\":\"rgb(36,36,36)\",\"showbackground\":true,\"showgrid\":false,\"showline\":true,\"ticks\":\"outside\",\"zerolinecolor\":\"rgb(36,36,36)\",\"gridwidth\":2,\"zeroline\":false},\"zaxis\":{\"backgroundcolor\":\"white\",\"gridcolor\":\"rgb(232,232,232)\",\"linecolor\":\"rgb(36,36,36)\",\"showbackground\":true,\"showgrid\":false,\"showline\":true,\"ticks\":\"outside\",\"zerolinecolor\":\"rgb(36,36,36)\",\"gridwidth\":2,\"zeroline\":false}},\"shapedefaults\":{\"fillcolor\":\"black\",\"line\":{\"width\":0},\"opacity\":0.3},\"annotationdefaults\":{\"arrowhead\":0,\"arrowwidth\":1},\"geo\":{\"bgcolor\":\"white\",\"landcolor\":\"white\",\"subunitcolor\":\"white\",\"showland\":true,\"showlakes\":true,\"lakecolor\":\"white\"},\"title\":{\"x\":0.05},\"mapbox\":{\"style\":\"light\"}}},\"xaxis\":{\"anchor\":\"y\",\"domain\":[0.0,1.0],\"title\":{\"text\":\"Project Age (years)\"}},\"yaxis\":{\"anchor\":\"x\",\"domain\":[0.0,1.0],\"title\":{\"text\":\"GitHub Forks Count\"}},\"legend\":{\"title\":{\"text\":\"category\"},\"tracegroupgap\":0,\"itemsizing\":\"constant\",\"x\":0.005,\"y\":1.0005,\"traceorder\":\"normal\",\"bgcolor\":\"rgba(0,0,0,0)\"},\"margin\":{\"t\":60},\"height\":500,\"width\":1250,\"title\":{\"text\":\"Cytomining Ecosystem Software Landscape Analysis: User Base Size\"}},                        {\"responsive\": true}                    ).then(function(){\n",
       "                            \n",
       "var gd = document.getElementById('5b96b2ae-5fb8-4f1a-add9-fd3b29f95784');\n",
       "var x = new MutationObserver(function (mutations, observer) {{\n",
       "        var display = window.getComputedStyle(gd).display;\n",
       "        if (!display || display === 'none') {{\n",
       "            console.log([gd, 'removed!']);\n",
       "            Plotly.purge(gd);\n",
       "            observer.disconnect();\n",
       "        }}\n",
       "}});\n",
       "\n",
       "// Listen for the removal of the full notebook cells\n",
       "var notebookContainer = gd.closest('#notebook-container');\n",
       "if (notebookContainer) {{\n",
       "    x.observe(notebookContainer, {childList: true});\n",
       "}}\n",
       "\n",
       "// Listen for the clearing of the current output cell\n",
       "var outputEl = gd.closest('.output');\n",
       "if (outputEl) {{\n",
       "    x.observe(outputEl, {childList: true});\n",
       "}}\n",
       "\n",
       "                        })                };                });            </script>        </div>"
      ]
     },
     "metadata": {},
     "output_type": "display_data"
    }
   ],
   "source": [
    "# bubble scatter plot\n",
    "fig = px.scatter(\n",
    "    df_projects,\n",
    "    hover_name=\"Project Name\",\n",
    "    x=\"Duration Created to Now in Years\",\n",
    "    y=\"GitHub Forks\",\n",
    "    size=\"GitHub Contributors\",\n",
    "    color=\"category\",\n",
    "    width=1250,\n",
    "    height=500,\n",
    ")\n",
    "\n",
    "# set a minimum size for the plot points\n",
    "fig.update_traces(marker=dict(sizemin=5))\n",
    "\n",
    "# customize the chart layout\n",
    "fig.update_layout(\n",
    "    title=f\"{title_prefix}: User Base Size\",\n",
    "    xaxis_title=\"Project Age (years)\",\n",
    "    yaxis_title=\"GitHub Forks Count\",\n",
    "    # set legend placement over chart for space conservation\n",
    "    legend=dict(x=0.005, y=1.0005, traceorder=\"normal\", bgcolor=\"rgba(0,0,0,0)\"),\n",
    ")\n",
    "\n",
    "# export to html\n",
    "plot(fig, filename=f\"{export_dir}/maturity.html\", auto_open=False)\n",
    "\n",
    "# Show the chart\n",
    "fig.show()"
   ]
  },
  {
   "cell_type": "code",
   "execution_count": null,
   "id": "c904d00d-1172-403e-8197-80cf87dfed9d",
   "metadata": {},
   "outputs": [],
   "source": []
  }
 ],
 "metadata": {
  "kernelspec": {
   "display_name": "Python 3 (ipykernel)",
   "language": "python",
   "name": "python3"
  },
  "language_info": {
   "codemirror_mode": {
    "name": "ipython",
    "version": 3
   },
   "file_extension": ".py",
   "mimetype": "text/x-python",
   "name": "python",
   "nbconvert_exporter": "python",
   "pygments_lexer": "ipython3",
   "version": "3.9.16"
  }
 },
 "nbformat": 4,
 "nbformat_minor": 5
}
