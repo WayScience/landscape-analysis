{
 "cells": [
  {
   "cell_type": "markdown",
   "id": "8f88d59f-3c0d-4d33-908e-0381578065dd",
   "metadata": {},
   "source": [
    "# Project Git Metrics for Landscape Analysis\n",
    "\n",
    "Project git metrics for software landscape analysis related to Cytomining ecosystem.\n",
    "\n",
    "## Setup\n",
    "\n",
    "Set an environment variable named `LANDSCAPE_ANALYSIS_GH_TOKEN` to a [GitHub access token](https://docs.github.com/en/authentication/keeping-your-account-and-data-secure/managing-your-personal-access-tokens). E.g.: `export LANDSCAPE_ANALYSIS_GH_TOKEN=token_here`"
   ]
  },
  {
   "cell_type": "code",
   "execution_count": 1,
   "id": "fef169d9-a9ce-4b80-af16-92b02375e24a",
   "metadata": {},
   "outputs": [],
   "source": [
    "import os\n",
    "from datetime import datetime\n",
    "\n",
    "import pandas as pd\n",
    "import pytz\n",
    "from box import Box\n",
    "from github import Auth, Github\n",
    "\n",
    "# set github authorization and client\n",
    "github_client = Github(\n",
    "    auth=Auth.Token(os.environ.get(\"LANDSCAPE_ANALYSIS_GH_TOKEN\")), per_page=100\n",
    ")\n",
    "# get the current datetime\n",
    "tz = pytz.timezone(\"UTC\")\n",
    "current_datetime = datetime.now(tz)"
   ]
  },
  {
   "cell_type": "code",
   "execution_count": 2,
   "id": "5f6176ba-70a7-40c9-afe9-fa14767dfc02",
   "metadata": {
    "tags": []
   },
   "outputs": [
    {
     "name": "stdout",
     "output_type": "stream",
     "text": [
      "number of projects:  3\n",
      "project names:  ['pycytominer', 'cyosnake', 'cytotable']\n"
     ]
    }
   ],
   "source": [
    "# gather projects data\n",
    "projects = Box.from_yaml(filename=\"data/projects.yaml\").projects\n",
    "\n",
    "# check the number of projects\n",
    "print(\"number of projects: \", len(projects))\n",
    "print(\"project names: \", [project[\"name\"] for project in projects])"
   ]
  },
  {
   "cell_type": "code",
   "execution_count": 3,
   "id": "868af760-c2a3-4176-980f-956f5acd3c4b",
   "metadata": {
    "tags": []
   },
   "outputs": [
    {
     "data": {
      "text/plain": [
       "dict_keys(['name', 'tags', 'homepage_url', 'repo_url'])"
      ]
     },
     "execution_count": 3,
     "metadata": {},
     "output_type": "execute_result"
    }
   ],
   "source": [
    "# show the keys available for the projects\n",
    "projects[0].keys()"
   ]
  },
  {
   "cell_type": "code",
   "execution_count": 4,
   "id": "df84b3c2-8e76-452b-a65e-eaec57e9286e",
   "metadata": {},
   "outputs": [
    {
     "data": {
      "text/html": [
       "<div>\n",
       "<style scoped>\n",
       "    .dataframe tbody tr th:only-of-type {\n",
       "        vertical-align: middle;\n",
       "    }\n",
       "\n",
       "    .dataframe tbody tr th {\n",
       "        vertical-align: top;\n",
       "    }\n",
       "\n",
       "    .dataframe thead th {\n",
       "        text-align: right;\n",
       "    }\n",
       "</style>\n",
       "<table border=\"1\" class=\"dataframe\">\n",
       "  <thead>\n",
       "    <tr style=\"text-align: right;\">\n",
       "      <th></th>\n",
       "      <th>Project Name</th>\n",
       "      <th>GitHub Stars</th>\n",
       "      <th>GitHub Forks</th>\n",
       "      <th>GitHub Watchers</th>\n",
       "      <th>GitHub Open Issues</th>\n",
       "      <th>GitHub Contributors</th>\n",
       "      <th>GitHub License Type</th>\n",
       "      <th>Date Created</th>\n",
       "      <th>Date Most Recent Commit</th>\n",
       "      <th>Duration Created to Most Recent Commit</th>\n",
       "      <th>Duration Most Recent Commit to Now</th>\n",
       "      <th>Repository Size (KB)</th>\n",
       "    </tr>\n",
       "  </thead>\n",
       "  <tbody>\n",
       "    <tr>\n",
       "      <th>0</th>\n",
       "      <td>pycytominer</td>\n",
       "      <td>52</td>\n",
       "      <td>32</td>\n",
       "      <td>6</td>\n",
       "      <td>85</td>\n",
       "      <td>22</td>\n",
       "      <td>BSD-3-Clause</td>\n",
       "      <td>2019-07-03 18:22:51+00:00</td>\n",
       "      <td>2023-10-03 17:40:10+00:00</td>\n",
       "      <td>1552 days 23:17:19</td>\n",
       "      <td>7 days 05:05:55.063346</td>\n",
       "      <td>720941</td>\n",
       "    </tr>\n",
       "    <tr>\n",
       "      <th>1</th>\n",
       "      <td>CytoSnake</td>\n",
       "      <td>3</td>\n",
       "      <td>3</td>\n",
       "      <td>0</td>\n",
       "      <td>35</td>\n",
       "      <td>3</td>\n",
       "      <td>CC-BY-4.0</td>\n",
       "      <td>2022-02-15 18:02:45+00:00</td>\n",
       "      <td>2023-09-01 23:09:07+00:00</td>\n",
       "      <td>563 days 05:06:22</td>\n",
       "      <td>38 days 23:36:58.063346</td>\n",
       "      <td>780</td>\n",
       "    </tr>\n",
       "    <tr>\n",
       "      <th>2</th>\n",
       "      <td>CytoTable</td>\n",
       "      <td>3</td>\n",
       "      <td>4</td>\n",
       "      <td>4</td>\n",
       "      <td>42</td>\n",
       "      <td>4</td>\n",
       "      <td>BSD-3-Clause</td>\n",
       "      <td>2022-09-08 15:46:25+00:00</td>\n",
       "      <td>2023-10-06 14:01:20+00:00</td>\n",
       "      <td>392 days 22:14:55</td>\n",
       "      <td>4 days 08:44:45.063346</td>\n",
       "      <td>6817</td>\n",
       "    </tr>\n",
       "  </tbody>\n",
       "</table>\n",
       "</div>"
      ],
      "text/plain": [
       "  Project Name  GitHub Stars  GitHub Forks  GitHub Watchers  \\\n",
       "0  pycytominer            52            32                6   \n",
       "1    CytoSnake             3             3                0   \n",
       "2    CytoTable             3             4                4   \n",
       "\n",
       "   GitHub Open Issues  GitHub Contributors GitHub License Type  \\\n",
       "0                  85                   22        BSD-3-Clause   \n",
       "1                  35                    3           CC-BY-4.0   \n",
       "2                  42                    4        BSD-3-Clause   \n",
       "\n",
       "               Date Created   Date Most Recent Commit  \\\n",
       "0 2019-07-03 18:22:51+00:00 2023-10-03 17:40:10+00:00   \n",
       "1 2022-02-15 18:02:45+00:00 2023-09-01 23:09:07+00:00   \n",
       "2 2022-09-08 15:46:25+00:00 2023-10-06 14:01:20+00:00   \n",
       "\n",
       "  Duration Created to Most Recent Commit Duration Most Recent Commit to Now  \\\n",
       "0                     1552 days 23:17:19             7 days 05:05:55.063346   \n",
       "1                      563 days 05:06:22            38 days 23:36:58.063346   \n",
       "2                      392 days 22:14:55             4 days 08:44:45.063346   \n",
       "\n",
       "   Repository Size (KB)  \n",
       "0                720941  \n",
       "1                   780  \n",
       "2                  6817  "
      ]
     },
     "execution_count": 4,
     "metadata": {},
     "output_type": "execute_result"
    }
   ],
   "source": [
    "df_projects = pd.DataFrame(\n",
    "    # create a list of repo data records for a dataframe\n",
    "    [\n",
    "        {\n",
    "            \"Project Name\": repo.name,\n",
    "            \"GitHub Stars\": repo.stargazers_count,\n",
    "            \"GitHub Forks\": repo.forks_count,\n",
    "            \"GitHub Watchers\": repo.subscribers_count,\n",
    "            \"GitHub Open Issues\": repo.get_issues(state=\"open\").totalCount,\n",
    "            \"GitHub Contributors\": repo.get_contributors().totalCount,\n",
    "            \"GitHub License Type\": repo.get_license().license.spdx_id,\n",
    "            \"Date Created\": repo.created_at.replace(tzinfo=pytz.UTC),\n",
    "            \"Date Most Recent Commit\": repo.get_commits()[0].commit.author.date.replace(\n",
    "                tzinfo=pytz.UTC\n",
    "            ),\n",
    "            \"Duration Created to Most Recent Commit\": \"\",\n",
    "            \"Duration Most Recent Commit to Now\": \"\",\n",
    "            \"Repository Size (KB)\": repo.size,\n",
    "        }\n",
    "        # make a request for github repo data with pygithub\n",
    "        for repo in [\n",
    "            github_client.get_repo(project.repo_url.replace(\"https://github.com/\", \"\"))\n",
    "            for project in projects\n",
    "        ]\n",
    "    ]\n",
    ")\n",
    "\n",
    "# calculate time deltas\n",
    "df_projects[\"Duration Created to Most Recent Commit\"] = (\n",
    "    df_projects[\"Date Most Recent Commit\"] - df_projects[\"Date Created\"]\n",
    ")\n",
    "df_projects[\"Duration Most Recent Commit to Now\"] = (\n",
    "    current_datetime - df_projects[\"Date Most Recent Commit\"]\n",
    ")\n",
    "\n",
    "# show the result\n",
    "df_projects"
   ]
  }
 ],
 "metadata": {
  "kernelspec": {
   "display_name": "Python 3 (ipykernel)",
   "language": "python",
   "name": "python3"
  },
  "language_info": {
   "codemirror_mode": {
    "name": "ipython",
    "version": 3
   },
   "file_extension": ".py",
   "mimetype": "text/x-python",
   "name": "python",
   "nbconvert_exporter": "python",
   "pygments_lexer": "ipython3",
   "version": "3.9.16"
  }
 },
 "nbformat": 4,
 "nbformat_minor": 5
}
